{
 "cells": [
  {
   "cell_type": "code",
   "execution_count": 1,
   "id": "11600f58-7b2f-4b4f-a937-40c1364a37dd",
   "metadata": {
    "tags": []
   },
   "outputs": [],
   "source": [
    "import sys\n",
    "sys.path.append('../xmen/benchmarks')"
   ]
  },
  {
   "cell_type": "markdown",
   "id": "b33ea696-4fae-4420-912d-7e742db8c685",
   "metadata": {},
   "source": [
    "# Entity Simplification with OpenAI / GPT-4"
   ]
  },
  {
   "cell_type": "code",
   "execution_count": 2,
   "id": "a903fc26-d6b5-4fd7-b0fd-950030816598",
   "metadata": {
    "tags": []
   },
   "outputs": [],
   "source": [
    "from pathlib import Path\n",
    "import pandas as pd\n",
    "import datasets\n",
    "import numpy as np"
   ]
  },
  {
   "cell_type": "code",
   "execution_count": 3,
   "id": "a76935f5-02eb-468b-b448-0d395daa583f",
   "metadata": {
    "tags": []
   },
   "outputs": [],
   "source": [
    "base_path = Path.home() / '.cache' / 'xmen' / 'symptemist'"
   ]
  },
  {
   "cell_type": "code",
   "execution_count": 13,
   "id": "63d553a7-d1f4-4fea-86e9-bc4a8aa3fe83",
   "metadata": {
    "tags": []
   },
   "outputs": [
    {
     "name": "stderr",
     "output_type": "stream",
     "text": [
      "/dhc/home/florian.borchert/conda3/envs/xmen100/lib/python3.10/site-packages/datasets/load.py:929: FutureWarning: The repository for symptemist contains custom code which must be executed to correctly load the dataset. You can inspect the repository content at ../biomedical/bigbio/hub/hub_repos/symptemist/symptemist.py\n",
      "You can avoid this message in future by passing the argument `trust_remote_code=True`.\n",
      "Passing `trust_remote_code=True` will be mandatory to load this dataset from the next major release of `datasets`.\n",
      "  warnings.warn(\n"
     ]
    },
    {
     "data": {
      "application/vnd.jupyter.widget-view+json": {
       "model_id": "22da37609cf7462f8bc76802ff2ac6a7",
       "version_major": 2,
       "version_minor": 0
      },
      "text/plain": [
       "Generating train split: 0 examples [00:00, ? examples/s]"
      ]
     },
     "metadata": {},
     "output_type": "display_data"
    },
    {
     "data": {
      "application/vnd.jupyter.widget-view+json": {
       "model_id": "dba128d9bece4da2b70bc103ea7bd2e1",
       "version_major": 2,
       "version_minor": 0
      },
      "text/plain": [
       "Generating test split: 0 examples [00:00, ? examples/s]"
      ]
     },
     "metadata": {},
     "output_type": "display_data"
    }
   ],
   "source": [
    "import dataloaders\n",
    "dataset = datasets.load_dataset('../biomedical/bigbio/hub/hub_repos/symptemist/symptemist.py', 'symptemist_entities_bigbio_kb')"
   ]
  },
  {
   "cell_type": "code",
   "execution_count": 14,
   "id": "794bfbee-72bf-46cd-bcaf-8e2fe158b652",
   "metadata": {},
   "outputs": [
    {
     "name": "stdout",
     "output_type": "stream",
     "text": [
      "9092\n",
      "3104\n",
      "12196\n"
     ]
    }
   ],
   "source": [
    "j = 0\n",
    "for k, v in dataset.items():\n",
    "    i = 0\n",
    "    for k in v:\n",
    "        for e in k['entities']:\n",
    "            i += 1\n",
    "    print(i)\n",
    "    j += i\n",
    "print(j)"
   ]
  },
  {
   "cell_type": "code",
   "execution_count": null,
   "id": "97e2fc46-6e09-44ea-a0fb-4bd4e0c8bc1e",
   "metadata": {
    "tags": []
   },
   "outputs": [],
   "source": [
    "from xmen import load_kb\n",
    "kb = load_kb(base_path / 'symptemist.jsonl')"
   ]
  },
  {
   "cell_type": "code",
   "execution_count": null,
   "id": "321745a4-3f7e-44aa-9274-40bb53ae27b6",
   "metadata": {
    "tags": []
   },
   "outputs": [],
   "source": [
    "from xmen.evaluation import error_analysis, evaluate, evaluate_at_k"
   ]
  },
  {
   "cell_type": "code",
   "execution_count": null,
   "id": "7f7fed2a-7a92-443e-84f2-1ffba8cee5a9",
   "metadata": {
    "tags": []
   },
   "outputs": [],
   "source": [
    "from xmen.linkers import default_ensemble\n",
    "linker = default_ensemble(base_path / 'index', cuda=False)"
   ]
  },
  {
   "cell_type": "code",
   "execution_count": null,
   "id": "68f069a6-68d9-4270-8337-bed423ce251b",
   "metadata": {
    "tags": []
   },
   "outputs": [],
   "source": [
    "SYMPTEMIST_FEW_SHOT_EXAMPLES = [\n",
    "    (\"afebril\", \"temperatura corporal normal\"),\n",
    "    (\"induración de la vaginal testicular\", \"trastorno de testículo\"),\n",
    "    (\"formaciones mamelonadas en su interior a nivel de lóbulo superior\", \"lesión de pulmón\"),\n",
    "    (\"disnea\", \"disnea\"),\n",
    "]"
   ]
  },
  {
   "cell_type": "code",
   "execution_count": null,
   "id": "a45ed375-17d8-4f53-a5a8-954eb61403e5",
   "metadata": {
    "tags": []
   },
   "outputs": [],
   "source": [
    "def count_differences(simplified, original):\n",
    "    cnt_all = 0\n",
    "    cnt_diff = 0\n",
    "    for ds, do in zip(simplified, original):\n",
    "        for es, eo in zip(ds['entities'], do['entities']):\n",
    "            cnt_all += 1\n",
    "            if es['text'] != eo['text']:\n",
    "                cnt_diff +=1\n",
    "    return cnt_diff, cnt_all"
   ]
  },
  {
   "cell_type": "code",
   "execution_count": null,
   "id": "6d82557a-0471-4461-834c-692ea12dfd4a",
   "metadata": {
    "tags": []
   },
   "outputs": [],
   "source": [
    "MODEL = 'gpt-4-0125-preview'\n",
    "# Pre-computed for SympTEMIST to save API calls\n",
    "table_file = 'lookup_gpt-4-0125-preview_20240214-205237_prompt1.pkl'\n",
    "prompt = SYMPTEMIST_FEW_SHOT_EXAMPLES\n",
    "\n",
    "lookup_table = {}"
   ]
  },
  {
   "cell_type": "code",
   "execution_count": null,
   "id": "4180cb40-b73b-4fbc-b413-266588ec3266",
   "metadata": {
    "tags": []
   },
   "outputs": [],
   "source": [
    "import pickle\n",
    "lookup_table = pickle.load(open(table_file, 'rb')) "
   ]
  },
  {
   "cell_type": "code",
   "execution_count": null,
   "id": "5202b834-70d8-4844-9034-ad020315b501",
   "metadata": {
    "tags": []
   },
   "outputs": [],
   "source": [
    "from xmen.data.simplification import GPTSimplifier, EntitySimplification, SimplifierWrapper"
   ]
  },
  {
   "cell_type": "code",
   "execution_count": null,
   "id": "a5231a4b-df97-46a4-b438-98ccaf52be35",
   "metadata": {
    "tags": []
   },
   "outputs": [],
   "source": [
    "text_simplifier = GPTSimplifier(\n",
    "    model=MODEL, \n",
    "    open_ai_api_key=\"insert_api_key\", \n",
    "    fixed_few_shot_examples = prompt,\n",
    "    table=lookup_table\n",
    ")"
   ]
  },
  {
   "cell_type": "code",
   "execution_count": null,
   "id": "153fdaa7-5865-4f20-991d-f125e108e5a1",
   "metadata": {
    "tags": []
   },
   "outputs": [],
   "source": [
    "simplifier = EntitySimplification(text_simplifier, set_long_form=True)"
   ]
  },
  {
   "cell_type": "code",
   "execution_count": null,
   "id": "8c7ac146-d98f-4314-a1c2-38300a1d7d4a",
   "metadata": {
    "tags": []
   },
   "outputs": [],
   "source": [
    "print(text_simplifier.prompt_template.format('aumento de densidad en lóbulo inferior'))"
   ]
  },
  {
   "cell_type": "code",
   "execution_count": null,
   "id": "bad2a5fd-2a92-4e4f-92f8-76167d3dab90",
   "metadata": {
    "tags": []
   },
   "outputs": [],
   "source": [
    "text_simplifier.simplify('aumento de densidad en lóbulo inferior')"
   ]
  },
  {
   "cell_type": "markdown",
   "id": "66f43922-8396-47a4-9429-40ab1e0a7867",
   "metadata": {},
   "source": [
    "# Generate Candidates"
   ]
  },
  {
   "cell_type": "code",
   "execution_count": null,
   "id": "b182b5d9-7b4c-4567-849f-28b0259e0d8d",
   "metadata": {
    "tags": []
   },
   "outputs": [],
   "source": [
    "candidates = linker.predict_batch(dataset, top_k=64, batch_size=128)"
   ]
  },
  {
   "cell_type": "code",
   "execution_count": null,
   "id": "5be0bdb1-b419-4a79-b8d0-09eb4e9c5dc3",
   "metadata": {
    "tags": []
   },
   "outputs": [],
   "source": [
    "_ = evaluate_at_k(dataset['train'], candidates['train'])"
   ]
  },
  {
   "cell_type": "code",
   "execution_count": null,
   "id": "b5fe7abd-ab13-4b32-92a1-3aebed027cec",
   "metadata": {
    "tags": []
   },
   "outputs": [],
   "source": [
    "_ = evaluate_at_k(dataset['validation'], candidates['validation'])"
   ]
  },
  {
   "cell_type": "code",
   "execution_count": null,
   "id": "d800c439-0384-4328-abcc-ee4763dfa050",
   "metadata": {
    "tags": []
   },
   "outputs": [],
   "source": [
    "_ = evaluate_at_k(dataset['test'], candidates['test'])"
   ]
  },
  {
   "cell_type": "code",
   "execution_count": null,
   "id": "8de92a40-48fb-4f7c-9380-c00faa0dbdd0",
   "metadata": {
    "tags": []
   },
   "outputs": [],
   "source": [
    "simplified_ds = simplifier.transform_batch(candidates)\n",
    "simplified_candidates = linker.predict_batch(simplified_ds, top_k=64, batch_size=128)"
   ]
  },
  {
   "cell_type": "markdown",
   "id": "71e27c35-54fc-4add-928b-9000c868c732",
   "metadata": {},
   "source": [
    "# Determine Optimal Cutoff"
   ]
  },
  {
   "cell_type": "code",
   "execution_count": null,
   "id": "a4e0ff81-cc97-4122-a754-7308dc62ddf7",
   "metadata": {
    "tags": []
   },
   "outputs": [],
   "source": [
    "SPLIT = 'train'\n",
    "eval_candidates = candidates[SPLIT]\n",
    "eval_ds = dataset[SPLIT]\n",
    "eval_simplified_ds = simplified_candidates[SPLIT]\n",
    "\n",
    "def select_candidates(d, idx, filter_fn=lambda e: True):\n",
    "    result = []\n",
    "    for ei, ec in zip(d['entities'], eval_candidates[idx]['entities']):\n",
    "        if filter_fn(ec):\n",
    "            result.append(ec)\n",
    "        else:\n",
    "            result.append(ei)\n",
    "    return { 'entities' : result }"
   ]
  },
  {
   "cell_type": "code",
   "execution_count": null,
   "id": "de89b873-d4e0-4389-9f67-cd10a674cab2",
   "metadata": {
    "tags": []
   },
   "outputs": [],
   "source": [
    "baseline = evaluate_at_k(eval_ds, eval_candidates, silent=True)"
   ]
  },
  {
   "cell_type": "code",
   "execution_count": null,
   "id": "b1d7717f-1b91-4fbd-859b-a21d1b2c9315",
   "metadata": {
    "tags": []
   },
   "outputs": [],
   "source": [
    "cutoff_eval = []\n",
    "\n",
    "for cutoff in np.arange(0.55, 1.05, 0.05):\n",
    "    print(cutoff)\n",
    "    fn = lambda e: e['normalized'][0]['score'] >= cutoff\n",
    "    best_candidates = eval_simplified_ds.map(lambda d, i: select_candidates(d, i, fn), with_indices=True)\n",
    "    diffs = count_differences(best_candidates, eval_candidates)\n",
    "    print(diffs)\n",
    "    eval_res = evaluate_at_k(eval_ds, best_candidates, silent=True)\n",
    "    cutoff_eval_i = {'cutoff' : cutoff, 'num_changed' : diffs[0], 'num_all' : diffs[1]}\n",
    "    for i, es in eval_res.items():\n",
    "        cutoff_eval_i[i] = es['strict']['recall']\n",
    "    cutoff_eval.append(cutoff_eval_i)"
   ]
  },
  {
   "cell_type": "code",
   "execution_count": null,
   "id": "3dc40460-a72e-436f-964e-e2dd6a39fe92",
   "metadata": {
    "tags": []
   },
   "outputs": [],
   "source": [
    "cutoff_eval = pd.DataFrame(cutoff_eval).round(3)"
   ]
  },
  {
   "cell_type": "code",
   "execution_count": null,
   "id": "36fece38-7cc2-467b-b0cb-fdfad7fc9d2d",
   "metadata": {
    "tags": []
   },
   "outputs": [],
   "source": [
    "cutoff_eval"
   ]
  },
  {
   "cell_type": "code",
   "execution_count": null,
   "id": "f6ffc479-d063-4aa9-a2b7-7b86895d4437",
   "metadata": {
    "tags": []
   },
   "outputs": [],
   "source": [
    "from matplotlib import pyplot as plt\n",
    "import matplotlib\n",
    "\n",
    "matplotlib.rcParams.update({'font.size': 14, 'font.family' : 'serif'})\n",
    "\n",
    "fig, axs = plt.subplots(2, 1, figsize=(10,5), sharex=True, gridspec_kw={'height_ratios': [2, 1]}, squeeze=True)\n",
    "\n",
    "ax1 = axs[0]\n",
    "\n",
    "x_range = np.arange(0, len(cutoff_eval))\n",
    "width = 0.3       \n",
    "\n",
    "ax1.bar(x_range - 0.5 * width, \n",
    "        (cutoff_eval.set_index('cutoff')[1] - baseline[1]['strict']['recall']).values, \n",
    "        width, color='darkblue', linewidth=0.5, edgecolor='black', label='$\\Delta$ Recall@1 (pp.)')\n",
    "ax1.bar(x_range + 0.5 * width, \n",
    "        (cutoff_eval.set_index('cutoff')[64] - baseline[64]['strict']['recall']).values, \n",
    "        width, color='lightblue', linewidth=0.5, edgecolor='black', label='$\\Delta$ Recall@64 (pp.)')\n",
    "\n",
    "ax1.grid(axis='y')\n",
    "ax1.set_yticks(np.arange(-0.005, 0.03, 0.005))\n",
    "ax1.set_yticklabels([f'+{t * 100:.1f}' if t > 0 else f'{t * 100:.1f}' for t in ax1.get_yticks()])\n",
    "\n",
    "ax1.set_xticks(x_range)\n",
    "ax1.set_xticklabels(cutoff_eval.cutoff.values)\n",
    "\n",
    "ax0 = axs[1]\n",
    "ax0.grid(axis='y')\n",
    "ax0.plot(x_range, cutoff_eval.num_changed / cutoff_eval.num_all, color='red', label='Simplified Mentions (%)', marker='o')\n",
    "ax0.set_yticks(np.arange(0,1.02,0.2))\n",
    "ax0.set_yticklabels([f\"{int(t * 100)}%\" if t >= 0 and t <=1 else \"\" for t in ax0.get_yticks()])\n",
    "\n",
    "ax0.set_xlabel('Confidence Threshold for Entity Simplication')\n",
    "ax0.legend()\n",
    "\n",
    "ax0.set_xticks(x_range)\n",
    "ax0.set_xticklabels(cutoff_eval.cutoff.values)\n",
    "\n",
    "ax1.legend()\n",
    "\n",
    "#plt.savefig('diff_cutoff.png', dpi=1200, bbox_inches='tight')\n",
    "\n",
    "plt.show()"
   ]
  },
  {
   "cell_type": "code",
   "execution_count": null,
   "id": "864aa5af-5cd6-44cf-9dfd-e933ff9116de",
   "metadata": {
    "tags": []
   },
   "outputs": [],
   "source": [
    "best_cutoff = 0.85"
   ]
  },
  {
   "cell_type": "code",
   "execution_count": null,
   "id": "0dda3df6-f5d5-4c54-b0c3-439f5808ddef",
   "metadata": {
    "tags": []
   },
   "outputs": [],
   "source": [
    "# we use a SimplifierWrapper so that the original spans can be restored after candidate generatio\n",
    "simplifier_wrapper = SimplifierWrapper(\n",
    "    linker,\n",
    "    text_simplifier, \n",
    "    filter_fn=lambda c: c['normalized'][0]['score'] < best_cutoff, \n",
    "    set_long_form=True\n",
    ")\n",
    "simplified_candidates_cutoff = simplifier_wrapper.predict_batch(candidates, top_k=64, batch_size=128)"
   ]
  },
  {
   "cell_type": "code",
   "execution_count": null,
   "id": "aa1b9ec3-5a2e-45d2-b93b-b4845b047ea4",
   "metadata": {
    "tags": []
   },
   "outputs": [],
   "source": [
    "print(count_differences(simplified_candidates_cutoff['train'], dataset['train']))\n",
    "print(count_differences(simplified_candidates_cutoff['validation'], dataset['validation']))\n",
    "print(count_differences(simplified_candidates_cutoff['test'], dataset['test']))"
   ]
  },
  {
   "cell_type": "code",
   "execution_count": null,
   "id": "908c1fb6-ef49-4d4d-9b34-2a5ad25cd0c0",
   "metadata": {
    "tags": []
   },
   "outputs": [],
   "source": [
    "_ = evaluate_at_k(dataset['validation'], simplified_candidates_cutoff['validation'])"
   ]
  },
  {
   "cell_type": "code",
   "execution_count": null,
   "id": "c8a9a5ff-73f7-446e-aa3e-b283d777612d",
   "metadata": {
    "tags": []
   },
   "outputs": [],
   "source": [
    "_ = evaluate_at_k(dataset['test'], simplified_candidates_cutoff['test'])"
   ]
  },
  {
   "cell_type": "markdown",
   "id": "8e693279-cec7-4e0b-b3c6-29a23258d7f8",
   "metadata": {},
   "source": [
    "# Save"
   ]
  },
  {
   "cell_type": "code",
   "execution_count": null,
   "id": "2ea15cb9-8d1e-4022-8116-388bd97eacb3",
   "metadata": {
    "tags": []
   },
   "outputs": [],
   "source": [
    "simplified_candidates_cutoff.save_to_disk('candidates_simplified_cutoff')"
   ]
  },
  {
   "cell_type": "markdown",
   "id": "71ddb5c4-cf8a-4180-8883-3c99ad8872b4",
   "metadata": {},
   "source": [
    "# Analysis"
   ]
  },
  {
   "cell_type": "code",
   "execution_count": null,
   "id": "75546489-f9fc-40c1-930a-e5cb2a9f1254",
   "metadata": {
    "tags": []
   },
   "outputs": [],
   "source": [
    "from xmen.evaluation import error_analysis, evaluate_at_k"
   ]
  },
  {
   "cell_type": "code",
   "execution_count": null,
   "id": "b5b5f71f-87f1-405a-8ec4-c729e641ecfd",
   "metadata": {
    "tags": []
   },
   "outputs": [],
   "source": [
    "_ = evaluate_at_k(dataset['test'], candidates['test'])"
   ]
  },
  {
   "cell_type": "code",
   "execution_count": null,
   "id": "116dcde7-e04b-4d42-999d-f9383620f2ab",
   "metadata": {
    "tags": []
   },
   "outputs": [],
   "source": [
    "_ = evaluate_at_k(dataset['test'], simplified_candidates_cutoff['test'])"
   ]
  },
  {
   "cell_type": "code",
   "execution_count": null,
   "id": "1fd74a01-9067-4e28-93b9-00f554198f85",
   "metadata": {
    "tags": []
   },
   "outputs": [],
   "source": [
    "simplified_ds = simplifier.transform_batch(dataset)"
   ]
  },
  {
   "cell_type": "code",
   "execution_count": null,
   "id": "a83f15e9-1d9e-41f2-8002-c45e728d45bf",
   "metadata": {
    "tags": []
   },
   "outputs": [],
   "source": [
    "ea_before_simple_test = error_analysis(dataset['test'], candidates['test'])\n",
    "ea_after_simple_test = error_analysis(simplified_ds['test'], simplified_candidates_cutoff['test'])"
   ]
  },
  {
   "cell_type": "code",
   "execution_count": null,
   "id": "9037936b-fbb4-4fa3-a298-ca49757d443a",
   "metadata": {},
   "outputs": [],
   "source": [
    "ea_after_no_thresh_test = error_analysis(simplified_ds['test'], simplified_candidates['test'])"
   ]
  },
  {
   "cell_type": "code",
   "execution_count": null,
   "id": "7ca8bc69-23d1-42de-9fa1-8b0fb0b13090",
   "metadata": {},
   "outputs": [],
   "source": [
    "SPLIT = 'test'\n",
    "eval_candidates = candidates[SPLIT]\n",
    "eval_ds = dataset[SPLIT]\n",
    "eval_simplified_ds = simplified_candidates[SPLIT]\n",
    "\n",
    "def select_candidates(d, idx, filter_fn=lambda e: True):\n",
    "    result = []\n",
    "    for ei, ec in zip(d['entities'], eval_candidates[idx]['entities']):\n",
    "        if filter_fn(ec):\n",
    "            result.append(ec)\n",
    "        else:\n",
    "            result.append(ei)\n",
    "    return { 'entities' : result }"
   ]
  },
  {
   "cell_type": "code",
   "execution_count": null,
   "id": "c3ad311c-bd58-464c-922d-4c5e47a55495",
   "metadata": {},
   "outputs": [],
   "source": [
    "fn = lambda e: e['normalized'][0]['score'] >= best_cutoff\n",
    "best_candidates = eval_simplified_ds.map(lambda d, i: select_candidates(d, i, fn), with_indices=True)"
   ]
  },
  {
   "cell_type": "code",
   "execution_count": null,
   "id": "238db9fe-1638-4210-9ad2-f6a9a459b814",
   "metadata": {},
   "outputs": [],
   "source": [
    "def get_len(t):\n",
    "    return len(t.split(' '))\n",
    "\n",
    "def get_stats(ea_df, name, ds):\n",
    "    res = {}\n",
    "    res['name'] = name\n",
    "    word_lens = pd.Series([get_len(e['text'][0]) for d in ds for e in d['entities']])\n",
    "    res['max_length'] = int(word_lens.max())\n",
    "    res['mean_length'] = word_lens.mean().round(2)\n",
    "    res['recall_1'] = (ea_df.pred_index == 0).sum() / len(ea_df)\n",
    "    res['recall_64'] = (ea_df.pred_index >= 0).sum() / len(ea_df)\n",
    "    res['mean_score'] = ea_df.pred_top_score.mean()\n",
    "    for i in np.linspace(0.5, 1.0, 6):\n",
    "        begin, end = i, i + 0.1\n",
    "        sub_ea = ea_df[(ea_df.pred_top_score >= begin) & (ea_df.pred_top_score < end)]\n",
    "        prefix = f\"{begin}-{end}\"\n",
    "        res[f'{prefix}_len'] = len(sub_ea)\n",
    "        res[f'{prefix}_recall_1'] = (sub_ea.pred_index == 0).sum() / len(sub_ea)\n",
    "        res[f'{prefix}_recall_64'] = (sub_ea.pred_index >= 0).sum() / len(sub_ea)\n",
    "    return res"
   ]
  },
  {
   "cell_type": "code",
   "execution_count": null,
   "id": "a8124dd6-039f-47f3-8087-06a257700110",
   "metadata": {},
   "outputs": [],
   "source": [
    "df = pd.DataFrame([\n",
    "    get_stats(ea_before_simple_test, 'no_simpl', candidates['test']),\n",
    "    get_stats(ea_after_simple_test, 'simpl_thresh', best_candidates),\n",
    "    get_stats(ea_after_no_thresh_test, 'simpl_no_thresh', simplified_ds['test']),\n",
    "]).set_index('name').T\n",
    "df['delta'] = df.simpl_thresh - df.no_simpl\n",
    "df.round(3)[['no_simpl', 'simpl_thresh', 'delta', 'simpl_no_thresh']]"
   ]
  },
  {
   "cell_type": "code",
   "execution_count": null,
   "id": "4f11e485-a115-4f44-8649-e1aa0a1e3337",
   "metadata": {},
   "outputs": [],
   "source": [
    "ea_after_simple[(ea_before_simpl.pred_index == -1) & (ea_after_simple.pred_index == 0)].head(5)"
   ]
  },
  {
   "cell_type": "code",
   "execution_count": null,
   "id": "902d75a1-967a-41ab-aff5-0fb95b25dbf8",
   "metadata": {},
   "outputs": [],
   "source": [
    "both_correct = (ea_before_simpl.pred_index == 0) & (ea_after_simple.pred_index == 0)\n",
    "print(ea_before_simpl[both_correct]._word_len.mean(), ea_after_simple[both_correct]._word_len.mean())"
   ]
  },
  {
   "cell_type": "code",
   "execution_count": null,
   "id": "d699c479-b51b-4ca2-a1da-97e565c22bf0",
   "metadata": {},
   "outputs": [],
   "source": [
    "better_recall = (ea_before_simpl.pred_index == -1) & (ea_after_simple.pred_index >= 0)\n",
    "print(ea_before_simpl[better_recall]._word_len.mean(), ea_after_simple[better_recall]._word_len.mean())"
   ]
  },
  {
   "cell_type": "code",
   "execution_count": null,
   "id": "625d5ebd-84dc-4e59-92f6-29b22945de15",
   "metadata": {},
   "outputs": [],
   "source": [
    "better_recall_1 = (ea_before_simpl.pred_index == -1) & (ea_after_simple.pred_index == 0)\n",
    "print(ea_before_simpl[better_recall_1]._word_len.mean(), ea_after_simple[better_recall_1]._word_len.mean())"
   ]
  },
  {
   "cell_type": "code",
   "execution_count": null,
   "id": "97e880fd-6fb8-4d80-8b98-02fedf980978",
   "metadata": {},
   "outputs": [],
   "source": [
    "ea_after_simple[(ea_before_simpl.pred_index == -1) & (ea_after_simple.pred_index == 0)]._word_len.mean()"
   ]
  },
  {
   "cell_type": "code",
   "execution_count": null,
   "id": "0e23118a-95c6-4098-8697-c622dd715822",
   "metadata": {},
   "outputs": [],
   "source": [
    "ea_after_simple[(ea_before_simpl.pred_index == -1) & (ea_after_simple.pred_index == 0)]._word_len.mean()"
   ]
  },
  {
   "cell_type": "markdown",
   "id": "7e064855-7dc0-4c40-a8a6-489838b690e4",
   "metadata": {},
   "source": [
    "## Error Analysis by Mention Length"
   ]
  },
  {
   "cell_type": "code",
   "execution_count": null,
   "id": "3d06c300-6278-46b7-99e8-d8627a1cb590",
   "metadata": {
    "tags": []
   },
   "outputs": [],
   "source": [
    "index = []\n",
    "labels = []\n",
    "match_any = []\n",
    "match_lost = []\n",
    "better_ranking = []\n",
    "worse_ranking = []\n",
    "n_candidates = []\n",
    "\n",
    "end = 10\n",
    "\n",
    "def get_new_candidates(i):\n",
    "    return ea_after_simple[(ea_before_simpl._word_len == i) & (ea_before_simpl.pred_index == -1) & (ea_after_simple.pred_index != -1)]\n",
    "\n",
    "def get_better_ranking(i):\n",
    "    return ea_after_simple[(ea_before_simpl._word_len == i) & (ea_after_simple.pred_index != -1) & (ea_after_simple.pred_index < ea_before_simpl.pred_index)]\n",
    "\n",
    "def get_worse_ranking(i):\n",
    "    return ea_after_simple[(ea_before_simpl._word_len == i) & (ea_before_simpl.pred_index != -1) & (ea_after_simple.pred_index > ea_before_simpl.pred_index)]\n",
    "\n",
    "def get_lost_candidates(i):\n",
    "    return ea_after_simple[(ea_before_simpl._word_len == i) & (ea_before_simpl.pred_index != -1) & (ea_after_simple.pred_index == -1)]\n",
    "\n",
    "def get_n_candidates(i):\n",
    "    return ea_after_simple[(ea_before_simpl._word_len == i)]\n",
    "\n",
    "for i in range(1, end + 1):\n",
    "    n_candidates_i = get_n_candidates(i)\n",
    "    eaany = get_new_candidates(i)\n",
    "    eabetter = get_better_ranking(i)\n",
    "    ealost = get_lost_candidates(i)\n",
    "    eaworse = get_worse_ranking(i)\n",
    "    \n",
    "    n_candidates.append(len(n_candidates_i))\n",
    "    index.append(i)\n",
    "    labels.append(str(i))\n",
    "    match_any.append(len(eaany))\n",
    "    better_ranking.append(len(eabetter))\n",
    "    match_lost.append(-len(ealost))\n",
    "    worse_ranking.append(-len(eaworse))\n",
    "    \n",
    "labels.append(str(f'>{ i }'))\n",
    "\n",
    "i += 1\n",
    "\n",
    "n_candidates_i = get_n_candidates(i)\n",
    "eaany = get_new_candidates(i)\n",
    "eabetter = get_better_ranking(i)\n",
    "ealost = get_lost_candidates(i)\n",
    "eaworse = get_worse_ranking(i)\n",
    "\n",
    "n_candidates.append(len(n_candidates_i))\n",
    "index.append(i)\n",
    "match_any.append(len(eaany))\n",
    "better_ranking.append(len(eabetter))\n",
    "match_lost.append(-len(ealost))\n",
    "worse_ranking.append(-len(eaworse))"
   ]
  },
  {
   "cell_type": "code",
   "execution_count": null,
   "id": "a9969893-7156-4dba-831b-7a2cea9e2e79",
   "metadata": {
    "tags": []
   },
   "outputs": [],
   "source": [
    "def get_rel(m):\n",
    "    return [mi / ci for mi, ci in zip(m, n_candidates)]"
   ]
  },
  {
   "cell_type": "code",
   "execution_count": null,
   "id": "e62c8bcf-72fd-44ed-bb64-9b71256af58e",
   "metadata": {
    "tags": []
   },
   "outputs": [],
   "source": [
    "import numpy as np\n",
    "import matplotlib\n",
    "from matplotlib import pyplot as plt\n",
    "import matplotlib.font_manager as font_manager\n",
    "\n",
    "\n",
    "fig, axs = plt.subplots(3, 1, figsize=(8,12), gridspec_kw={'height_ratios': [0.4, 1, 1]})\n",
    "font_size_lg = 14\n",
    "font_size_sm = 12\n",
    "\n",
    "matplotlib.rcParams.update({'font.size': font_size_lg, 'font.family' : 'serif'})\n",
    "\n",
    "width = 0.2\n",
    "\n",
    "ax0 = axs[0]\n",
    "ax0.bar(np.array(index), n_candidates, width=width, label='No. Mentions', color='grey', edgecolor='black', linewidth=0.5)\n",
    "ax0.grid(axis='y')\n",
    "ax0.set_title('(a) Total number of mentions', size=font_size_lg)\n",
    "ax0.set_yticks(range(0,3000,500))\n",
    "\n",
    "ax1 = axs[1]\n",
    "\n",
    "ax1.grid(axis='y')\n",
    "\n",
    "#ax.bar(np.array(index) - width, match_0, width=width, label='')\n",
    "ax1.bar(np.array(index) - width, get_rel(match_any), width=width, label='↑ Recall', color='lightgreen', edgecolor='black', linewidth=0.5)\n",
    "ax1.bar(np.array(index), get_rel(match_lost), width=width, label='↓ Recall', color='wheat', edgecolor='black', linewidth=0.5)\n",
    "ax1.bar(np.array(index) + width, get_rel(np.array(match_any) + np.array(match_lost)), width=width, label='Difference', color='blue', edgecolor='black', linewidth=0.5)\n",
    "\n",
    "y_range = np.arange(-0.1, 0.18, 0.05)\n",
    "ax1.set_yticks(y_range)\n",
    "ax1.set_yticklabels([f'{\"+\" if i > 0 else \"\"}{round(i * 100)}pp.' for i in y_range])\n",
    "ax1.set_ylim(-0.12,0.14)\n",
    "ax1.set_title('(b) Difference in recall@64 due to entity simplification', size=font_size_lg)\n",
    "ax1.legend(loc='upper left', \n",
    "           ncol=3, fontsize=font_size_sm)    \n",
    "\n",
    "ax2 = axs[2]\n",
    "    \n",
    "ax2.bar(np.array(index) - width, get_rel(better_ranking), width=width, label='↑ Ranking', color='lightgreen', edgecolor='black', linewidth=0.5)\n",
    "ax2.bar(np.array(index), get_rel(worse_ranking), width=width, label='↓ Ranking', color='wheat', edgecolor='black', linewidth=0.5)\n",
    "ax2.bar(np.array(index) + width, get_rel(np.array(better_ranking) + np.array(worse_ranking)), width=width, label='Difference', color='blue', edgecolor='black', linewidth=0.5)\n",
    "    \n",
    "y_range_2 = np.arange(-0.2,0.3,0.05)\n",
    "ax2.set_yticks(y_range_2)\n",
    "ax2.set_yticklabels([f'{\"\" if i > 0 else \"\"}{abs(round(i * 100))}%' for i in y_range_2])\n",
    " \n",
    "ax2.legend(loc='upper left', ncol=3, fontsize=font_size_sm)\n",
    "ax2.set_title('(c) Proportion of mentions with increased / decreased ranking\\nof the ground-truth concept due to entity simplification', size=font_size_lg)\n",
    "    \n",
    "ax2.grid(axis='y')\n",
    "ax2.set_xlabel('Mention length (tokens)')\n",
    "\n",
    "for ax in axs:\n",
    "    ax.set_xlim(axs[0].get_xlim())\n",
    "    ax.set_xticks(index)\n",
    "    ax.set_xticklabels(labels)\n",
    "\n",
    "fig.tight_layout()\n",
    "    \n",
    "#plt.savefig('gain_vs_length.png', dpi=1200, bbox_inches='tight')\n",
    "plt.show()"
   ]
  },
  {
   "cell_type": "code",
   "execution_count": null,
   "id": "ce11b62b-561d-4345-bcf6-e7bc01545c78",
   "metadata": {},
   "outputs": [],
   "source": []
  }
 ],
 "metadata": {
  "kernelspec": {
   "display_name": "Python [conda env:xmen100]",
   "language": "python",
   "name": "conda-env-xmen100-py"
  },
  "language_info": {
   "codemirror_mode": {
    "name": "ipython",
    "version": 3
   },
   "file_extension": ".py",
   "mimetype": "text/x-python",
   "name": "python",
   "nbconvert_exporter": "python",
   "pygments_lexer": "ipython3",
   "version": "3.10.11"
  }
 },
 "nbformat": 4,
 "nbformat_minor": 5
}
