{
 "cells": [
  {
   "cell_type": "code",
   "execution_count": 1,
   "id": "11600f58-7b2f-4b4f-a937-40c1364a37dd",
   "metadata": {
    "tags": []
   },
   "outputs": [],
   "source": [
    "import sys\n",
    "sys.path.append('../xmen/benchmarks')"
   ]
  },
  {
   "cell_type": "markdown",
   "id": "b33ea696-4fae-4420-912d-7e742db8c685",
   "metadata": {},
   "source": [
    "# Entity Simplification with OpenAI / GPT-4"
   ]
  },
  {
   "cell_type": "code",
   "execution_count": 2,
   "id": "a903fc26-d6b5-4fd7-b0fd-950030816598",
   "metadata": {
    "tags": []
   },
   "outputs": [],
   "source": [
    "from pathlib import Path\n",
    "import pandas as pd\n",
    "import datasets\n",
    "import numpy as np"
   ]
  },
  {
   "cell_type": "code",
   "execution_count": 3,
   "id": "a76935f5-02eb-468b-b448-0d395daa583f",
   "metadata": {
    "tags": []
   },
   "outputs": [],
   "source": [
    "base_path = Path.home() / '.cache' / 'xmen' / 'symptemist'"
   ]
  },
  {
   "cell_type": "code",
   "execution_count": 4,
   "id": "63d553a7-d1f4-4fea-86e9-bc4a8aa3fe83",
   "metadata": {
    "tags": []
   },
   "outputs": [
    {
     "name": "stderr",
     "output_type": "stream",
     "text": [
      "/dhc/home/florian.borchert/conda3/envs/xmen100/lib/python3.10/site-packages/datasets/load.py:929: FutureWarning: The repository for symptemist contains custom code which must be executed to correctly load the dataset. You can inspect the repository content at /dhc/home/florian.borchert/workspace/biomedical/bigbio/hub/hub_repos/symptemist/symptemist.py\n",
      "You can avoid this message in future by passing the argument `trust_remote_code=True`.\n",
      "Passing `trust_remote_code=True` will be mandatory to load this dataset from the next major release of `datasets`.\n",
      "  warnings.warn(\n"
     ]
    },
    {
     "data": {
      "application/vnd.jupyter.widget-view+json": {
       "model_id": "1ffc13ee26a84caeb9996a94252a838b",
       "version_major": 2,
       "version_minor": 0
      },
      "text/plain": [
       "Downloading data:   0%|          | 0.00/453M [00:00<?, ?B/s]"
      ]
     },
     "metadata": {},
     "output_type": "display_data"
    },
    {
     "data": {
      "application/vnd.jupyter.widget-view+json": {
       "model_id": "d637c346f9f840c688ea8a77f47e6825",
       "version_major": 2,
       "version_minor": 0
      },
      "text/plain": [
       "Generating train split: 0 examples [00:00, ? examples/s]"
      ]
     },
     "metadata": {},
     "output_type": "display_data"
    },
    {
     "data": {
      "application/vnd.jupyter.widget-view+json": {
       "model_id": "297ca64b2a3b4932bee37d6881fa47e2",
       "version_major": 2,
       "version_minor": 0
      },
      "text/plain": [
       "Generating test split: 0 examples [00:00, ? examples/s]"
      ]
     },
     "metadata": {},
     "output_type": "display_data"
    },
    {
     "data": {
      "application/vnd.jupyter.widget-view+json": {
       "model_id": "3387978453e843b88a0174affd64f82e",
       "version_major": 2,
       "version_minor": 0
      },
      "text/plain": [
       "Filter:   0%|          | 0/744 [00:00<?, ? examples/s]"
      ]
     },
     "metadata": {},
     "output_type": "display_data"
    },
    {
     "data": {
      "application/vnd.jupyter.widget-view+json": {
       "model_id": "f2d2f98f65a84ed39ab2ad8318789165",
       "version_major": 2,
       "version_minor": 0
      },
      "text/plain": [
       "Filter:   0%|          | 0/744 [00:00<?, ? examples/s]"
      ]
     },
     "metadata": {},
     "output_type": "display_data"
    }
   ],
   "source": [
    "import dataloaders\n",
    "dataset = dataloaders.load_symptemist()[0]"
   ]
  },
  {
   "cell_type": "code",
   "execution_count": 5,
   "id": "97e2fc46-6e09-44ea-a0fb-4bd4e0c8bc1e",
   "metadata": {
    "tags": []
   },
   "outputs": [],
   "source": [
    "from xmen import load_kb\n",
    "kb = load_kb(base_path / 'symptemist.jsonl')"
   ]
  },
  {
   "cell_type": "code",
   "execution_count": 7,
   "id": "321745a4-3f7e-44aa-9274-40bb53ae27b6",
   "metadata": {
    "tags": []
   },
   "outputs": [],
   "source": [
    "from xmen.evaluation import error_analysis, evaluate, evaluate_at_k"
   ]
  },
  {
   "cell_type": "code",
   "execution_count": 9,
   "id": "7f7fed2a-7a92-443e-84f2-1ffba8cee5a9",
   "metadata": {
    "tags": []
   },
   "outputs": [
    {
     "data": {
      "text/html": [
       "<pre style=\"white-space:pre;overflow-x:auto;line-height:normal;font-family:Menlo,'DejaVu Sans Mono',consolas,'Courier New',monospace\"><span style=\"color: #7fbfbf; text-decoration-color: #7fbfbf\">[05/06/24 22:33:23] </span><span style=\"color: #000080; text-decoration-color: #000080\">INFO    </span> Loading hierarchical faiss index                                <a href=\"file:///dhc/home/florian.borchert/workspace/xmen/xmen/linkers/sap_bert_linker.py\" target=\"_blank\"><span style=\"color: #7f7f7f; text-decoration-color: #7f7f7f\">sap_bert_linker.py</span></a><span style=\"color: #7f7f7f; text-decoration-color: #7f7f7f\">:</span><a href=\"file:///dhc/home/florian.borchert/workspace/xmen/xmen/linkers/sap_bert_linker.py#153\" target=\"_blank\"><span style=\"color: #7f7f7f; text-decoration-color: #7f7f7f\">153</span></a>\n",
       "</pre>\n"
      ],
      "text/plain": [
       "\u001b[2;36m[05/06/24 22:33:23]\u001b[0m\u001b[2;36m \u001b[0m\u001b[34mINFO    \u001b[0m Loading hierarchical faiss index                                \u001b]8;id=959380;file:///dhc/home/florian.borchert/workspace/xmen/xmen/linkers/sap_bert_linker.py\u001b\\\u001b[2msap_bert_linker.py\u001b[0m\u001b]8;;\u001b\\\u001b[2m:\u001b[0m\u001b]8;id=444420;file:///dhc/home/florian.borchert/workspace/xmen/xmen/linkers/sap_bert_linker.py#153\u001b\\\u001b[2m153\u001b[0m\u001b]8;;\u001b\\\n"
      ]
     },
     "metadata": {},
     "output_type": "display_data"
    },
    {
     "data": {
      "text/html": [
       "<pre style=\"white-space:pre;overflow-x:auto;line-height:normal;font-family:Menlo,'DejaVu Sans Mono',consolas,'Courier New',monospace\"><span style=\"color: #7fbfbf; text-decoration-color: #7fbfbf\">                    </span><span style=\"color: #000080; text-decoration-color: #000080\">INFO    </span> Loading index from                                                 <a href=\"file:///dhc/home/florian.borchert/workspace/xmen/xmen/linkers/faiss_indexer.py\" target=\"_blank\"><span style=\"color: #7f7f7f; text-decoration-color: #7f7f7f\">faiss_indexer.py</span></a><span style=\"color: #7f7f7f; text-decoration-color: #7f7f7f\">:</span><a href=\"file:///dhc/home/florian.borchert/workspace/xmen/xmen/linkers/faiss_indexer.py#64\" target=\"_blank\"><span style=\"color: #7f7f7f; text-decoration-color: #7f7f7f\">64</span></a>\n",
       "<span style=\"color: #7fbfbf; text-decoration-color: #7fbfbf\">                    </span>         <span style=\"color: #800080; text-decoration-color: #800080\">/dhc/home/florian.borchert/.cache/xmen/symptemist/index/sapbert/</span><span style=\"color: #ff00ff; text-decoration-color: #ff00ff\">em</span> <span style=\"color: #7f7f7f; text-decoration-color: #7f7f7f\">                   </span>\n",
       "<span style=\"color: #7fbfbf; text-decoration-color: #7fbfbf\">                    </span>         <span style=\"color: #ff00ff; text-decoration-color: #ff00ff\">bed_faiss_hier.pickle</span>                                              <span style=\"color: #7f7f7f; text-decoration-color: #7f7f7f\">                   </span>\n",
       "</pre>\n"
      ],
      "text/plain": [
       "\u001b[2;36m                   \u001b[0m\u001b[2;36m \u001b[0m\u001b[34mINFO    \u001b[0m Loading index from                                                 \u001b]8;id=642947;file:///dhc/home/florian.borchert/workspace/xmen/xmen/linkers/faiss_indexer.py\u001b\\\u001b[2mfaiss_indexer.py\u001b[0m\u001b]8;;\u001b\\\u001b[2m:\u001b[0m\u001b]8;id=781970;file:///dhc/home/florian.borchert/workspace/xmen/xmen/linkers/faiss_indexer.py#64\u001b\\\u001b[2m64\u001b[0m\u001b]8;;\u001b\\\n",
       "\u001b[2;36m                    \u001b[0m         \u001b[35m/dhc/home/florian.borchert/.cache/xmen/symptemist/index/sapbert/\u001b[0m\u001b[95mem\u001b[0m \u001b[2m                   \u001b[0m\n",
       "\u001b[2;36m                    \u001b[0m         \u001b[95mbed_faiss_hier.pickle\u001b[0m                                              \u001b[2m                   \u001b[0m\n"
      ]
     },
     "metadata": {},
     "output_type": "display_data"
    },
    {
     "data": {
      "text/html": [
       "<pre style=\"white-space:pre;overflow-x:auto;line-height:normal;font-family:Menlo,'DejaVu Sans Mono',consolas,'Courier New',monospace\"><span style=\"color: #7fbfbf; text-decoration-color: #7fbfbf\">[05/06/24 22:33:40] </span><span style=\"color: #000080; text-decoration-color: #000080\">INFO    </span> Loaded index of type <span style=\"font-weight: bold\">&lt;</span><span style=\"color: #ff00ff; text-decoration-color: #ff00ff; font-weight: bold\">class</span><span style=\"color: #000000; text-decoration-color: #000000\"> </span><span style=\"color: #008000; text-decoration-color: #008000\">'faiss.swigfaiss_avx2.IndexHNSWFlat'</span><span style=\"font-weight: bold\">&gt;</span>  <a href=\"file:///dhc/home/florian.borchert/workspace/xmen/xmen/linkers/faiss_indexer.py\" target=\"_blank\"><span style=\"color: #7f7f7f; text-decoration-color: #7f7f7f\">faiss_indexer.py</span></a><span style=\"color: #7f7f7f; text-decoration-color: #7f7f7f\">:</span><a href=\"file:///dhc/home/florian.borchert/workspace/xmen/xmen/linkers/faiss_indexer.py#66\" target=\"_blank\"><span style=\"color: #7f7f7f; text-decoration-color: #7f7f7f\">66</span></a>\n",
       "<span style=\"color: #7fbfbf; text-decoration-color: #7fbfbf\">                    </span>         and size <span style=\"color: #008080; text-decoration-color: #008080; font-weight: bold\">1079623</span>                                                   <span style=\"color: #7f7f7f; text-decoration-color: #7f7f7f\">                   </span>\n",
       "</pre>\n"
      ],
      "text/plain": [
       "\u001b[2;36m[05/06/24 22:33:40]\u001b[0m\u001b[2;36m \u001b[0m\u001b[34mINFO    \u001b[0m Loaded index of type \u001b[1m<\u001b[0m\u001b[1;95mclass\u001b[0m\u001b[39m \u001b[0m\u001b[32m'faiss.swigfaiss_avx2.IndexHNSWFlat'\u001b[0m\u001b[1m>\u001b[0m  \u001b]8;id=670026;file:///dhc/home/florian.borchert/workspace/xmen/xmen/linkers/faiss_indexer.py\u001b\\\u001b[2mfaiss_indexer.py\u001b[0m\u001b]8;;\u001b\\\u001b[2m:\u001b[0m\u001b]8;id=57764;file:///dhc/home/florian.borchert/workspace/xmen/xmen/linkers/faiss_indexer.py#66\u001b\\\u001b[2m66\u001b[0m\u001b]8;;\u001b\\\n",
       "\u001b[2;36m                    \u001b[0m         and size \u001b[1;36m1079623\u001b[0m                                                   \u001b[2m                   \u001b[0m\n"
      ]
     },
     "metadata": {},
     "output_type": "display_data"
    }
   ],
   "source": [
    "from xmen.linkers import default_ensemble\n",
    "linker = default_ensemble(base_path / 'index', cuda=False)"
   ]
  },
  {
   "cell_type": "code",
   "execution_count": 10,
   "id": "68f069a6-68d9-4270-8337-bed423ce251b",
   "metadata": {
    "tags": []
   },
   "outputs": [],
   "source": [
    "SYMPTEMIST_FEW_SHOT_EXAMPLES = [\n",
    "    (\"afebril\", \"temperatura corporal normal\"),\n",
    "    (\"induración de la vaginal testicular\", \"trastorno de testículo\"),\n",
    "    (\"formaciones mamelonadas en su interior a nivel de lóbulo superior\", \"lesión de pulmón\"),\n",
    "    (\"disnea\", \"disnea\"),\n",
    "]"
   ]
  },
  {
   "cell_type": "code",
   "execution_count": 11,
   "id": "a45ed375-17d8-4f53-a5a8-954eb61403e5",
   "metadata": {
    "tags": []
   },
   "outputs": [],
   "source": [
    "def count_differences(simplified, original):\n",
    "    cnt_all = 0\n",
    "    cnt_diff = 0\n",
    "    for ds, do in zip(simplified, original):\n",
    "        for es, eo in zip(ds['entities'], do['entities']):\n",
    "            cnt_all += 1\n",
    "            if es['text'] != eo['text']:\n",
    "                cnt_diff +=1\n",
    "    return cnt_diff, cnt_all"
   ]
  },
  {
   "cell_type": "code",
   "execution_count": 12,
   "id": "6d82557a-0471-4461-834c-692ea12dfd4a",
   "metadata": {
    "tags": []
   },
   "outputs": [],
   "source": [
    "MODEL = 'gpt-4-0125-preview'\n",
    "# Pre-computed for SympTEMIST to save API calls\n",
    "table_file = 'lookup_gpt-4-0125-preview_20240214-205237_prompt1.pkl'\n",
    "prompt = SYMPTEMIST_FEW_SHOT_EXAMPLES\n",
    "\n",
    "lookup_table = {}"
   ]
  },
  {
   "cell_type": "code",
   "execution_count": 13,
   "id": "4180cb40-b73b-4fbc-b413-266588ec3266",
   "metadata": {
    "tags": []
   },
   "outputs": [],
   "source": [
    "import pickle\n",
    "lookup_table = pickle.load(open(table_file, 'rb')) "
   ]
  },
  {
   "cell_type": "code",
   "execution_count": 14,
   "id": "5202b834-70d8-4844-9034-ad020315b501",
   "metadata": {
    "tags": []
   },
   "outputs": [],
   "source": [
    "from xmen.data.simplification import GPTSimplifier, EntitySimplification, SimplifierWrapper"
   ]
  },
  {
   "cell_type": "code",
   "execution_count": 20,
   "id": "a5231a4b-df97-46a4-b438-98ccaf52be35",
   "metadata": {
    "tags": []
   },
   "outputs": [],
   "source": [
    "text_simplifier = GPTSimplifier(\n",
    "    model=MODEL, \n",
    "    open_ai_api_key=\"insert_api_key\", \n",
    "    fixed_few_shot_examples = prompt,\n",
    "    table=lookup_table\n",
    ")"
   ]
  },
  {
   "cell_type": "code",
   "execution_count": 21,
   "id": "153fdaa7-5865-4f20-991d-f125e108e5a1",
   "metadata": {
    "tags": []
   },
   "outputs": [],
   "source": [
    "simplifier = EntitySimplification(text_simplifier, set_long_form=True)"
   ]
  },
  {
   "cell_type": "code",
   "execution_count": 22,
   "id": "8c7ac146-d98f-4314-a1c2-38300a1d7d4a",
   "metadata": {
    "tags": []
   },
   "outputs": [
    {
     "name": "stdout",
     "output_type": "stream",
     "text": [
      "Your task is to simplify expressions, such that the simplified version is more suitable for looking up concepts in a medical terminology. If the input is already simple enough, just return the input. \n",
      "\n",
      "Here are some examples:\n",
      "Input: ```afebril```\n",
      "Simplified: ```temperatura corporal normal```\n",
      "\n",
      "Input: ```induración de la vaginal testicular```\n",
      "Simplified: ```trastorno de testículo```\n",
      "\n",
      "Input: ```formaciones mamelonadas en su interior a nivel de lóbulo superior```\n",
      "Simplified: ```lesión de pulmón```\n",
      "\n",
      "Input: ```disnea```\n",
      "Simplified: ```disnea```\n",
      "\n",
      "Input: ```aumento de densidad en lóbulo inferior```\n",
      "Simplified:\n"
     ]
    }
   ],
   "source": [
    "print(text_simplifier.prompt_template.format('aumento de densidad en lóbulo inferior'))"
   ]
  },
  {
   "cell_type": "code",
   "execution_count": 23,
   "id": "bad2a5fd-2a92-4e4f-92f8-76167d3dab90",
   "metadata": {
    "tags": []
   },
   "outputs": [
    {
     "data": {
      "text/plain": [
       "'lesión de pulmón'"
      ]
     },
     "execution_count": 23,
     "metadata": {},
     "output_type": "execute_result"
    }
   ],
   "source": [
    "text_simplifier.simplify('aumento de densidad en lóbulo inferior')"
   ]
  },
  {
   "cell_type": "markdown",
   "id": "66f43922-8396-47a4-9429-40ab1e0a7867",
   "metadata": {},
   "source": [
    "# Generate Candidates"
   ]
  },
  {
   "cell_type": "code",
   "execution_count": null,
   "id": "b182b5d9-7b4c-4567-849f-28b0259e0d8d",
   "metadata": {
    "tags": []
   },
   "outputs": [
    {
     "data": {
      "application/vnd.jupyter.widget-view+json": {
       "model_id": "264e3c59f8ee42e08f8adc785d02fe4e",
       "version_major": 2,
       "version_minor": 0
      },
      "text/plain": [
       "Map:   0%|          | 0/608 [00:00<?, ? examples/s]"
      ]
     },
     "metadata": {},
     "output_type": "display_data"
    }
   ],
   "source": [
    "candidates = linker.predict_batch(dataset, top_k=64, batch_size=128)"
   ]
  },
  {
   "cell_type": "code",
   "execution_count": 25,
   "id": "5be0bdb1-b419-4a79-b8d0-09eb4e9c5dc3",
   "metadata": {
    "tags": []
   },
   "outputs": [
    {
     "name": "stdout",
     "output_type": "stream",
     "text": [
      "Recall@1 0.43913488236153736\n",
      "Recall@2 0.5608651176384627\n",
      "Recall@4 0.6222417068537192\n",
      "Recall@8 0.6780651760923572\n",
      "Recall@16 0.7217594622241706\n",
      "Recall@32 0.7562472599736958\n",
      "Recall@64 0.7838667251205611\n"
     ]
    }
   ],
   "source": [
    "_ = evaluate_at_k(dataset['train'], candidates['train'])"
   ]
  },
  {
   "cell_type": "code",
   "execution_count": 26,
   "id": "b5fe7abd-ab13-4b32-92a1-3aebed027cec",
   "metadata": {
    "tags": []
   },
   "outputs": [
    {
     "name": "stdout",
     "output_type": "stream",
     "text": [
      "Recall@1 0.4647592463363573\n",
      "Recall@2 0.5771109560362875\n",
      "Recall@4 0.6420097697138869\n",
      "Recall@8 0.6929518492672715\n",
      "Recall@16 0.7257501744591766\n",
      "Recall@32 0.7557571528262387\n",
      "Recall@64 0.7808792742498255\n"
     ]
    }
   ],
   "source": [
    "_ = evaluate_at_k(dataset['validation'], candidates['validation'])"
   ]
  },
  {
   "cell_type": "code",
   "execution_count": 27,
   "id": "d800c439-0384-4328-abcc-ee4763dfa050",
   "metadata": {
    "tags": []
   },
   "outputs": [
    {
     "name": "stdout",
     "output_type": "stream",
     "text": [
      "Recall@1 0.4474885844748858\n",
      "Recall@2 0.5605900948366702\n",
      "Recall@4 0.6199508254302775\n",
      "Recall@8 0.6663154197400772\n",
      "Recall@16 0.7003863716192483\n",
      "Recall@32 0.7319985950122937\n",
      "Recall@64 0.7643133122585177\n"
     ]
    }
   ],
   "source": [
    "_ = evaluate_at_k(dataset['test'], candidates['test'])"
   ]
  },
  {
   "cell_type": "code",
   "execution_count": 28,
   "id": "8de92a40-48fb-4f7c-9380-c00faa0dbdd0",
   "metadata": {
    "tags": []
   },
   "outputs": [
    {
     "data": {
      "application/vnd.jupyter.widget-view+json": {
       "model_id": "990b78a1b6874a4a8f7e449263aaec4b",
       "version_major": 2,
       "version_minor": 0
      },
      "text/plain": [
       "Map:   0%|          | 0/608 [00:00<?, ? examples/s]"
      ]
     },
     "metadata": {},
     "output_type": "display_data"
    },
    {
     "data": {
      "application/vnd.jupyter.widget-view+json": {
       "model_id": "d442374780f6430189ebb4c518c26ac8",
       "version_major": 2,
       "version_minor": 0
      },
      "text/plain": [
       "Map:   0%|          | 0/246 [00:00<?, ? examples/s]"
      ]
     },
     "metadata": {},
     "output_type": "display_data"
    },
    {
     "data": {
      "application/vnd.jupyter.widget-view+json": {
       "model_id": "aebff77b314c468eb97cd0bcb0806b06",
       "version_major": 2,
       "version_minor": 0
      },
      "text/plain": [
       "Map:   0%|          | 0/136 [00:00<?, ? examples/s]"
      ]
     },
     "metadata": {},
     "output_type": "display_data"
    },
    {
     "data": {
      "application/vnd.jupyter.widget-view+json": {
       "model_id": "bcd11edde4ea4017b416ca1c66100b4b",
       "version_major": 2,
       "version_minor": 0
      },
      "text/plain": [
       "Map:   0%|          | 0/608 [00:00<?, ? examples/s]"
      ]
     },
     "metadata": {},
     "output_type": "display_data"
    },
    {
     "data": {
      "application/vnd.jupyter.widget-view+json": {
       "model_id": "3ed9ea21224e45a99f49f22b3e4144e9",
       "version_major": 2,
       "version_minor": 0
      },
      "text/plain": [
       "Map:   0%|          | 0/246 [00:00<?, ? examples/s]"
      ]
     },
     "metadata": {},
     "output_type": "display_data"
    },
    {
     "data": {
      "application/vnd.jupyter.widget-view+json": {
       "model_id": "c737f2a883474f848fe5069b905c790c",
       "version_major": 2,
       "version_minor": 0
      },
      "text/plain": [
       "Map:   0%|          | 0/136 [00:00<?, ? examples/s]"
      ]
     },
     "metadata": {},
     "output_type": "display_data"
    }
   ],
   "source": [
    "simplified_ds = simplifier.transform_batch(candidates)\n",
    "simplified_candidates = linker.predict_batch(simplified_ds, top_k=64, batch_size=128)"
   ]
  },
  {
   "cell_type": "markdown",
   "id": "71e27c35-54fc-4add-928b-9000c868c732",
   "metadata": {},
   "source": [
    "# Determine Optimal Cutoff"
   ]
  },
  {
   "cell_type": "code",
   "execution_count": 29,
   "id": "a4e0ff81-cc97-4122-a754-7308dc62ddf7",
   "metadata": {
    "tags": []
   },
   "outputs": [],
   "source": [
    "SPLIT = 'train'\n",
    "eval_candidates = candidates[SPLIT]\n",
    "eval_ds = dataset[SPLIT]\n",
    "eval_simplified_ds = simplified_candidates[SPLIT]\n",
    "\n",
    "def select_candidates(d, idx, filter_fn=lambda e: True):\n",
    "    result = []\n",
    "    for ei, ec in zip(d['entities'], eval_candidates[idx]['entities']):\n",
    "        if filter_fn(ec):\n",
    "            result.append(ec)\n",
    "        else:\n",
    "            result.append(ei)\n",
    "    return { 'entities' : result }"
   ]
  },
  {
   "cell_type": "code",
   "execution_count": 30,
   "id": "de89b873-d4e0-4389-9f67-cd10a674cab2",
   "metadata": {
    "tags": []
   },
   "outputs": [],
   "source": [
    "baseline = evaluate_at_k(eval_ds, eval_candidates, silent=True)"
   ]
  },
  {
   "cell_type": "code",
   "execution_count": 31,
   "id": "b1d7717f-1b91-4fbd-859b-a21d1b2c9315",
   "metadata": {
    "tags": []
   },
   "outputs": [
    {
     "name": "stdout",
     "output_type": "stream",
     "text": [
      "0.55\n"
     ]
    },
    {
     "data": {
      "application/vnd.jupyter.widget-view+json": {
       "model_id": "ddb37331917a4e0295f4b2fddee64f0d",
       "version_major": 2,
       "version_minor": 0
      },
      "text/plain": [
       "Map:   0%|          | 0/608 [00:00<?, ? examples/s]"
      ]
     },
     "metadata": {},
     "output_type": "display_data"
    },
    {
     "name": "stdout",
     "output_type": "stream",
     "text": [
      "(11, 6843)\n",
      "0.6000000000000001\n"
     ]
    },
    {
     "data": {
      "application/vnd.jupyter.widget-view+json": {
       "model_id": "0a7788eb898c4f89bbdafb329a5edea9",
       "version_major": 2,
       "version_minor": 0
      },
      "text/plain": [
       "Map:   0%|          | 0/608 [00:00<?, ? examples/s]"
      ]
     },
     "metadata": {},
     "output_type": "display_data"
    },
    {
     "name": "stdout",
     "output_type": "stream",
     "text": [
      "(104, 6843)\n",
      "0.6500000000000001\n"
     ]
    },
    {
     "data": {
      "application/vnd.jupyter.widget-view+json": {
       "model_id": "504785b3806b4b52bab8bf788377c011",
       "version_major": 2,
       "version_minor": 0
      },
      "text/plain": [
       "Map:   0%|          | 0/608 [00:00<?, ? examples/s]"
      ]
     },
     "metadata": {},
     "output_type": "display_data"
    },
    {
     "name": "stdout",
     "output_type": "stream",
     "text": [
      "(466, 6843)\n",
      "0.7000000000000002\n"
     ]
    },
    {
     "data": {
      "application/vnd.jupyter.widget-view+json": {
       "model_id": "4bb3d0ab4e924c5fb9d1810084b2dce3",
       "version_major": 2,
       "version_minor": 0
      },
      "text/plain": [
       "Map:   0%|          | 0/608 [00:00<?, ? examples/s]"
      ]
     },
     "metadata": {},
     "output_type": "display_data"
    },
    {
     "name": "stdout",
     "output_type": "stream",
     "text": [
      "(1089, 6843)\n",
      "0.7500000000000002\n"
     ]
    },
    {
     "data": {
      "application/vnd.jupyter.widget-view+json": {
       "model_id": "bf7cec0cb9f04b90914913211fad17d3",
       "version_major": 2,
       "version_minor": 0
      },
      "text/plain": [
       "Map:   0%|          | 0/608 [00:00<?, ? examples/s]"
      ]
     },
     "metadata": {},
     "output_type": "display_data"
    },
    {
     "name": "stdout",
     "output_type": "stream",
     "text": [
      "(1872, 6843)\n",
      "0.8000000000000003\n"
     ]
    },
    {
     "data": {
      "application/vnd.jupyter.widget-view+json": {
       "model_id": "8eb8d46d3c6d470cb9e1a68bd5cc9734",
       "version_major": 2,
       "version_minor": 0
      },
      "text/plain": [
       "Map:   0%|          | 0/608 [00:00<?, ? examples/s]"
      ]
     },
     "metadata": {},
     "output_type": "display_data"
    },
    {
     "name": "stdout",
     "output_type": "stream",
     "text": [
      "(2585, 6843)\n",
      "0.8500000000000003\n"
     ]
    },
    {
     "data": {
      "application/vnd.jupyter.widget-view+json": {
       "model_id": "89b175c898dd4751a35070d290e0d6ea",
       "version_major": 2,
       "version_minor": 0
      },
      "text/plain": [
       "Map:   0%|          | 0/608 [00:00<?, ? examples/s]"
      ]
     },
     "metadata": {},
     "output_type": "display_data"
    },
    {
     "name": "stdout",
     "output_type": "stream",
     "text": [
      "(3239, 6843)\n",
      "0.9000000000000004\n"
     ]
    },
    {
     "data": {
      "application/vnd.jupyter.widget-view+json": {
       "model_id": "4a47187ab7c6491a86b537be324bcd2f",
       "version_major": 2,
       "version_minor": 0
      },
      "text/plain": [
       "Map:   0%|          | 0/608 [00:00<?, ? examples/s]"
      ]
     },
     "metadata": {},
     "output_type": "display_data"
    },
    {
     "name": "stdout",
     "output_type": "stream",
     "text": [
      "(3864, 6843)\n",
      "0.9500000000000004\n"
     ]
    },
    {
     "data": {
      "application/vnd.jupyter.widget-view+json": {
       "model_id": "384ed41b32b74c5fb9b837f639bd70ec",
       "version_major": 2,
       "version_minor": 0
      },
      "text/plain": [
       "Map:   0%|          | 0/608 [00:00<?, ? examples/s]"
      ]
     },
     "metadata": {},
     "output_type": "display_data"
    },
    {
     "name": "stdout",
     "output_type": "stream",
     "text": [
      "(4357, 6843)\n",
      "1.0000000000000004\n"
     ]
    },
    {
     "data": {
      "application/vnd.jupyter.widget-view+json": {
       "model_id": "064e0617dd8d4794bc863c4cd370c2de",
       "version_major": 2,
       "version_minor": 0
      },
      "text/plain": [
       "Map:   0%|          | 0/608 [00:00<?, ? examples/s]"
      ]
     },
     "metadata": {},
     "output_type": "display_data"
    },
    {
     "name": "stdout",
     "output_type": "stream",
     "text": [
      "(5841, 6843)\n"
     ]
    }
   ],
   "source": [
    "cutoff_eval = []\n",
    "\n",
    "for cutoff in np.arange(0.55, 1.05, 0.05):\n",
    "    print(cutoff)\n",
    "    fn = lambda e: e['normalized'][0]['score'] >= cutoff\n",
    "    best_candidates = eval_simplified_ds.map(lambda d, i: select_candidates(d, i, fn), with_indices=True)\n",
    "    diffs = count_differences(best_candidates, eval_candidates)\n",
    "    print(diffs)\n",
    "    eval_res = evaluate_at_k(eval_ds, best_candidates, silent=True)\n",
    "    cutoff_eval_i = {'cutoff' : cutoff, 'num_changed' : diffs[0], 'num_all' : diffs[1]}\n",
    "    for i, es in eval_res.items():\n",
    "        cutoff_eval_i[i] = es['strict']['recall']\n",
    "    cutoff_eval.append(cutoff_eval_i)"
   ]
  },
  {
   "cell_type": "code",
   "execution_count": 32,
   "id": "3dc40460-a72e-436f-964e-e2dd6a39fe92",
   "metadata": {
    "tags": []
   },
   "outputs": [],
   "source": [
    "cutoff_eval = pd.DataFrame(cutoff_eval).round(3)"
   ]
  },
  {
   "cell_type": "code",
   "execution_count": 33,
   "id": "36fece38-7cc2-467b-b0cb-fdfad7fc9d2d",
   "metadata": {
    "tags": []
   },
   "outputs": [
    {
     "data": {
      "text/html": [
       "<div>\n",
       "<style scoped>\n",
       "    .dataframe tbody tr th:only-of-type {\n",
       "        vertical-align: middle;\n",
       "    }\n",
       "\n",
       "    .dataframe tbody tr th {\n",
       "        vertical-align: top;\n",
       "    }\n",
       "\n",
       "    .dataframe thead th {\n",
       "        text-align: right;\n",
       "    }\n",
       "</style>\n",
       "<table border=\"1\" class=\"dataframe\">\n",
       "  <thead>\n",
       "    <tr style=\"text-align: right;\">\n",
       "      <th></th>\n",
       "      <th>cutoff</th>\n",
       "      <th>num_changed</th>\n",
       "      <th>num_all</th>\n",
       "      <th>1</th>\n",
       "      <th>2</th>\n",
       "      <th>4</th>\n",
       "      <th>8</th>\n",
       "      <th>16</th>\n",
       "      <th>32</th>\n",
       "      <th>64</th>\n",
       "    </tr>\n",
       "  </thead>\n",
       "  <tbody>\n",
       "    <tr>\n",
       "      <th>0</th>\n",
       "      <td>0.55</td>\n",
       "      <td>11</td>\n",
       "      <td>6843</td>\n",
       "      <td>0.439</td>\n",
       "      <td>0.561</td>\n",
       "      <td>0.623</td>\n",
       "      <td>0.678</td>\n",
       "      <td>0.722</td>\n",
       "      <td>0.757</td>\n",
       "      <td>0.784</td>\n",
       "    </tr>\n",
       "    <tr>\n",
       "      <th>1</th>\n",
       "      <td>0.60</td>\n",
       "      <td>104</td>\n",
       "      <td>6843</td>\n",
       "      <td>0.439</td>\n",
       "      <td>0.561</td>\n",
       "      <td>0.623</td>\n",
       "      <td>0.678</td>\n",
       "      <td>0.722</td>\n",
       "      <td>0.756</td>\n",
       "      <td>0.784</td>\n",
       "    </tr>\n",
       "    <tr>\n",
       "      <th>2</th>\n",
       "      <td>0.65</td>\n",
       "      <td>466</td>\n",
       "      <td>6843</td>\n",
       "      <td>0.442</td>\n",
       "      <td>0.565</td>\n",
       "      <td>0.626</td>\n",
       "      <td>0.681</td>\n",
       "      <td>0.725</td>\n",
       "      <td>0.760</td>\n",
       "      <td>0.789</td>\n",
       "    </tr>\n",
       "    <tr>\n",
       "      <th>3</th>\n",
       "      <td>0.70</td>\n",
       "      <td>1089</td>\n",
       "      <td>6843</td>\n",
       "      <td>0.448</td>\n",
       "      <td>0.571</td>\n",
       "      <td>0.634</td>\n",
       "      <td>0.688</td>\n",
       "      <td>0.733</td>\n",
       "      <td>0.768</td>\n",
       "      <td>0.796</td>\n",
       "    </tr>\n",
       "    <tr>\n",
       "      <th>4</th>\n",
       "      <td>0.75</td>\n",
       "      <td>1872</td>\n",
       "      <td>6843</td>\n",
       "      <td>0.452</td>\n",
       "      <td>0.577</td>\n",
       "      <td>0.639</td>\n",
       "      <td>0.693</td>\n",
       "      <td>0.737</td>\n",
       "      <td>0.772</td>\n",
       "      <td>0.802</td>\n",
       "    </tr>\n",
       "    <tr>\n",
       "      <th>5</th>\n",
       "      <td>0.80</td>\n",
       "      <td>2585</td>\n",
       "      <td>6843</td>\n",
       "      <td>0.453</td>\n",
       "      <td>0.576</td>\n",
       "      <td>0.638</td>\n",
       "      <td>0.691</td>\n",
       "      <td>0.738</td>\n",
       "      <td>0.772</td>\n",
       "      <td>0.802</td>\n",
       "    </tr>\n",
       "    <tr>\n",
       "      <th>6</th>\n",
       "      <td>0.85</td>\n",
       "      <td>3239</td>\n",
       "      <td>6843</td>\n",
       "      <td>0.453</td>\n",
       "      <td>0.575</td>\n",
       "      <td>0.638</td>\n",
       "      <td>0.693</td>\n",
       "      <td>0.746</td>\n",
       "      <td>0.780</td>\n",
       "      <td>0.811</td>\n",
       "    </tr>\n",
       "    <tr>\n",
       "      <th>7</th>\n",
       "      <td>0.90</td>\n",
       "      <td>3864</td>\n",
       "      <td>6843</td>\n",
       "      <td>0.446</td>\n",
       "      <td>0.568</td>\n",
       "      <td>0.635</td>\n",
       "      <td>0.690</td>\n",
       "      <td>0.744</td>\n",
       "      <td>0.781</td>\n",
       "      <td>0.811</td>\n",
       "    </tr>\n",
       "    <tr>\n",
       "      <th>8</th>\n",
       "      <td>0.95</td>\n",
       "      <td>4357</td>\n",
       "      <td>6843</td>\n",
       "      <td>0.433</td>\n",
       "      <td>0.556</td>\n",
       "      <td>0.626</td>\n",
       "      <td>0.686</td>\n",
       "      <td>0.742</td>\n",
       "      <td>0.780</td>\n",
       "      <td>0.810</td>\n",
       "    </tr>\n",
       "    <tr>\n",
       "      <th>9</th>\n",
       "      <td>1.00</td>\n",
       "      <td>5841</td>\n",
       "      <td>6843</td>\n",
       "      <td>0.428</td>\n",
       "      <td>0.551</td>\n",
       "      <td>0.622</td>\n",
       "      <td>0.685</td>\n",
       "      <td>0.741</td>\n",
       "      <td>0.780</td>\n",
       "      <td>0.810</td>\n",
       "    </tr>\n",
       "  </tbody>\n",
       "</table>\n",
       "</div>"
      ],
      "text/plain": [
       "   cutoff  num_changed  num_all      1      2      4      8     16     32  \\\n",
       "0    0.55           11     6843  0.439  0.561  0.623  0.678  0.722  0.757   \n",
       "1    0.60          104     6843  0.439  0.561  0.623  0.678  0.722  0.756   \n",
       "2    0.65          466     6843  0.442  0.565  0.626  0.681  0.725  0.760   \n",
       "3    0.70         1089     6843  0.448  0.571  0.634  0.688  0.733  0.768   \n",
       "4    0.75         1872     6843  0.452  0.577  0.639  0.693  0.737  0.772   \n",
       "5    0.80         2585     6843  0.453  0.576  0.638  0.691  0.738  0.772   \n",
       "6    0.85         3239     6843  0.453  0.575  0.638  0.693  0.746  0.780   \n",
       "7    0.90         3864     6843  0.446  0.568  0.635  0.690  0.744  0.781   \n",
       "8    0.95         4357     6843  0.433  0.556  0.626  0.686  0.742  0.780   \n",
       "9    1.00         5841     6843  0.428  0.551  0.622  0.685  0.741  0.780   \n",
       "\n",
       "      64  \n",
       "0  0.784  \n",
       "1  0.784  \n",
       "2  0.789  \n",
       "3  0.796  \n",
       "4  0.802  \n",
       "5  0.802  \n",
       "6  0.811  \n",
       "7  0.811  \n",
       "8  0.810  \n",
       "9  0.810  "
      ]
     },
     "execution_count": 33,
     "metadata": {},
     "output_type": "execute_result"
    }
   ],
   "source": [
    "cutoff_eval"
   ]
  },
  {
   "cell_type": "code",
   "execution_count": 50,
   "id": "f6ffc479-d063-4aa9-a2b7-7b86895d4437",
   "metadata": {
    "tags": []
   },
   "outputs": [
    {
     "data": {
      "image/png": "[encoded data removed]",
      "text/plain": [
       "<Figure size 1000x500 with 2 Axes>"
      ]
     },
     "metadata": {},
     "output_type": "display_data"
    }
   ],
   "source": [
    "from matplotlib import pyplot as plt\n",
    "import matplotlib\n",
    "\n",
    "matplotlib.rcParams.update({'font.size': 14, 'font.family' : 'serif'})\n",
    "\n",
    "fig, axs = plt.subplots(2, 1, figsize=(10,5), sharex=True, gridspec_kw={'height_ratios': [2, 1]}, squeeze=True)\n",
    "\n",
    "ax1 = axs[0]\n",
    "\n",
    "x_range = np.arange(0, len(cutoff_eval))\n",
    "width = 0.3       \n",
    "\n",
    "ax1.bar(x_range - 0.5 * width, \n",
    "        (cutoff_eval.set_index('cutoff')[1] - baseline[1]['strict']['recall']).values, \n",
    "        width, color='darkblue', linewidth=0.5, edgecolor='black', label='$\\Delta$ Recall@1 (pp.)')\n",
    "ax1.bar(x_range + 0.5 * width, \n",
    "        (cutoff_eval.set_index('cutoff')[64] - baseline[64]['strict']['recall']).values, \n",
    "        width, color='lightblue', linewidth=0.5, edgecolor='black', label='$\\Delta$ Recall@64 (pp.)')\n",
    "\n",
    "ax1.grid(axis='y')\n",
    "ax1.set_yticks(np.arange(-0.005, 0.03, 0.005))\n",
    "ax1.set_yticklabels([f'+{t * 100:.1f}' if t > 0 else f'{t * 100:.1f}' for t in ax1.get_yticks()])\n",
    "\n",
    "ax1.set_xticks(x_range)\n",
    "ax1.set_xticklabels(cutoff_eval.cutoff.values)\n",
    "\n",
    "ax0 = axs[1]\n",
    "ax0.grid(axis='y')\n",
    "ax0.plot(x_range, cutoff_eval.num_changed / cutoff_eval.num_all, color='red', label='Simplified Mentions (%)', marker='o')\n",
    "ax0.set_yticks(np.arange(0,1.02,0.2))\n",
    "ax0.set_yticklabels([f\"{int(t * 100)}%\" if t >= 0 and t <=1 else \"\" for t in ax0.get_yticks()])\n",
    "\n",
    "ax0.set_xlabel('Confidence Threshold for Entity Simplication')\n",
    "ax0.legend()\n",
    "\n",
    "ax0.set_xticks(x_range)\n",
    "ax0.set_xticklabels(cutoff_eval.cutoff.values)\n",
    "\n",
    "ax1.legend()\n",
    "\n",
    "#plt.savefig('diff_cutoff.png', dpi=1200, bbox_inches='tight')\n",
    "\n",
    "plt.show()"
   ]
  },
  {
   "cell_type": "code",
   "execution_count": 35,
   "id": "864aa5af-5cd6-44cf-9dfd-e933ff9116de",
   "metadata": {
    "tags": []
   },
   "outputs": [],
   "source": [
    "best_cutoff = 0.85"
   ]
  },
  {
   "cell_type": "code",
   "execution_count": 36,
   "id": "0dda3df6-f5d5-4c54-b0c3-439f5808ddef",
   "metadata": {
    "tags": []
   },
   "outputs": [
    {
     "data": {
      "application/vnd.jupyter.widget-view+json": {
       "model_id": "27d49b5191cd4fe78607553d1fdb78bb",
       "version_major": 2,
       "version_minor": 0
      },
      "text/plain": [
       "Map:   0%|          | 0/608 [00:00<?, ? examples/s]"
      ]
     },
     "metadata": {},
     "output_type": "display_data"
    },
    {
     "data": {
      "application/vnd.jupyter.widget-view+json": {
       "model_id": "822a2f9b9e594898b1a042fb49f23776",
       "version_major": 2,
       "version_minor": 0
      },
      "text/plain": [
       "Map:   0%|          | 0/246 [00:00<?, ? examples/s]"
      ]
     },
     "metadata": {},
     "output_type": "display_data"
    },
    {
     "data": {
      "application/vnd.jupyter.widget-view+json": {
       "model_id": "67ba8bbcb7b34c4185c8aba9fbff3a49",
       "version_major": 2,
       "version_minor": 0
      },
      "text/plain": [
       "Map:   0%|          | 0/136 [00:00<?, ? examples/s]"
      ]
     },
     "metadata": {},
     "output_type": "display_data"
    },
    {
     "data": {
      "application/vnd.jupyter.widget-view+json": {
       "model_id": "8e5f19c600e440c690f47a2d82396a33",
       "version_major": 2,
       "version_minor": 0
      },
      "text/plain": [
       "Map:   0%|          | 0/608 [00:00<?, ? examples/s]"
      ]
     },
     "metadata": {},
     "output_type": "display_data"
    },
    {
     "data": {
      "application/vnd.jupyter.widget-view+json": {
       "model_id": "1ad0c5a50d0a43ecb49d43e1a0a27a22",
       "version_major": 2,
       "version_minor": 0
      },
      "text/plain": [
       "Map:   0%|          | 0/246 [00:00<?, ? examples/s]"
      ]
     },
     "metadata": {},
     "output_type": "display_data"
    },
    {
     "data": {
      "application/vnd.jupyter.widget-view+json": {
       "model_id": "e26faa78896d40e6a0a88d14310d6417",
       "version_major": 2,
       "version_minor": 0
      },
      "text/plain": [
       "Map:   0%|          | 0/136 [00:00<?, ? examples/s]"
      ]
     },
     "metadata": {},
     "output_type": "display_data"
    },
    {
     "data": {
      "application/vnd.jupyter.widget-view+json": {
       "model_id": "265075ba55ae4fa6b77952a6e662b7a1",
       "version_major": 2,
       "version_minor": 0
      },
      "text/plain": [
       "Map:   0%|          | 0/608 [00:00<?, ? examples/s]"
      ]
     },
     "metadata": {},
     "output_type": "display_data"
    },
    {
     "data": {
      "application/vnd.jupyter.widget-view+json": {
       "model_id": "b915eb581f0d4abdb2425fb7b9fe5e37",
       "version_major": 2,
       "version_minor": 0
      },
      "text/plain": [
       "Map:   0%|          | 0/246 [00:00<?, ? examples/s]"
      ]
     },
     "metadata": {},
     "output_type": "display_data"
    },
    {
     "data": {
      "application/vnd.jupyter.widget-view+json": {
       "model_id": "05bbb33fa886472aa9214c7c01e1b38c",
       "version_major": 2,
       "version_minor": 0
      },
      "text/plain": [
       "Map:   0%|          | 0/136 [00:00<?, ? examples/s]"
      ]
     },
     "metadata": {},
     "output_type": "display_data"
    }
   ],
   "source": [
    "# we use a SimplifierWrapper so that the original spans can be restored after candidate generatio\n",
    "simplifier_wrapper = SimplifierWrapper(\n",
    "    linker,\n",
    "    text_simplifier, \n",
    "    filter_fn=lambda c: c['normalized'][0]['score'] < best_cutoff, \n",
    "    set_long_form=True\n",
    ")\n",
    "simplified_candidates_cutoff = simplifier_wrapper.predict_batch(candidates, top_k=64, batch_size=128)"
   ]
  },
  {
   "cell_type": "code",
   "execution_count": 37,
   "id": "aa1b9ec3-5a2e-45d2-b93b-b4845b047ea4",
   "metadata": {
    "tags": []
   },
   "outputs": [
    {
     "name": "stdout",
     "output_type": "stream",
     "text": [
      "(0, 6843)\n",
      "(0, 1433)\n",
      "(0, 2848)\n"
     ]
    }
   ],
   "source": [
    "print(count_differences(simplified_candidates_cutoff['train'], dataset['train']))\n",
    "print(count_differences(simplified_candidates_cutoff['validation'], dataset['validation']))\n",
    "print(count_differences(simplified_candidates_cutoff['test'], dataset['test']))"
   ]
  },
  {
   "cell_type": "code",
   "execution_count": 38,
   "id": "908c1fb6-ef49-4d4d-9b34-2a5ad25cd0c0",
   "metadata": {
    "tags": []
   },
   "outputs": [
    {
     "name": "stdout",
     "output_type": "stream",
     "text": [
      "Recall@1 0.4842986741102582\n",
      "Recall@2 0.5917655268667132\n",
      "Recall@4 0.6559665038381018\n",
      "Recall@8 0.7069085833914864\n",
      "Recall@16 0.7522679692951849\n",
      "Recall@32 0.776692254012561\n",
      "Recall@64 0.8060013956734124\n"
     ]
    }
   ],
   "source": [
    "_ = evaluate_at_k(dataset['validation'], simplified_candidates_cutoff['validation'])"
   ]
  },
  {
   "cell_type": "code",
   "execution_count": 39,
   "id": "c8a9a5ff-73f7-446e-aa3e-b283d777612d",
   "metadata": {
    "tags": []
   },
   "outputs": [
    {
     "name": "stdout",
     "output_type": "stream",
     "text": [
      "Recall@1 0.4611872146118721\n",
      "Recall@2 0.5749912188268352\n",
      "Recall@4 0.6424306287319986\n",
      "Recall@8 0.6870389884088515\n",
      "Recall@16 0.7274323849666315\n",
      "Recall@32 0.761854583772392\n",
      "Recall@64 0.7924130663856691\n"
     ]
    }
   ],
   "source": [
    "_ = evaluate_at_k(dataset['test'], simplified_candidates_cutoff['test'])"
   ]
  },
  {
   "cell_type": "markdown",
   "id": "8e693279-cec7-4e0b-b3c6-29a23258d7f8",
   "metadata": {},
   "source": [
    "# Save"
   ]
  },
  {
   "cell_type": "code",
   "execution_count": 40,
   "id": "2ea15cb9-8d1e-4022-8116-388bd97eacb3",
   "metadata": {
    "tags": []
   },
   "outputs": [
    {
     "data": {
      "application/vnd.jupyter.widget-view+json": {
       "model_id": "fbd6274c21564904b7b3058a4c00bba4",
       "version_major": 2,
       "version_minor": 0
      },
      "text/plain": [
       "Saving the dataset (0/1 shards):   0%|          | 0/608 [00:00<?, ? examples/s]"
      ]
     },
     "metadata": {},
     "output_type": "display_data"
    },
    {
     "data": {
      "application/vnd.jupyter.widget-view+json": {
       "model_id": "89e40833f78b48b4b975eb8cf1951f11",
       "version_major": 2,
       "version_minor": 0
      },
      "text/plain": [
       "Saving the dataset (0/1 shards):   0%|          | 0/246 [00:00<?, ? examples/s]"
      ]
     },
     "metadata": {},
     "output_type": "display_data"
    },
    {
     "data": {
      "application/vnd.jupyter.widget-view+json": {
       "model_id": "e67744ad47c144598233cfa60cca6d2f",
       "version_major": 2,
       "version_minor": 0
      },
      "text/plain": [
       "Saving the dataset (0/1 shards):   0%|          | 0/136 [00:00<?, ? examples/s]"
      ]
     },
     "metadata": {},
     "output_type": "display_data"
    }
   ],
   "source": [
    "simplified_candidates_cutoff.save_to_disk('candidates_simplified_cutoff')"
   ]
  },
  {
   "cell_type": "markdown",
   "id": "71ddb5c4-cf8a-4180-8883-3c99ad8872b4",
   "metadata": {},
   "source": [
    "# Analysis"
   ]
  },
  {
   "cell_type": "code",
   "execution_count": 41,
   "id": "75546489-f9fc-40c1-930a-e5cb2a9f1254",
   "metadata": {
    "tags": []
   },
   "outputs": [],
   "source": [
    "from xmen.evaluation import error_analysis, evaluate_at_k"
   ]
  },
  {
   "cell_type": "code",
   "execution_count": 42,
   "id": "b5b5f71f-87f1-405a-8ec4-c729e641ecfd",
   "metadata": {
    "tags": []
   },
   "outputs": [
    {
     "name": "stdout",
     "output_type": "stream",
     "text": [
      "Recall@1 0.4474885844748858\n",
      "Recall@2 0.5605900948366702\n",
      "Recall@4 0.6199508254302775\n",
      "Recall@8 0.6663154197400772\n",
      "Recall@16 0.7003863716192483\n",
      "Recall@32 0.7319985950122937\n",
      "Recall@64 0.7643133122585177\n"
     ]
    }
   ],
   "source": [
    "_ = evaluate_at_k(dataset['test'], candidates['test'])"
   ]
  },
  {
   "cell_type": "code",
   "execution_count": 43,
   "id": "116dcde7-e04b-4d42-999d-f9383620f2ab",
   "metadata": {
    "tags": []
   },
   "outputs": [
    {
     "name": "stdout",
     "output_type": "stream",
     "text": [
      "Recall@1 0.4611872146118721\n",
      "Recall@2 0.5749912188268352\n",
      "Recall@4 0.6424306287319986\n",
      "Recall@8 0.6870389884088515\n",
      "Recall@16 0.7274323849666315\n",
      "Recall@32 0.761854583772392\n",
      "Recall@64 0.7924130663856691\n"
     ]
    }
   ],
   "source": [
    "_ = evaluate_at_k(dataset['test'], simplified_candidates_cutoff['test'])"
   ]
  },
  {
   "cell_type": "code",
   "execution_count": 44,
   "id": "1fd74a01-9067-4e28-93b9-00f554198f85",
   "metadata": {
    "tags": []
   },
   "outputs": [
    {
     "data": {
      "application/vnd.jupyter.widget-view+json": {
       "model_id": "b040e90db61544eaa17451d23e5e327e",
       "version_major": 2,
       "version_minor": 0
      },
      "text/plain": [
       "Map:   0%|          | 0/608 [00:00<?, ? examples/s]"
      ]
     },
     "metadata": {},
     "output_type": "display_data"
    },
    {
     "data": {
      "application/vnd.jupyter.widget-view+json": {
       "model_id": "0fe5a216880c4115aaa237c367466024",
       "version_major": 2,
       "version_minor": 0
      },
      "text/plain": [
       "Map:   0%|          | 0/246 [00:00<?, ? examples/s]"
      ]
     },
     "metadata": {},
     "output_type": "display_data"
    },
    {
     "data": {
      "application/vnd.jupyter.widget-view+json": {
       "model_id": "a8e4e385a44d4059b260c279eb165110",
       "version_major": 2,
       "version_minor": 0
      },
      "text/plain": [
       "Map:   0%|          | 0/136 [00:00<?, ? examples/s]"
      ]
     },
     "metadata": {},
     "output_type": "display_data"
    }
   ],
   "source": [
    "simplified_ds = simplifier.transform_batch(dataset)"
   ]
  },
  {
   "cell_type": "code",
   "execution_count": 399,
   "id": "a83f15e9-1d9e-41f2-8002-c45e728d45bf",
   "metadata": {
    "tags": []
   },
   "outputs": [],
   "source": [
    "ea_before_simple_test = error_analysis(dataset['test'], candidates['test'])\n",
    "ea_after_simple_test = error_analysis(simplified_ds['test'], simplified_candidates_cutoff['test'])"
   ]
  },
  {
   "cell_type": "code",
   "execution_count": 403,
   "id": "9037936b-fbb4-4fa3-a298-ca49757d443a",
   "metadata": {},
   "outputs": [],
   "source": [
    "ea_after_no_thresh_test = error_analysis(simplified_ds['test'], simplified_candidates['test'])"
   ]
  },
  {
   "cell_type": "code",
   "execution_count": 418,
   "id": "7ca8bc69-23d1-42de-9fa1-8b0fb0b13090",
   "metadata": {},
   "outputs": [],
   "source": [
    "SPLIT = 'test'\n",
    "eval_candidates = candidates[SPLIT]\n",
    "eval_ds = dataset[SPLIT]\n",
    "eval_simplified_ds = simplified_candidates[SPLIT]\n",
    "\n",
    "def select_candidates(d, idx, filter_fn=lambda e: True):\n",
    "    result = []\n",
    "    for ei, ec in zip(d['entities'], eval_candidates[idx]['entities']):\n",
    "        if filter_fn(ec):\n",
    "            result.append(ec)\n",
    "        else:\n",
    "            result.append(ei)\n",
    "    return { 'entities' : result }"
   ]
  },
  {
   "cell_type": "code",
   "execution_count": 419,
   "id": "c3ad311c-bd58-464c-922d-4c5e47a55495",
   "metadata": {},
   "outputs": [
    {
     "data": {
      "application/vnd.jupyter.widget-view+json": {
       "model_id": "dd70bfce933949f2aaf552882a30bef1",
       "version_major": 2,
       "version_minor": 0
      },
      "text/plain": [
       "Map:   0%|          | 0/246 [00:00<?, ? examples/s]"
      ]
     },
     "metadata": {},
     "output_type": "display_data"
    }
   ],
   "source": [
    "fn = lambda e: e['normalized'][0]['score'] >= best_cutoff\n",
    "best_candidates = eval_simplified_ds.map(lambda d, i: select_candidates(d, i, fn), with_indices=True)"
   ]
  },
  {
   "cell_type": "code",
   "execution_count": 448,
   "id": "238db9fe-1638-4210-9ad2-f6a9a459b814",
   "metadata": {},
   "outputs": [],
   "source": [
    "def get_len(t):\n",
    "    return len(t.split(' '))\n",
    "\n",
    "def get_stats(ea_df, name, ds):\n",
    "    res = {}\n",
    "    res['name'] = name\n",
    "    word_lens = pd.Series([get_len(e['text'][0]) for d in ds for e in d['entities']])\n",
    "    res['max_length'] = int(word_lens.max())\n",
    "    res['mean_length'] = word_lens.mean().round(2)\n",
    "    res['recall_1'] = (ea_df.pred_index == 0).sum() / len(ea_df)\n",
    "    res['recall_64'] = (ea_df.pred_index >= 0).sum() / len(ea_df)\n",
    "    res['mean_score'] = ea_df.pred_top_score.mean()\n",
    "    for i in np.linspace(0.5, 1.0, 6):\n",
    "        begin, end = i, i + 0.1\n",
    "        sub_ea = ea_df[(ea_df.pred_top_score >= begin) & (ea_df.pred_top_score < end)]\n",
    "        prefix = f\"{begin}-{end}\"\n",
    "        res[f'{prefix}_len'] = len(sub_ea)\n",
    "        res[f'{prefix}_recall_1'] = (sub_ea.pred_index == 0).sum() / len(sub_ea)\n",
    "        res[f'{prefix}_recall_64'] = (sub_ea.pred_index >= 0).sum() / len(sub_ea)\n",
    "    return res"
   ]
  },
  {
   "cell_type": "code",
   "execution_count": 463,
   "id": "a8124dd6-039f-47f3-8087-06a257700110",
   "metadata": {},
   "outputs": [
    {
     "data": {
      "text/html": [
       "<div>\n",
       "<style scoped>\n",
       "    .dataframe tbody tr th:only-of-type {\n",
       "        vertical-align: middle;\n",
       "    }\n",
       "\n",
       "    .dataframe tbody tr th {\n",
       "        vertical-align: top;\n",
       "    }\n",
       "\n",
       "    .dataframe thead th {\n",
       "        text-align: right;\n",
       "    }\n",
       "</style>\n",
       "<table border=\"1\" class=\"dataframe\">\n",
       "  <thead>\n",
       "    <tr style=\"text-align: right;\">\n",
       "      <th>name</th>\n",
       "      <th>no_simpl</th>\n",
       "      <th>simpl_thresh</th>\n",
       "      <th>delta</th>\n",
       "      <th>simpl_no_thresh</th>\n",
       "    </tr>\n",
       "  </thead>\n",
       "  <tbody>\n",
       "    <tr>\n",
       "      <th>max_length</th>\n",
       "      <td>23.000</td>\n",
       "      <td>13.000</td>\n",
       "      <td>-10.000</td>\n",
       "      <td>13.000</td>\n",
       "    </tr>\n",
       "    <tr>\n",
       "      <th>mean_length</th>\n",
       "      <td>3.630</td>\n",
       "      <td>2.610</td>\n",
       "      <td>-1.020</td>\n",
       "      <td>2.830</td>\n",
       "    </tr>\n",
       "    <tr>\n",
       "      <th>recall_1</th>\n",
       "      <td>0.447</td>\n",
       "      <td>0.461</td>\n",
       "      <td>0.014</td>\n",
       "      <td>0.431</td>\n",
       "    </tr>\n",
       "    <tr>\n",
       "      <th>recall_64</th>\n",
       "      <td>0.764</td>\n",
       "      <td>0.792</td>\n",
       "      <td>0.028</td>\n",
       "      <td>0.792</td>\n",
       "    </tr>\n",
       "    <tr>\n",
       "      <th>mean_score</th>\n",
       "      <td>0.848</td>\n",
       "      <td>0.833</td>\n",
       "      <td>-0.015</td>\n",
       "      <td>0.815</td>\n",
       "    </tr>\n",
       "    <tr>\n",
       "      <th>0.5-0.6_len</th>\n",
       "      <td>37.000</td>\n",
       "      <td>83.000</td>\n",
       "      <td>46.000</td>\n",
       "      <td>83.000</td>\n",
       "    </tr>\n",
       "    <tr>\n",
       "      <th>0.5-0.6_recall_1</th>\n",
       "      <td>0.027</td>\n",
       "      <td>0.048</td>\n",
       "      <td>0.021</td>\n",
       "      <td>0.048</td>\n",
       "    </tr>\n",
       "    <tr>\n",
       "      <th>0.5-0.6_recall_64</th>\n",
       "      <td>0.243</td>\n",
       "      <td>0.241</td>\n",
       "      <td>-0.002</td>\n",
       "      <td>0.241</td>\n",
       "    </tr>\n",
       "    <tr>\n",
       "      <th>0.6-0.7_len</th>\n",
       "      <td>444.000</td>\n",
       "      <td>616.000</td>\n",
       "      <td>172.000</td>\n",
       "      <td>639.000</td>\n",
       "    </tr>\n",
       "    <tr>\n",
       "      <th>0.6-0.7_recall_1</th>\n",
       "      <td>0.065</td>\n",
       "      <td>0.096</td>\n",
       "      <td>0.030</td>\n",
       "      <td>0.095</td>\n",
       "    </tr>\n",
       "    <tr>\n",
       "      <th>0.6-0.7_recall_64</th>\n",
       "      <td>0.338</td>\n",
       "      <td>0.481</td>\n",
       "      <td>0.143</td>\n",
       "      <td>0.499</td>\n",
       "    </tr>\n",
       "    <tr>\n",
       "      <th>0.7-0.7999999999999999_len</th>\n",
       "      <td>653.000</td>\n",
       "      <td>577.000</td>\n",
       "      <td>-76.000</td>\n",
       "      <td>742.000</td>\n",
       "    </tr>\n",
       "    <tr>\n",
       "      <th>0.7-0.7999999999999999_recall_1</th>\n",
       "      <td>0.219</td>\n",
       "      <td>0.328</td>\n",
       "      <td>0.109</td>\n",
       "      <td>0.340</td>\n",
       "    </tr>\n",
       "    <tr>\n",
       "      <th>0.7-0.7999999999999999_recall_64</th>\n",
       "      <td>0.629</td>\n",
       "      <td>0.744</td>\n",
       "      <td>0.114</td>\n",
       "      <td>0.782</td>\n",
       "    </tr>\n",
       "    <tr>\n",
       "      <th>0.8-0.9_len</th>\n",
       "      <td>555.000</td>\n",
       "      <td>411.000</td>\n",
       "      <td>-144.000</td>\n",
       "      <td>507.000</td>\n",
       "    </tr>\n",
       "    <tr>\n",
       "      <th>0.8-0.9_recall_1</th>\n",
       "      <td>0.438</td>\n",
       "      <td>0.494</td>\n",
       "      <td>0.056</td>\n",
       "      <td>0.523</td>\n",
       "    </tr>\n",
       "    <tr>\n",
       "      <th>0.8-0.9_recall_64</th>\n",
       "      <td>0.845</td>\n",
       "      <td>0.910</td>\n",
       "      <td>0.065</td>\n",
       "      <td>0.933</td>\n",
       "    </tr>\n",
       "    <tr>\n",
       "      <th>0.9-1.0_len</th>\n",
       "      <td>433.000</td>\n",
       "      <td>433.000</td>\n",
       "      <td>0.000</td>\n",
       "      <td>217.000</td>\n",
       "    </tr>\n",
       "    <tr>\n",
       "      <th>0.9-1.0_recall_1</th>\n",
       "      <td>0.718</td>\n",
       "      <td>0.718</td>\n",
       "      <td>0.000</td>\n",
       "      <td>0.659</td>\n",
       "    </tr>\n",
       "    <tr>\n",
       "      <th>0.9-1.0_recall_64</th>\n",
       "      <td>0.977</td>\n",
       "      <td>0.977</td>\n",
       "      <td>0.000</td>\n",
       "      <td>0.982</td>\n",
       "    </tr>\n",
       "    <tr>\n",
       "      <th>1.0-1.1_len</th>\n",
       "      <td>724.000</td>\n",
       "      <td>724.000</td>\n",
       "      <td>0.000</td>\n",
       "      <td>656.000</td>\n",
       "    </tr>\n",
       "    <tr>\n",
       "      <th>1.0-1.1_recall_1</th>\n",
       "      <td>0.756</td>\n",
       "      <td>0.756</td>\n",
       "      <td>0.000</td>\n",
       "      <td>0.764</td>\n",
       "    </tr>\n",
       "    <tr>\n",
       "      <th>1.0-1.1_recall_64</th>\n",
       "      <td>0.986</td>\n",
       "      <td>0.986</td>\n",
       "      <td>0.000</td>\n",
       "      <td>0.992</td>\n",
       "    </tr>\n",
       "  </tbody>\n",
       "</table>\n",
       "</div>"
      ],
      "text/plain": [
       "name                              no_simpl  simpl_thresh    delta  \\\n",
       "max_length                          23.000        13.000  -10.000   \n",
       "mean_length                          3.630         2.610   -1.020   \n",
       "recall_1                             0.447         0.461    0.014   \n",
       "recall_64                            0.764         0.792    0.028   \n",
       "mean_score                           0.848         0.833   -0.015   \n",
       "0.5-0.6_len                         37.000        83.000   46.000   \n",
       "0.5-0.6_recall_1                     0.027         0.048    0.021   \n",
       "0.5-0.6_recall_64                    0.243         0.241   -0.002   \n",
       "0.6-0.7_len                        444.000       616.000  172.000   \n",
       "0.6-0.7_recall_1                     0.065         0.096    0.030   \n",
       "0.6-0.7_recall_64                    0.338         0.481    0.143   \n",
       "0.7-0.7999999999999999_len         653.000       577.000  -76.000   \n",
       "0.7-0.7999999999999999_recall_1      0.219         0.328    0.109   \n",
       "0.7-0.7999999999999999_recall_64     0.629         0.744    0.114   \n",
       "0.8-0.9_len                        555.000       411.000 -144.000   \n",
       "0.8-0.9_recall_1                     0.438         0.494    0.056   \n",
       "0.8-0.9_recall_64                    0.845         0.910    0.065   \n",
       "0.9-1.0_len                        433.000       433.000    0.000   \n",
       "0.9-1.0_recall_1                     0.718         0.718    0.000   \n",
       "0.9-1.0_recall_64                    0.977         0.977    0.000   \n",
       "1.0-1.1_len                        724.000       724.000    0.000   \n",
       "1.0-1.1_recall_1                     0.756         0.756    0.000   \n",
       "1.0-1.1_recall_64                    0.986         0.986    0.000   \n",
       "\n",
       "name                              simpl_no_thresh  \n",
       "max_length                                 13.000  \n",
       "mean_length                                 2.830  \n",
       "recall_1                                    0.431  \n",
       "recall_64                                   0.792  \n",
       "mean_score                                  0.815  \n",
       "0.5-0.6_len                                83.000  \n",
       "0.5-0.6_recall_1                            0.048  \n",
       "0.5-0.6_recall_64                           0.241  \n",
       "0.6-0.7_len                               639.000  \n",
       "0.6-0.7_recall_1                            0.095  \n",
       "0.6-0.7_recall_64                           0.499  \n",
       "0.7-0.7999999999999999_len                742.000  \n",
       "0.7-0.7999999999999999_recall_1             0.340  \n",
       "0.7-0.7999999999999999_recall_64            0.782  \n",
       "0.8-0.9_len                               507.000  \n",
       "0.8-0.9_recall_1                            0.523  \n",
       "0.8-0.9_recall_64                           0.933  \n",
       "0.9-1.0_len                               217.000  \n",
       "0.9-1.0_recall_1                            0.659  \n",
       "0.9-1.0_recall_64                           0.982  \n",
       "1.0-1.1_len                               656.000  \n",
       "1.0-1.1_recall_1                            0.764  \n",
       "1.0-1.1_recall_64                           0.992  "
      ]
     },
     "execution_count": 463,
     "metadata": {},
     "output_type": "execute_result"
    }
   ],
   "source": [
    "df = pd.DataFrame([\n",
    "    get_stats(ea_before_simple_test, 'no_simpl', candidates['test']),\n",
    "    get_stats(ea_after_simple_test, 'simpl_thresh', best_candidates),\n",
    "    get_stats(ea_after_no_thresh_test, 'simpl_no_thresh', simplified_ds['test']),\n",
    "]).set_index('name').T\n",
    "df['delta'] = df.simpl_thresh - df.no_simpl\n",
    "df.round(3)[['no_simpl', 'simpl_thresh', 'delta', 'simpl_no_thresh']]"
   ]
  },
  {
   "cell_type": "code",
   "execution_count": 313,
   "id": "4f11e485-a115-4f44-8649-e1aa0a1e3337",
   "metadata": {},
   "outputs": [
    {
     "data": {
      "text/html": [
       "<div>\n",
       "<style scoped>\n",
       "    .dataframe tbody tr th:only-of-type {\n",
       "        vertical-align: middle;\n",
       "    }\n",
       "\n",
       "    .dataframe tbody tr th {\n",
       "        vertical-align: top;\n",
       "    }\n",
       "\n",
       "    .dataframe thead th {\n",
       "        text-align: right;\n",
       "    }\n",
       "</style>\n",
       "<table border=\"1\" class=\"dataframe\">\n",
       "  <thead>\n",
       "    <tr style=\"text-align: right;\">\n",
       "      <th></th>\n",
       "      <th>_word_len</th>\n",
       "      <th>_abbrev</th>\n",
       "      <th>gt_start</th>\n",
       "      <th>gt_end</th>\n",
       "      <th>gt_text</th>\n",
       "      <th>gold_type</th>\n",
       "      <th>pred_start</th>\n",
       "      <th>pred_end</th>\n",
       "      <th>pred_text</th>\n",
       "      <th>pred_type</th>\n",
       "      <th>ner_match_type</th>\n",
       "      <th>gold_concept</th>\n",
       "      <th>pred_index</th>\n",
       "      <th>pred_index_score</th>\n",
       "      <th>pred_top</th>\n",
       "      <th>pred_top_score</th>\n",
       "      <th>corpus_id</th>\n",
       "      <th>document_id</th>\n",
       "    </tr>\n",
       "  </thead>\n",
       "  <tbody>\n",
       "    <tr>\n",
       "      <th>97</th>\n",
       "      <td>2</td>\n",
       "      <td>False</td>\n",
       "      <td>2182</td>\n",
       "      <td>2201</td>\n",
       "      <td>[enfermedad pulmonar]</td>\n",
       "      <td>SINTOMA</td>\n",
       "      <td>2182</td>\n",
       "      <td>2201</td>\n",
       "      <td>[patrón intersticial]</td>\n",
       "      <td>SINTOMA</td>\n",
       "      <td>tp</td>\n",
       "      <td>{'db_id': '233703007', 'db_name': 'SNOMED_CT'}</td>\n",
       "      <td>0</td>\n",
       "      <td>0.729934</td>\n",
       "      <td>233703007</td>\n",
       "      <td>0.729934</td>\n",
       "      <td>symptemist_linking_complete_bigbio_kb</td>\n",
       "      <td>es-S0212-71992007000600008-1</td>\n",
       "    </tr>\n",
       "    <tr>\n",
       "      <th>115</th>\n",
       "      <td>2</td>\n",
       "      <td>False</td>\n",
       "      <td>4897</td>\n",
       "      <td>4924</td>\n",
       "      <td>[enfermedad pulmonar]</td>\n",
       "      <td>SINTOMA</td>\n",
       "      <td>4897</td>\n",
       "      <td>4924</td>\n",
       "      <td>[patrón intersticial nodular]</td>\n",
       "      <td>SINTOMA</td>\n",
       "      <td>tp</td>\n",
       "      <td>{'db_id': '233703007', 'db_name': 'SNOMED_CT'}</td>\n",
       "      <td>0</td>\n",
       "      <td>0.680239</td>\n",
       "      <td>233703007</td>\n",
       "      <td>0.680239</td>\n",
       "      <td>symptemist_linking_complete_bigbio_kb</td>\n",
       "      <td>es-S0212-71992007000600008-1</td>\n",
       "    </tr>\n",
       "    <tr>\n",
       "      <th>171</th>\n",
       "      <td>3</td>\n",
       "      <td>False</td>\n",
       "      <td>913</td>\n",
       "      <td>942</td>\n",
       "      <td>[ritmo cardíaco normal]</td>\n",
       "      <td>SINTOMA</td>\n",
       "      <td>913</td>\n",
       "      <td>942</td>\n",
       "      <td>[Auscultación cardiaca rítmica]</td>\n",
       "      <td>SINTOMA</td>\n",
       "      <td>tp</td>\n",
       "      <td>{'db_id': '64730000', 'db_name': 'SNOMED_CT'}</td>\n",
       "      <td>0</td>\n",
       "      <td>0.728067</td>\n",
       "      <td>64730000</td>\n",
       "      <td>0.728067</td>\n",
       "      <td>symptemist_linking_complete_bigbio_kb</td>\n",
       "      <td>es-S0212-71992006000700009-1</td>\n",
       "    </tr>\n",
       "    <tr>\n",
       "      <th>236</th>\n",
       "      <td>2</td>\n",
       "      <td>False</td>\n",
       "      <td>2032</td>\n",
       "      <td>2047</td>\n",
       "      <td>[perfusión normal]</td>\n",
       "      <td>SINTOMA</td>\n",
       "      <td>2032</td>\n",
       "      <td>2047</td>\n",
       "      <td>[normoperfundido]</td>\n",
       "      <td>SINTOMA</td>\n",
       "      <td>tp</td>\n",
       "      <td>{'db_id': '1137685003', 'db_name': 'SNOMED_CT'}</td>\n",
       "      <td>0</td>\n",
       "      <td>0.762895</td>\n",
       "      <td>1137685003</td>\n",
       "      <td>0.762895</td>\n",
       "      <td>symptemist_linking_complete_bigbio_kb</td>\n",
       "      <td>es-S0212-71992006000200006-1</td>\n",
       "    </tr>\n",
       "    <tr>\n",
       "      <th>324</th>\n",
       "      <td>4</td>\n",
       "      <td>False</td>\n",
       "      <td>370</td>\n",
       "      <td>391</td>\n",
       "      <td>[examen de recto normal]</td>\n",
       "      <td>SINTOMA</td>\n",
       "      <td>370</td>\n",
       "      <td>391</td>\n",
       "      <td>[tacto rectal negativo]</td>\n",
       "      <td>SINTOMA</td>\n",
       "      <td>tp</td>\n",
       "      <td>{'db_id': '274765004', 'db_name': 'SNOMED_CT'}</td>\n",
       "      <td>0</td>\n",
       "      <td>0.763149</td>\n",
       "      <td>274765004</td>\n",
       "      <td>0.763149</td>\n",
       "      <td>symptemist_linking_complete_bigbio_kb</td>\n",
       "      <td>es-S1130-01082005001100014-1</td>\n",
       "    </tr>\n",
       "  </tbody>\n",
       "</table>\n",
       "</div>"
      ],
      "text/plain": [
       "     _word_len  _abbrev  gt_start  gt_end                   gt_text gold_type  \\\n",
       "97           2    False      2182    2201     [enfermedad pulmonar]   SINTOMA   \n",
       "115          2    False      4897    4924     [enfermedad pulmonar]   SINTOMA   \n",
       "171          3    False       913     942   [ritmo cardíaco normal]   SINTOMA   \n",
       "236          2    False      2032    2047        [perfusión normal]   SINTOMA   \n",
       "324          4    False       370     391  [examen de recto normal]   SINTOMA   \n",
       "\n",
       "     pred_start  pred_end                        pred_text pred_type  \\\n",
       "97         2182      2201            [patrón intersticial]   SINTOMA   \n",
       "115        4897      4924    [patrón intersticial nodular]   SINTOMA   \n",
       "171         913       942  [Auscultación cardiaca rítmica]   SINTOMA   \n",
       "236        2032      2047                [normoperfundido]   SINTOMA   \n",
       "324         370       391          [tacto rectal negativo]   SINTOMA   \n",
       "\n",
       "    ner_match_type                                     gold_concept  \\\n",
       "97              tp   {'db_id': '233703007', 'db_name': 'SNOMED_CT'}   \n",
       "115             tp   {'db_id': '233703007', 'db_name': 'SNOMED_CT'}   \n",
       "171             tp    {'db_id': '64730000', 'db_name': 'SNOMED_CT'}   \n",
       "236             tp  {'db_id': '1137685003', 'db_name': 'SNOMED_CT'}   \n",
       "324             tp   {'db_id': '274765004', 'db_name': 'SNOMED_CT'}   \n",
       "\n",
       "     pred_index pred_index_score    pred_top  pred_top_score  \\\n",
       "97            0         0.729934   233703007        0.729934   \n",
       "115           0         0.680239   233703007        0.680239   \n",
       "171           0         0.728067    64730000        0.728067   \n",
       "236           0         0.762895  1137685003        0.762895   \n",
       "324           0         0.763149   274765004        0.763149   \n",
       "\n",
       "                                 corpus_id                   document_id  \n",
       "97   symptemist_linking_complete_bigbio_kb  es-S0212-71992007000600008-1  \n",
       "115  symptemist_linking_complete_bigbio_kb  es-S0212-71992007000600008-1  \n",
       "171  symptemist_linking_complete_bigbio_kb  es-S0212-71992006000700009-1  \n",
       "236  symptemist_linking_complete_bigbio_kb  es-S0212-71992006000200006-1  \n",
       "324  symptemist_linking_complete_bigbio_kb  es-S1130-01082005001100014-1  "
      ]
     },
     "execution_count": 313,
     "metadata": {},
     "output_type": "execute_result"
    }
   ],
   "source": [
    "ea_after_simple[(ea_before_simpl.pred_index == -1) & (ea_after_simple.pred_index == 0)].head(5)"
   ]
  },
  {
   "cell_type": "code",
   "execution_count": 464,
   "id": "902d75a1-967a-41ab-aff5-0fb95b25dbf8",
   "metadata": {},
   "outputs": [
    {
     "name": "stdout",
     "output_type": "stream",
     "text": [
      "2.294853466761973 2.5761258041458186\n"
     ]
    }
   ],
   "source": [
    "both_correct = (ea_before_simpl.pred_index == 0) & (ea_after_simple.pred_index == 0)\n",
    "print(ea_before_simpl[both_correct]._word_len.mean(), ea_after_simple[both_correct]._word_len.mean())"
   ]
  },
  {
   "cell_type": "code",
   "execution_count": 465,
   "id": "d699c479-b51b-4ca2-a1da-97e565c22bf0",
   "metadata": {},
   "outputs": [
    {
     "name": "stdout",
     "output_type": "stream",
     "text": [
      "4.992207792207792 3.3506493506493507\n"
     ]
    }
   ],
   "source": [
    "better_recall = (ea_before_simpl.pred_index == -1) & (ea_after_simple.pred_index >= 0)\n",
    "print(ea_before_simpl[better_recall]._word_len.mean(), ea_after_simple[better_recall]._word_len.mean())"
   ]
  },
  {
   "cell_type": "code",
   "execution_count": 466,
   "id": "625d5ebd-84dc-4e59-92f6-29b22945de15",
   "metadata": {},
   "outputs": [
    {
     "name": "stdout",
     "output_type": "stream",
     "text": [
      "3.5660377358490565 3.2830188679245285\n"
     ]
    }
   ],
   "source": [
    "better_recall_1 = (ea_before_simpl.pred_index == -1) & (ea_after_simple.pred_index == 0)\n",
    "print(ea_before_simpl[better_recall_1]._word_len.mean(), ea_after_simple[better_recall_1]._word_len.mean())"
   ]
  },
  {
   "cell_type": "code",
   "execution_count": 467,
   "id": "97e880fd-6fb8-4d80-8b98-02fedf980978",
   "metadata": {},
   "outputs": [
    {
     "data": {
      "text/plain": [
       "3.2830188679245285"
      ]
     },
     "execution_count": 467,
     "metadata": {},
     "output_type": "execute_result"
    }
   ],
   "source": [
    "ea_after_simple[(ea_before_simpl.pred_index == -1) & (ea_after_simple.pred_index == 0)]._word_len.mean()"
   ]
  },
  {
   "cell_type": "code",
   "execution_count": 468,
   "id": "0e23118a-95c6-4098-8697-c622dd715822",
   "metadata": {},
   "outputs": [
    {
     "data": {
      "text/plain": [
       "3.2830188679245285"
      ]
     },
     "execution_count": 468,
     "metadata": {},
     "output_type": "execute_result"
    }
   ],
   "source": [
    "ea_after_simple[(ea_before_simpl.pred_index == -1) & (ea_after_simple.pred_index == 0)]._word_len.mean()"
   ]
  },
  {
   "cell_type": "markdown",
   "id": "7e064855-7dc0-4c40-a8a6-489838b690e4",
   "metadata": {},
   "source": [
    "## Error Analysis by Mention Length"
   ]
  },
  {
   "cell_type": "code",
   "execution_count": 469,
   "id": "3d06c300-6278-46b7-99e8-d8627a1cb590",
   "metadata": {
    "tags": []
   },
   "outputs": [],
   "source": [
    "index = []\n",
    "labels = []\n",
    "match_any = []\n",
    "match_lost = []\n",
    "better_ranking = []\n",
    "worse_ranking = []\n",
    "n_candidates = []\n",
    "\n",
    "end = 10\n",
    "\n",
    "def get_new_candidates(i):\n",
    "    return ea_after_simple[(ea_before_simpl._word_len == i) & (ea_before_simpl.pred_index == -1) & (ea_after_simple.pred_index != -1)]\n",
    "\n",
    "def get_better_ranking(i):\n",
    "    return ea_after_simple[(ea_before_simpl._word_len == i) & (ea_after_simple.pred_index != -1) & (ea_after_simple.pred_index < ea_before_simpl.pred_index)]\n",
    "\n",
    "def get_worse_ranking(i):\n",
    "    return ea_after_simple[(ea_before_simpl._word_len == i) & (ea_before_simpl.pred_index != -1) & (ea_after_simple.pred_index > ea_before_simpl.pred_index)]\n",
    "\n",
    "def get_lost_candidates(i):\n",
    "    return ea_after_simple[(ea_before_simpl._word_len == i) & (ea_before_simpl.pred_index != -1) & (ea_after_simple.pred_index == -1)]\n",
    "\n",
    "def get_n_candidates(i):\n",
    "    return ea_after_simple[(ea_before_simpl._word_len == i)]\n",
    "\n",
    "for i in range(1, end + 1):\n",
    "    n_candidates_i = get_n_candidates(i)\n",
    "    eaany = get_new_candidates(i)\n",
    "    eabetter = get_better_ranking(i)\n",
    "    ealost = get_lost_candidates(i)\n",
    "    eaworse = get_worse_ranking(i)\n",
    "    \n",
    "    n_candidates.append(len(n_candidates_i))\n",
    "    index.append(i)\n",
    "    labels.append(str(i))\n",
    "    match_any.append(len(eaany))\n",
    "    better_ranking.append(len(eabetter))\n",
    "    match_lost.append(-len(ealost))\n",
    "    worse_ranking.append(-len(eaworse))\n",
    "    \n",
    "labels.append(str(f'>{ i }'))\n",
    "\n",
    "i += 1\n",
    "\n",
    "n_candidates_i = get_n_candidates(i)\n",
    "eaany = get_new_candidates(i)\n",
    "eabetter = get_better_ranking(i)\n",
    "ealost = get_lost_candidates(i)\n",
    "eaworse = get_worse_ranking(i)\n",
    "\n",
    "n_candidates.append(len(n_candidates_i))\n",
    "index.append(i)\n",
    "match_any.append(len(eaany))\n",
    "better_ranking.append(len(eabetter))\n",
    "match_lost.append(-len(ealost))\n",
    "worse_ranking.append(-len(eaworse))"
   ]
  },
  {
   "cell_type": "code",
   "execution_count": 470,
   "id": "a9969893-7156-4dba-831b-7a2cea9e2e79",
   "metadata": {
    "tags": []
   },
   "outputs": [],
   "source": [
    "def get_rel(m):\n",
    "    return [mi / ci for mi, ci in zip(m, n_candidates)]"
   ]
  },
  {
   "cell_type": "code",
   "execution_count": 471,
   "id": "e62c8bcf-72fd-44ed-bb64-9b71256af58e",
   "metadata": {
    "tags": []
   },
   "outputs": [
    {
     "data": {
      "image/png": "[encoded data removed]",
      "text/plain": [
       "<Figure size 800x1200 with 3 Axes>"
      ]
     },
     "metadata": {},
     "output_type": "display_data"
    }
   ],
   "source": [
    "import numpy as np\n",
    "import matplotlib\n",
    "from matplotlib import pyplot as plt\n",
    "import matplotlib.font_manager as font_manager\n",
    "\n",
    "\n",
    "fig, axs = plt.subplots(3, 1, figsize=(8,12), gridspec_kw={'height_ratios': [0.4, 1, 1]})\n",
    "font_size_lg = 14\n",
    "font_size_sm = 12\n",
    "\n",
    "matplotlib.rcParams.update({'font.size': font_size_lg, 'font.family' : 'serif'})\n",
    "\n",
    "width = 0.2\n",
    "\n",
    "ax0 = axs[0]\n",
    "ax0.bar(np.array(index), n_candidates, width=width, label='No. Mentions', color='grey', edgecolor='black', linewidth=0.5)\n",
    "ax0.grid(axis='y')\n",
    "ax0.set_title('(a) Total number of mentions', size=font_size_lg)\n",
    "ax0.set_yticks(range(0,3000,500))\n",
    "\n",
    "ax1 = axs[1]\n",
    "\n",
    "ax1.grid(axis='y')\n",
    "\n",
    "#ax.bar(np.array(index) - width, match_0, width=width, label='')\n",
    "ax1.bar(np.array(index) - width, get_rel(match_any), width=width, label='↑ Recall', color='lightgreen', edgecolor='black', linewidth=0.5)\n",
    "ax1.bar(np.array(index), get_rel(match_lost), width=width, label='↓ Recall', color='wheat', edgecolor='black', linewidth=0.5)\n",
    "ax1.bar(np.array(index) + width, get_rel(np.array(match_any) + np.array(match_lost)), width=width, label='Difference', color='blue', edgecolor='black', linewidth=0.5)\n",
    "\n",
    "y_range = np.arange(-0.1, 0.18, 0.05)\n",
    "ax1.set_yticks(y_range)\n",
    "ax1.set_yticklabels([f'{\"+\" if i > 0 else \"\"}{round(i * 100)}pp.' for i in y_range])\n",
    "ax1.set_ylim(-0.12,0.14)\n",
    "ax1.set_title('(b) Difference in recall@64 due to entity simplification', size=font_size_lg)\n",
    "ax1.legend(loc='upper left', \n",
    "           ncol=3, fontsize=font_size_sm)    \n",
    "\n",
    "ax2 = axs[2]\n",
    "    \n",
    "ax2.bar(np.array(index) - width, get_rel(better_ranking), width=width, label='↑ Ranking', color='lightgreen', edgecolor='black', linewidth=0.5)\n",
    "ax2.bar(np.array(index), get_rel(worse_ranking), width=width, label='↓ Ranking', color='wheat', edgecolor='black', linewidth=0.5)\n",
    "ax2.bar(np.array(index) + width, get_rel(np.array(better_ranking) + np.array(worse_ranking)), width=width, label='Difference', color='blue', edgecolor='black', linewidth=0.5)\n",
    "    \n",
    "y_range_2 = np.arange(-0.2,0.3,0.05)\n",
    "ax2.set_yticks(y_range_2)\n",
    "ax2.set_yticklabels([f'{\"\" if i > 0 else \"\"}{abs(round(i * 100))}%' for i in y_range_2])\n",
    " \n",
    "ax2.legend(loc='upper left', ncol=3, fontsize=font_size_sm)\n",
    "ax2.set_title('(c) Proportion of mentions with increased / decreased ranking\\nof the ground-truth concept due to entity simplification', size=font_size_lg)\n",
    "    \n",
    "ax2.grid(axis='y')\n",
    "ax2.set_xlabel('Mention length (tokens)')\n",
    "\n",
    "for ax in axs:\n",
    "    ax.set_xlim(axs[0].get_xlim())\n",
    "    ax.set_xticks(index)\n",
    "    ax.set_xticklabels(labels)\n",
    "\n",
    "fig.tight_layout()\n",
    "    \n",
    "#plt.savefig('gain_vs_length.png', dpi=1200, bbox_inches='tight')\n",
    "plt.show()"
   ]
  },
  {
   "cell_type": "code",
   "execution_count": null,
   "id": "ce11b62b-561d-4345-bcf6-e7bc01545c78",
   "metadata": {},
   "outputs": [],
   "source": []
  }
 ],
 "metadata": {
  "kernelspec": {
   "display_name": "Python [conda env:xmen100]",
   "language": "python",
   "name": "conda-env-xmen100-py"
  },
  "language_info": {
   "codemirror_mode": {
    "name": "ipython",
    "version": 3
   },
   "file_extension": ".py",
   "mimetype": "text/x-python",
   "name": "python",
   "nbconvert_exporter": "python",
   "pygments_lexer": "ipython3",
   "version": "3.10.11"
  }
 },
 "nbformat": 4,
 "nbformat_minor": 5
}
