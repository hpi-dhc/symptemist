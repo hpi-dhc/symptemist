{
 "cells": [
  {
   "cell_type": "code",
   "execution_count": 1,
   "id": "11600f58-7b2f-4b4f-a937-40c1364a37dd",
   "metadata": {
    "tags": []
   },
   "outputs": [],
   "source": [
    "import sys\n",
    "sys.path.append('../xmen/benchmarks')"
   ]
  },
  {
   "cell_type": "markdown",
   "id": "b33ea696-4fae-4420-912d-7e742db8c685",
   "metadata": {},
   "source": [
    "# Entity Simplification with OpenAI / GPT-4"
   ]
  },
  {
   "cell_type": "code",
   "execution_count": 27,
   "id": "a903fc26-d6b5-4fd7-b0fd-950030816598",
   "metadata": {
    "tags": []
   },
   "outputs": [],
   "source": [
    "from pathlib import Path\n",
    "import pandas as pd\n",
    "import datasets\n",
    "import numpy as np"
   ]
  },
  {
   "cell_type": "code",
   "execution_count": 3,
   "id": "a76935f5-02eb-468b-b448-0d395daa583f",
   "metadata": {
    "tags": []
   },
   "outputs": [],
   "source": [
    "base_path = Path.home() / '.cache' / 'xmen' / 'symptemist'"
   ]
  },
  {
   "cell_type": "code",
   "execution_count": 4,
   "id": "63d553a7-d1f4-4fea-86e9-bc4a8aa3fe83",
   "metadata": {
    "tags": []
   },
   "outputs": [],
   "source": [
    "import dataloaders\n",
    "dataset = dataloaders.load_symptemist()[0]"
   ]
  },
  {
   "cell_type": "code",
   "execution_count": 5,
   "id": "97e2fc46-6e09-44ea-a0fb-4bd4e0c8bc1e",
   "metadata": {
    "tags": []
   },
   "outputs": [],
   "source": [
    "from xmen import load_kb\n",
    "kb = load_kb(base_path / 'symptemist.jsonl')"
   ]
  },
  {
   "cell_type": "code",
   "execution_count": 6,
   "id": "321745a4-3f7e-44aa-9274-40bb53ae27b6",
   "metadata": {
    "tags": []
   },
   "outputs": [],
   "source": [
    "from xmen.evaluation import error_analysis, evaluate, evaluate_at_k"
   ]
  },
  {
   "cell_type": "code",
   "execution_count": 7,
   "id": "7f7fed2a-7a92-443e-84f2-1ffba8cee5a9",
   "metadata": {
    "tags": []
   },
   "outputs": [
    {
     "name": "stderr",
     "output_type": "stream",
     "text": [
      "/home/Florian.Borchert/miniconda3/envs/symptemist/lib/python3.10/site-packages/sklearn/base.py:348: InconsistentVersionWarning: Trying to unpickle estimator TfidfTransformer from version 1.3.0 when using version 1.3.1. This might lead to breaking code or invalid results. Use at your own risk. For more info please refer to:\n",
      "https://scikit-learn.org/stable/model_persistence.html#security-maintainability-limitations\n",
      "  warnings.warn(\n",
      "/home/Florian.Borchert/miniconda3/envs/symptemist/lib/python3.10/site-packages/sklearn/base.py:348: InconsistentVersionWarning: Trying to unpickle estimator TfidfVectorizer from version 1.3.0 when using version 1.3.1. This might lead to breaking code or invalid results. Use at your own risk. For more info please refer to:\n",
      "https://scikit-learn.org/stable/model_persistence.html#security-maintainability-limitations\n",
      "  warnings.warn(\n"
     ]
    },
    {
     "data": {
      "text/html": [
       "<pre style=\"white-space:pre;overflow-x:auto;line-height:normal;font-family:Menlo,'DejaVu Sans Mono',consolas,'Courier New',monospace\"><span style=\"color: #7fbfbf; text-decoration-color: #7fbfbf\">[02/27/24 15:54:38] </span><span style=\"color: #000080; text-decoration-color: #000080\">INFO    </span> Loading hierarchical faiss index                                <a href=\"file:///mnt/nfs/home/Florian.Borchert/workspace/xmen/xmen/linkers/sap_bert_linker.py\" target=\"_blank\"><span style=\"color: #7f7f7f; text-decoration-color: #7f7f7f\">sap_bert_linker.py</span></a><span style=\"color: #7f7f7f; text-decoration-color: #7f7f7f\">:</span><a href=\"file:///mnt/nfs/home/Florian.Borchert/workspace/xmen/xmen/linkers/sap_bert_linker.py#153\" target=\"_blank\"><span style=\"color: #7f7f7f; text-decoration-color: #7f7f7f\">153</span></a>\n",
       "</pre>\n"
      ],
      "text/plain": [
       "\u001b[2;36m[02/27/24 15:54:38]\u001b[0m\u001b[2;36m \u001b[0m\u001b[34mINFO    \u001b[0m Loading hierarchical faiss index                                \u001b]8;id=149700;file:///mnt/nfs/home/Florian.Borchert/workspace/xmen/xmen/linkers/sap_bert_linker.py\u001b\\\u001b[2msap_bert_linker.py\u001b[0m\u001b]8;;\u001b\\\u001b[2m:\u001b[0m\u001b]8;id=295395;file:///mnt/nfs/home/Florian.Borchert/workspace/xmen/xmen/linkers/sap_bert_linker.py#153\u001b\\\u001b[2m153\u001b[0m\u001b]8;;\u001b\\\n"
      ]
     },
     "metadata": {},
     "output_type": "display_data"
    },
    {
     "data": {
      "text/html": [
       "<pre style=\"white-space:pre;overflow-x:auto;line-height:normal;font-family:Menlo,'DejaVu Sans Mono',consolas,'Courier New',monospace\"><span style=\"color: #7fbfbf; text-decoration-color: #7fbfbf\">                    </span><span style=\"color: #000080; text-decoration-color: #000080\">INFO    </span> Loading index from                                                 <a href=\"file:///mnt/nfs/home/Florian.Borchert/workspace/xmen/xmen/linkers/faiss_indexer.py\" target=\"_blank\"><span style=\"color: #7f7f7f; text-decoration-color: #7f7f7f\">faiss_indexer.py</span></a><span style=\"color: #7f7f7f; text-decoration-color: #7f7f7f\">:</span><a href=\"file:///mnt/nfs/home/Florian.Borchert/workspace/xmen/xmen/linkers/faiss_indexer.py#64\" target=\"_blank\"><span style=\"color: #7f7f7f; text-decoration-color: #7f7f7f\">64</span></a>\n",
       "<span style=\"color: #7fbfbf; text-decoration-color: #7fbfbf\">                    </span>         <span style=\"color: #800080; text-decoration-color: #800080\">/home/Florian.Borchert/.cache/xmen/symptemist/index/sapbert/</span><span style=\"color: #ff00ff; text-decoration-color: #ff00ff\">embed_</span> <span style=\"color: #7f7f7f; text-decoration-color: #7f7f7f\">                   </span>\n",
       "<span style=\"color: #7fbfbf; text-decoration-color: #7fbfbf\">                    </span>         <span style=\"color: #ff00ff; text-decoration-color: #ff00ff\">faiss_hier.pickle</span>                                                  <span style=\"color: #7f7f7f; text-decoration-color: #7f7f7f\">                   </span>\n",
       "</pre>\n"
      ],
      "text/plain": [
       "\u001b[2;36m                   \u001b[0m\u001b[2;36m \u001b[0m\u001b[34mINFO    \u001b[0m Loading index from                                                 \u001b]8;id=381859;file:///mnt/nfs/home/Florian.Borchert/workspace/xmen/xmen/linkers/faiss_indexer.py\u001b\\\u001b[2mfaiss_indexer.py\u001b[0m\u001b]8;;\u001b\\\u001b[2m:\u001b[0m\u001b]8;id=560198;file:///mnt/nfs/home/Florian.Borchert/workspace/xmen/xmen/linkers/faiss_indexer.py#64\u001b\\\u001b[2m64\u001b[0m\u001b]8;;\u001b\\\n",
       "\u001b[2;36m                    \u001b[0m         \u001b[35m/home/Florian.Borchert/.cache/xmen/symptemist/index/sapbert/\u001b[0m\u001b[95membed_\u001b[0m \u001b[2m                   \u001b[0m\n",
       "\u001b[2;36m                    \u001b[0m         \u001b[95mfaiss_hier.pickle\u001b[0m                                                  \u001b[2m                   \u001b[0m\n"
      ]
     },
     "metadata": {},
     "output_type": "display_data"
    },
    {
     "data": {
      "text/html": [
       "<pre style=\"white-space:pre;overflow-x:auto;line-height:normal;font-family:Menlo,'DejaVu Sans Mono',consolas,'Courier New',monospace\"><span style=\"color: #7fbfbf; text-decoration-color: #7fbfbf\">[02/27/24 15:54:40] </span><span style=\"color: #000080; text-decoration-color: #000080\">INFO    </span> Loaded index of type <span style=\"font-weight: bold\">&lt;</span><span style=\"color: #ff00ff; text-decoration-color: #ff00ff; font-weight: bold\">class</span><span style=\"color: #000000; text-decoration-color: #000000\"> </span><span style=\"color: #008000; text-decoration-color: #008000\">'faiss.swigfaiss.IndexHNSWFlat'</span><span style=\"font-weight: bold\">&gt;</span> and   <a href=\"file:///mnt/nfs/home/Florian.Borchert/workspace/xmen/xmen/linkers/faiss_indexer.py\" target=\"_blank\"><span style=\"color: #7f7f7f; text-decoration-color: #7f7f7f\">faiss_indexer.py</span></a><span style=\"color: #7f7f7f; text-decoration-color: #7f7f7f\">:</span><a href=\"file:///mnt/nfs/home/Florian.Borchert/workspace/xmen/xmen/linkers/faiss_indexer.py#66\" target=\"_blank\"><span style=\"color: #7f7f7f; text-decoration-color: #7f7f7f\">66</span></a>\n",
       "<span style=\"color: #7fbfbf; text-decoration-color: #7fbfbf\">                    </span>         size <span style=\"color: #008080; text-decoration-color: #008080; font-weight: bold\">1079623</span>                                                       <span style=\"color: #7f7f7f; text-decoration-color: #7f7f7f\">                   </span>\n",
       "</pre>\n"
      ],
      "text/plain": [
       "\u001b[2;36m[02/27/24 15:54:40]\u001b[0m\u001b[2;36m \u001b[0m\u001b[34mINFO    \u001b[0m Loaded index of type \u001b[1m<\u001b[0m\u001b[1;95mclass\u001b[0m\u001b[39m \u001b[0m\u001b[32m'faiss.swigfaiss.IndexHNSWFlat'\u001b[0m\u001b[1m>\u001b[0m and   \u001b]8;id=545493;file:///mnt/nfs/home/Florian.Borchert/workspace/xmen/xmen/linkers/faiss_indexer.py\u001b\\\u001b[2mfaiss_indexer.py\u001b[0m\u001b]8;;\u001b\\\u001b[2m:\u001b[0m\u001b]8;id=392666;file:///mnt/nfs/home/Florian.Borchert/workspace/xmen/xmen/linkers/faiss_indexer.py#66\u001b\\\u001b[2m66\u001b[0m\u001b]8;;\u001b\\\n",
       "\u001b[2;36m                    \u001b[0m         size \u001b[1;36m1079623\u001b[0m                                                       \u001b[2m                   \u001b[0m\n"
      ]
     },
     "metadata": {},
     "output_type": "display_data"
    }
   ],
   "source": [
    "from xmen.linkers import default_ensemble\n",
    "linker = default_ensemble(base_path / 'index')"
   ]
  },
  {
   "cell_type": "code",
   "execution_count": 8,
   "id": "68f069a6-68d9-4270-8337-bed423ce251b",
   "metadata": {
    "tags": []
   },
   "outputs": [],
   "source": [
    "SYMPTEMIST_FEW_SHOT_EXAMPLES = [\n",
    "    (\"afebril\", \"temperatura corporal normal\"),\n",
    "    (\"induración de la vaginal testicular\", \"trastorno de testículo\"),\n",
    "    (\"formaciones mamelonadas en su interior a nivel de lóbulo superior\", \"lesión de pulmón\"),\n",
    "    (\"disnea\", \"disnea\"),\n",
    "]"
   ]
  },
  {
   "cell_type": "code",
   "execution_count": 30,
   "id": "a45ed375-17d8-4f53-a5a8-954eb61403e5",
   "metadata": {
    "tags": []
   },
   "outputs": [],
   "source": [
    "def count_differences(simplified, original):\n",
    "    cnt_all = 0\n",
    "    cnt_diff = 0\n",
    "    for ds, do in zip(simplified, original):\n",
    "        for es, eo in zip(ds['entities'], do['entities']):\n",
    "            cnt_all += 1\n",
    "            if es['text'] != eo['text']:\n",
    "                cnt_diff +=1\n",
    "    return cnt_diff, cnt_all"
   ]
  },
  {
   "cell_type": "code",
   "execution_count": 10,
   "id": "6d82557a-0471-4461-834c-692ea12dfd4a",
   "metadata": {
    "tags": []
   },
   "outputs": [],
   "source": [
    "MODEL = 'gpt-4-0125-preview'\n",
    "table_file = 'lookup_gpt-4-0125-preview_20240214-205237_prompt1.pkl'\n",
    "prompt = SYMPTEMIST_FEW_SHOT_EXAMPLES\n",
    "\n",
    "lookup_table = {}"
   ]
  },
  {
   "cell_type": "code",
   "execution_count": 11,
   "id": "4180cb40-b73b-4fbc-b413-266588ec3266",
   "metadata": {
    "tags": []
   },
   "outputs": [],
   "source": [
    "import pickle\n",
    "lookup_table = pickle.load(open(table_file, 'rb')) "
   ]
  },
  {
   "cell_type": "code",
   "execution_count": 14,
   "id": "5202b834-70d8-4844-9034-ad020315b501",
   "metadata": {
    "tags": []
   },
   "outputs": [],
   "source": [
    "from xmen.data.simplification import GPTSimplifier, EntitySimplification, SimplifierWrapper"
   ]
  },
  {
   "cell_type": "code",
   "execution_count": 15,
   "id": "a5231a4b-df97-46a4-b438-98ccaf52be35",
   "metadata": {
    "tags": []
   },
   "outputs": [],
   "source": [
    "text_simplifier = GPTSimplifier(\n",
    "    model=MODEL, \n",
    "    open_ai_api_key=\"insert_api_key\", \n",
    "    fixed_few_shot_examples = prompt,\n",
    "    table=lookup_table\n",
    ")"
   ]
  },
  {
   "cell_type": "code",
   "execution_count": 16,
   "id": "153fdaa7-5865-4f20-991d-f125e108e5a1",
   "metadata": {
    "tags": []
   },
   "outputs": [],
   "source": [
    "simplifier = EntitySimplification(text_simplifier, set_long_form=True)"
   ]
  },
  {
   "cell_type": "code",
   "execution_count": 17,
   "id": "8c7ac146-d98f-4314-a1c2-38300a1d7d4a",
   "metadata": {
    "tags": []
   },
   "outputs": [
    {
     "name": "stdout",
     "output_type": "stream",
     "text": [
      "Your task is to simplify expressions, such that the simplified version is more suitable for looking up concepts in a medical terminology. If the input is already simple enough, just return the input. \n",
      "\n",
      "Here are some examples:\n",
      "Input: ```afebril```\n",
      "Simplified: ```temperatura corporal normal```\n",
      "\n",
      "Input: ```induración de la vaginal testicular```\n",
      "Simplified: ```trastorno de testículo```\n",
      "\n",
      "Input: ```formaciones mamelonadas en su interior a nivel de lóbulo superior```\n",
      "Simplified: ```lesión de pulmón```\n",
      "\n",
      "Input: ```disnea```\n",
      "Simplified: ```disnea```\n",
      "\n",
      "Input: ```aumento de densidad en lóbulo inferior```\n",
      "Simplified:\n"
     ]
    }
   ],
   "source": [
    "print(text_simplifier.prompt_template.format('aumento de densidad en lóbulo inferior'))"
   ]
  },
  {
   "cell_type": "code",
   "execution_count": 18,
   "id": "bad2a5fd-2a92-4e4f-92f8-76167d3dab90",
   "metadata": {
    "tags": []
   },
   "outputs": [
    {
     "data": {
      "text/plain": [
       "'lesión de pulmón'"
      ]
     },
     "execution_count": 18,
     "metadata": {},
     "output_type": "execute_result"
    }
   ],
   "source": [
    "text_simplifier.simplify('aumento de densidad en lóbulo inferior')"
   ]
  },
  {
   "cell_type": "markdown",
   "id": "66f43922-8396-47a4-9429-40ab1e0a7867",
   "metadata": {},
   "source": [
    "# Generate Candidates"
   ]
  },
  {
   "cell_type": "code",
   "execution_count": 19,
   "id": "b182b5d9-7b4c-4567-849f-28b0259e0d8d",
   "metadata": {
    "tags": []
   },
   "outputs": [
    {
     "data": {
      "application/vnd.jupyter.widget-view+json": {
       "model_id": "280f953fa28d4f0ead8565e6ca8fdca0",
       "version_major": 2,
       "version_minor": 0
      },
      "text/plain": [
       "Map:   0%|          | 0/608 [00:00<?, ? examples/s]"
      ]
     },
     "metadata": {},
     "output_type": "display_data"
    },
    {
     "data": {
      "application/vnd.jupyter.widget-view+json": {
       "model_id": "76e354075d924b1f8c186b3a03850931",
       "version_major": 2,
       "version_minor": 0
      },
      "text/plain": [
       "Map:   0%|          | 0/246 [00:00<?, ? examples/s]"
      ]
     },
     "metadata": {},
     "output_type": "display_data"
    },
    {
     "data": {
      "application/vnd.jupyter.widget-view+json": {
       "model_id": "92703c9da3914c79aeda393f5d30206e",
       "version_major": 2,
       "version_minor": 0
      },
      "text/plain": [
       "Map:   0%|          | 0/136 [00:00<?, ? examples/s]"
      ]
     },
     "metadata": {},
     "output_type": "display_data"
    }
   ],
   "source": [
    "candidates = linker.predict_batch(dataset, top_k=64, batch_size=128)"
   ]
  },
  {
   "cell_type": "code",
   "execution_count": 20,
   "id": "5be0bdb1-b419-4a79-b8d0-09eb4e9c5dc3",
   "metadata": {
    "tags": []
   },
   "outputs": [
    {
     "name": "stdout",
     "output_type": "stream",
     "text": [
      "Recall@1 0.4388426128890837\n",
      "Recall@2 0.5610112523746895\n",
      "Recall@4 0.6226801110623995\n",
      "Recall@8 0.6786497150372643\n",
      "Recall@16 0.7219055969603975\n",
      "Recall@32 0.7558088557650153\n",
      "Recall@64 0.7837205903843344\n"
     ]
    }
   ],
   "source": [
    "_ = evaluate_at_k(dataset['train'], candidates['train'])"
   ]
  },
  {
   "cell_type": "code",
   "execution_count": 21,
   "id": "b5fe7abd-ab13-4b32-92a1-3aebed027cec",
   "metadata": {
    "tags": []
   },
   "outputs": [
    {
     "name": "stdout",
     "output_type": "stream",
     "text": [
      "Recall@1 0.4647592463363573\n",
      "Recall@2 0.5757152826238661\n",
      "Recall@4 0.6427076064200977\n",
      "Recall@8 0.6929518492672715\n",
      "Recall@16 0.7264480111653873\n",
      "Recall@32 0.7571528262386602\n",
      "Recall@64 0.782274947662247\n"
     ]
    }
   ],
   "source": [
    "_ = evaluate_at_k(dataset['validation'], candidates['validation'])"
   ]
  },
  {
   "cell_type": "code",
   "execution_count": 22,
   "id": "d800c439-0384-4328-abcc-ee4763dfa050",
   "metadata": {
    "tags": []
   },
   "outputs": [
    {
     "name": "stdout",
     "output_type": "stream",
     "text": [
      "Recall@1 0.4474885844748858\n",
      "Recall@2 0.5602388479100808\n",
      "Recall@4 0.6199508254302775\n",
      "Recall@8 0.6656129258868985\n",
      "Recall@16 0.7007376185458377\n",
      "Recall@32 0.7323498419388831\n",
      "Recall@64 0.7632595714787496\n"
     ]
    }
   ],
   "source": [
    "_ = evaluate_at_k(dataset['test'], candidates['test'])"
   ]
  },
  {
   "cell_type": "code",
   "execution_count": 24,
   "id": "8de92a40-48fb-4f7c-9380-c00faa0dbdd0",
   "metadata": {
    "tags": []
   },
   "outputs": [
    {
     "data": {
      "application/vnd.jupyter.widget-view+json": {
       "model_id": "3f2d3b38b68a41738d13a079cc969b27",
       "version_major": 2,
       "version_minor": 0
      },
      "text/plain": [
       "Map:   0%|          | 0/608 [00:00<?, ? examples/s]"
      ]
     },
     "metadata": {},
     "output_type": "display_data"
    },
    {
     "data": {
      "application/vnd.jupyter.widget-view+json": {
       "model_id": "2e24caafc06d4cd5a17fb2912d97ac1e",
       "version_major": 2,
       "version_minor": 0
      },
      "text/plain": [
       "Map:   0%|          | 0/246 [00:00<?, ? examples/s]"
      ]
     },
     "metadata": {},
     "output_type": "display_data"
    },
    {
     "data": {
      "application/vnd.jupyter.widget-view+json": {
       "model_id": "0bb46504c6fc4b229a3cce29fea0529f",
       "version_major": 2,
       "version_minor": 0
      },
      "text/plain": [
       "Map:   0%|          | 0/136 [00:00<?, ? examples/s]"
      ]
     },
     "metadata": {},
     "output_type": "display_data"
    }
   ],
   "source": [
    "simplified_candidates = simplifier.transform_batch(candidates)"
   ]
  },
  {
   "cell_type": "markdown",
   "id": "71e27c35-54fc-4add-928b-9000c868c732",
   "metadata": {},
   "source": [
    "# Determine Optimal Cutoff"
   ]
  },
  {
   "cell_type": "code",
   "execution_count": 28,
   "id": "a4e0ff81-cc97-4122-a754-7308dc62ddf7",
   "metadata": {
    "tags": []
   },
   "outputs": [],
   "source": [
    "SPLIT = 'train'\n",
    "eval_candidates = candidates[SPLIT]\n",
    "eval_ds = dataset[SPLIT]\n",
    "eval_simplified_ds = simplified_candidates[SPLIT]\n",
    "\n",
    "def select_candidates(d, idx, filter_fn=lambda e: True):\n",
    "    result = []\n",
    "    for ei, ec, eg in zip(d['entities'], eval_candidates[idx]['entities'], eval_ds[idx]['entities']):\n",
    "        if filter_fn(ec):\n",
    "            result.append(ec)\n",
    "        else:\n",
    "            result.append(ei)\n",
    "    return { 'entities' : result }"
   ]
  },
  {
   "cell_type": "code",
   "execution_count": 31,
   "id": "b1d7717f-1b91-4fbd-859b-a21d1b2c9315",
   "metadata": {
    "tags": []
   },
   "outputs": [
    {
     "name": "stdout",
     "output_type": "stream",
     "text": [
      "0.55\n",
      "(9, 6843)\n",
      "0.6000000000000001\n"
     ]
    },
    {
     "data": {
      "application/vnd.jupyter.widget-view+json": {
       "model_id": "0695b688a2bf4d81af34111274ff061f",
       "version_major": 2,
       "version_minor": 0
      },
      "text/plain": [
       "Map:   0%|          | 0/608 [00:00<?, ? examples/s]"
      ]
     },
     "metadata": {},
     "output_type": "display_data"
    },
    {
     "name": "stdout",
     "output_type": "stream",
     "text": [
      "(104, 6843)\n",
      "0.6500000000000001\n"
     ]
    },
    {
     "data": {
      "application/vnd.jupyter.widget-view+json": {
       "model_id": "61588be189a546dd947fabd173b16369",
       "version_major": 2,
       "version_minor": 0
      },
      "text/plain": [
       "Map:   0%|          | 0/608 [00:00<?, ? examples/s]"
      ]
     },
     "metadata": {},
     "output_type": "display_data"
    },
    {
     "name": "stdout",
     "output_type": "stream",
     "text": [
      "(469, 6843)\n",
      "0.7000000000000002\n"
     ]
    },
    {
     "data": {
      "application/vnd.jupyter.widget-view+json": {
       "model_id": "58e92a6b6b1d41e4a768dbfd94bb34d6",
       "version_major": 2,
       "version_minor": 0
      },
      "text/plain": [
       "Map:   0%|          | 0/608 [00:00<?, ? examples/s]"
      ]
     },
     "metadata": {},
     "output_type": "display_data"
    },
    {
     "name": "stdout",
     "output_type": "stream",
     "text": [
      "(1091, 6843)\n",
      "0.7500000000000002\n"
     ]
    },
    {
     "data": {
      "application/vnd.jupyter.widget-view+json": {
       "model_id": "e89ec0a6f0144929b76ed92b9f1a9039",
       "version_major": 2,
       "version_minor": 0
      },
      "text/plain": [
       "Map:   0%|          | 0/608 [00:00<?, ? examples/s]"
      ]
     },
     "metadata": {},
     "output_type": "display_data"
    },
    {
     "name": "stdout",
     "output_type": "stream",
     "text": [
      "(1871, 6843)\n",
      "0.8000000000000003\n"
     ]
    },
    {
     "data": {
      "application/vnd.jupyter.widget-view+json": {
       "model_id": "596f5d0a17ec41b490e4d84784ee0750",
       "version_major": 2,
       "version_minor": 0
      },
      "text/plain": [
       "Map:   0%|          | 0/608 [00:00<?, ? examples/s]"
      ]
     },
     "metadata": {},
     "output_type": "display_data"
    },
    {
     "name": "stdout",
     "output_type": "stream",
     "text": [
      "(2586, 6843)\n",
      "0.8500000000000003\n"
     ]
    },
    {
     "data": {
      "application/vnd.jupyter.widget-view+json": {
       "model_id": "cc4c6ef6b9c64f0392c4961e3aaa51cd",
       "version_major": 2,
       "version_minor": 0
      },
      "text/plain": [
       "Map:   0%|          | 0/608 [00:00<?, ? examples/s]"
      ]
     },
     "metadata": {},
     "output_type": "display_data"
    },
    {
     "name": "stdout",
     "output_type": "stream",
     "text": [
      "(3239, 6843)\n",
      "0.9000000000000004\n"
     ]
    },
    {
     "data": {
      "application/vnd.jupyter.widget-view+json": {
       "model_id": "5816180e3c1c4475b840be48c1782940",
       "version_major": 2,
       "version_minor": 0
      },
      "text/plain": [
       "Map:   0%|          | 0/608 [00:00<?, ? examples/s]"
      ]
     },
     "metadata": {},
     "output_type": "display_data"
    },
    {
     "name": "stdout",
     "output_type": "stream",
     "text": [
      "(3864, 6843)\n",
      "0.9500000000000004\n"
     ]
    },
    {
     "data": {
      "application/vnd.jupyter.widget-view+json": {
       "model_id": "1226559e230045f2ae5650d1a7791ed1",
       "version_major": 2,
       "version_minor": 0
      },
      "text/plain": [
       "Map:   0%|          | 0/608 [00:00<?, ? examples/s]"
      ]
     },
     "metadata": {},
     "output_type": "display_data"
    },
    {
     "name": "stdout",
     "output_type": "stream",
     "text": [
      "(4357, 6843)\n",
      "1.0000000000000004\n"
     ]
    },
    {
     "data": {
      "application/vnd.jupyter.widget-view+json": {
       "model_id": "62498cf6a62e482ab0650f5b3f7a3fea",
       "version_major": 2,
       "version_minor": 0
      },
      "text/plain": [
       "Map:   0%|          | 0/608 [00:00<?, ? examples/s]"
      ]
     },
     "metadata": {},
     "output_type": "display_data"
    },
    {
     "name": "stdout",
     "output_type": "stream",
     "text": [
      "(5841, 6843)\n"
     ]
    }
   ],
   "source": [
    "cutoff_eval = []\n",
    "\n",
    "for cutoff in np.arange(0.55, 1.05, 0.05):\n",
    "    print(cutoff)\n",
    "    fn = lambda e: e['normalized'][0]['score'] >= cutoff\n",
    "    best_candidates = eval_simplified_ds.map(lambda d, i: select_candidates(d, i, fn), with_indices=True)\n",
    "    diffs = count_differences(best_candidates, eval_candidates)\n",
    "    print(diffs)\n",
    "    eval_res = evaluate_at_k(eval_ds, best_candidates, silent=True)\n",
    "    cutoff_eval_i = {'cutoff' : cutoff, 'num_changed' : diffs[0], 'num_all' : diffs[1]}\n",
    "    for i, es in eval_res.items():\n",
    "        cutoff_eval_i[i] = es['strict']['recall']\n",
    "    cutoff_eval.append(cutoff_eval_i)"
   ]
  },
  {
   "cell_type": "code",
   "execution_count": null,
   "id": "3dc40460-a72e-436f-964e-e2dd6a39fe92",
   "metadata": {
    "tags": []
   },
   "outputs": [],
   "source": [
    "cutoff_eval = pd.DataFrame(cutoff_eval).round(3)"
   ]
  },
  {
   "cell_type": "code",
   "execution_count": null,
   "id": "1ff8296d-135e-456a-a720-14e9da9b49fc",
   "metadata": {
    "tags": []
   },
   "outputs": [],
   "source": [
    "baseline = evaluate_at_k(eval_ds, evalcandidates, silent=True)"
   ]
  },
  {
   "cell_type": "code",
   "execution_count": null,
   "id": "f6ffc479-d063-4aa9-a2b7-7b86895d4437",
   "metadata": {
    "tags": []
   },
   "outputs": [],
   "source": [
    "from matplotlib import pyplot as plt\n",
    "import matplotlib\n",
    "\n",
    "matplotlib.rcParams.update({'font.size': 14, 'font.family' : 'Times New Roman'})\n",
    "\n",
    "fig, axs = plt.subplots(2, 1, figsize=(10,5), sharex=True, gridspec_kw={'height_ratios': [2, 1]}, squeeze=True)\n",
    "\n",
    "ax1 = axs[0]\n",
    "\n",
    "x_range = np.arange(0, len(cutoff_eval))\n",
    "width = 0.3       \n",
    "\n",
    "ax1.bar(x_range - 0.5 * width, \n",
    "        (cutoff_eval.set_index('cutoff')[1] - baseline[1]['strict']['recall']).values, \n",
    "        width, color='darkblue', linewidth=0.5, edgecolor='black', label='$\\Delta$ Recall@1 (pp.)')\n",
    "ax1.bar(x_range + 0.5 * width, \n",
    "        (cutoff_eval.set_index('cutoff')[64] - baseline[64]['strict']['recall']).values, \n",
    "        width, color='lightblue', linewidth=0.5, edgecolor='black', label='$\\Delta$ Recall@64 (pp.)')\n",
    "\n",
    "ax1.grid(axis='y')\n",
    "ax1.set_yticks(np.arange(-0.005, 0.03, 0.005))\n",
    "ax1.set_yticklabels([f'+{t * 100:.1f}' if t > 0 else f'{t * 100:.1f}' for t in ax1.get_yticks()])\n",
    "\n",
    "ax1.set_xticks(x_range)\n",
    "ax1.set_xticklabels(cutoff_eval.cutoff.values)\n",
    "\n",
    "ax0 = axs[1]\n",
    "ax0.grid(axis='y')\n",
    "ax0.plot(x_range, cutoff_eval.num_changed / cutoff_eval.num_all, color='red', label='Simplified Mentions (%)', marker='o')\n",
    "ax0.set_yticks(np.arange(0,1.02,0.2))\n",
    "ax0.set_yticklabels([f\"{int(t * 100)}%\" if t >= 0 and t <=1 else \"\" for t in ax0.get_yticks()])\n",
    "\n",
    "ax0.set_xlabel('Confidence Threshold for Entity Simplication')\n",
    "ax0.legend()\n",
    "\n",
    "ax0.set_xticks(x_range)\n",
    "ax0.set_xticklabels(cutoff_eval.cutoff.values)\n",
    "\n",
    "ax1.legend()\n",
    "\n",
    "#plt.savefig('diff_cutoff.png', dpi=1200, bbox_inches='tight')\n",
    "\n",
    "plt.show()"
   ]
  },
  {
   "cell_type": "code",
   "execution_count": null,
   "id": "864aa5af-5cd6-44cf-9dfd-e933ff9116de",
   "metadata": {
    "tags": []
   },
   "outputs": [],
   "source": [
    "best_cutoff = 0.85"
   ]
  },
  {
   "cell_type": "code",
   "execution_count": null,
   "id": "0dda3df6-f5d5-4c54-b0c3-439f5808ddef",
   "metadata": {
    "tags": []
   },
   "outputs": [],
   "source": [
    "simplifier = SimplifierWrapper(\n",
    "    linker,\n",
    "    text_simplifier, \n",
    "    filter_fn=lambda c: c['normalized'][0]['score'] < best_cutoff, \n",
    "    set_long_form=True\n",
    ")\n",
    "simplified_candidates_cutoff = simplifier.predict_batch(candidates, top_k=64, batch_size=128)"
   ]
  },
  {
   "cell_type": "code",
   "execution_count": null,
   "id": "aa1b9ec3-5a2e-45d2-b93b-b4845b047ea4",
   "metadata": {
    "tags": []
   },
   "outputs": [],
   "source": [
    "print(count_differences(simplified_candidates_cutoff['train'], dataset['train']))\n",
    "print(count_differences(simplified_candidates_cutoff['validation'], dataset['validation']))\n",
    "print(count_differences(simplified_candidates_cutoff['test'], dataset['test']))"
   ]
  },
  {
   "cell_type": "code",
   "execution_count": null,
   "id": "908c1fb6-ef49-4d4d-9b34-2a5ad25cd0c0",
   "metadata": {
    "tags": []
   },
   "outputs": [],
   "source": [
    "_ = evaluate_at_k(dataset['validation'], simplified_candidates_cutoff['validation'])"
   ]
  },
  {
   "cell_type": "code",
   "execution_count": null,
   "id": "c8a9a5ff-73f7-446e-aa3e-b283d777612d",
   "metadata": {
    "tags": []
   },
   "outputs": [],
   "source": [
    "_ = evaluate_at_k(dataset['test'], simplified_candidates_cutoff['test'])"
   ]
  },
  {
   "cell_type": "markdown",
   "id": "8e693279-cec7-4e0b-b3c6-29a23258d7f8",
   "metadata": {},
   "source": [
    "# Save"
   ]
  },
  {
   "cell_type": "code",
   "execution_count": null,
   "id": "2ea15cb9-8d1e-4022-8116-388bd97eacb3",
   "metadata": {
    "tags": []
   },
   "outputs": [],
   "source": [
    "simplified_candidates_cutoff.save_to_disk('candidates_simplified_cutoff')"
   ]
  },
  {
   "cell_type": "markdown",
   "id": "71ddb5c4-cf8a-4180-8883-3c99ad8872b4",
   "metadata": {},
   "source": [
    "# Analysis"
   ]
  },
  {
   "cell_type": "code",
   "execution_count": null,
   "id": "75546489-f9fc-40c1-930a-e5cb2a9f1254",
   "metadata": {
    "tags": []
   },
   "outputs": [],
   "source": [
    "from xmen.evaluation import error_analysis, evaluate_at_k"
   ]
  },
  {
   "cell_type": "code",
   "execution_count": null,
   "id": "d600b012-052e-40e9-81af-ef913afe4b03",
   "metadata": {
    "tags": []
   },
   "outputs": [],
   "source": [
    "simplified_candidates_cutoff = datasets.load_from_disk('candidates_simplified_cutoff')"
   ]
  },
  {
   "cell_type": "code",
   "execution_count": null,
   "id": "b5b5f71f-87f1-405a-8ec4-c729e641ecfd",
   "metadata": {
    "tags": []
   },
   "outputs": [],
   "source": [
    "_ = evaluate_at_k(dataset['test'], baseline_candidates['test'])"
   ]
  },
  {
   "cell_type": "code",
   "execution_count": null,
   "id": "116dcde7-e04b-4d42-999d-f9383620f2ab",
   "metadata": {
    "tags": []
   },
   "outputs": [],
   "source": [
    "_ = evaluate_at_k(dataset['test'], simplified_candidates_cutoff['test'])"
   ]
  },
  {
   "cell_type": "code",
   "execution_count": null,
   "id": "1fd74a01-9067-4e28-93b9-00f554198f85",
   "metadata": {
    "tags": []
   },
   "outputs": [],
   "source": [
    "simplified_ds = simplifier.transform_batch(dataset)"
   ]
  },
  {
   "cell_type": "code",
   "execution_count": null,
   "id": "a83f15e9-1d9e-41f2-8002-c45e728d45bf",
   "metadata": {
    "tags": []
   },
   "outputs": [],
   "source": [
    "ea_before_simpl = error_analysis(dataset['train'], baseline_candidates['train'])\n",
    "ea_after_simple = error_analysis(simplified_ds['train'], simplified_candidates_cutoff['train'])"
   ]
  },
  {
   "cell_type": "code",
   "execution_count": null,
   "id": "d46db3b8-f6e0-46a7-9506-c07dbc6a6a65",
   "metadata": {
    "tags": []
   },
   "outputs": [],
   "source": [
    "ds = dataset['train']\n",
    "cands = simplified_candidates_cutoff['train']\n",
    "\n",
    "def show_example(i, return_doc=False):\n",
    "    # print(ents[i])\n",
    "    eai = ea_before_simpl.loc[i]\n",
    "    eai_after = ea_after_simple.loc[i]\n",
    "    d = cands.filter(lambda d: d['document_id'] == eai.document_id)\n",
    "    assert len(d) == 1\n",
    "    d = d[0]\n",
    "    ent = [e for e in d['entities'] if e['offsets'][0][0] == eai.pred_start and e['offsets'][0][1] == eai.pred_end]\n",
    "    assert len(ent) == 1\n",
    "    ent = ent[0]\n",
    "    #print(ent)\n",
    "    \n",
    "    print('## Before', eai.gt_text, eai.pred_top_score, '-->', eai.pred_index)    \n",
    "    print('## Simplified', eai_after.gt_text, eai_after.pred_top_score, '-->', eai_after.pred_index)\n",
    "    print(eai.gold_concept['db_id'])\n",
    "    print(kb.cui_to_entity[eai.gold_concept['db_id']])\n",
    "    \n",
    "    if return_doc:\n",
    "        return d, ent"
   ]
  },
  {
   "cell_type": "code",
   "execution_count": null,
   "id": "3d06c300-6278-46b7-99e8-d8627a1cb590",
   "metadata": {
    "tags": []
   },
   "outputs": [],
   "source": [
    "index = []\n",
    "labels = []\n",
    "match_any = []\n",
    "match_lost = []\n",
    "better_ranking = []\n",
    "worse_ranking = []\n",
    "n_candidates = []\n",
    "\n",
    "end = 10\n",
    "\n",
    "def get_new_candidates(i):\n",
    "    return ea_after_simple[(ea_before_simpl._word_len == i) & (ea_before_simpl.pred_index == -1) & (ea_after_simple.pred_index != -1)]\n",
    "\n",
    "def get_better_ranking(i):\n",
    "    return ea_after_simple[(ea_before_simpl._word_len == i) & (ea_after_simple.pred_index != -1) & (ea_after_simple.pred_index < ea_before_simpl.pred_index)]\n",
    "\n",
    "def get_worse_ranking(i):\n",
    "    return ea_after_simple[(ea_before_simpl._word_len == i) & (ea_before_simpl.pred_index != -1) & (ea_after_simple.pred_index > ea_before_simpl.pred_index)]\n",
    "\n",
    "def get_lost_candidates(i):\n",
    "    return ea_after_simple[(ea_before_simpl._word_len == i) & (ea_before_simpl.pred_index != -1) & (ea_after_simple.pred_index == -1)]\n",
    "\n",
    "def get_n_candidates(i):\n",
    "    return ea_after_simple[(ea_before_simpl._word_len == i)]\n",
    "\n",
    "for i in range(1, end + 1):\n",
    "    #ea0 = ea_after_simple[(ea_before_simpl._word_len == i) & (ea_before_simpl.pred_index == -1) & (ea_after_simple.pred_index == 0)]\n",
    "    n_candidates_i = get_n_candidates(i)\n",
    "    eaany = get_new_candidates(i)\n",
    "    eabetter = get_better_ranking(i)\n",
    "    ealost = get_lost_candidates(i)\n",
    "    eaworse = get_worse_ranking(i)\n",
    "    \n",
    "    n_candidates.append(len(n_candidates_i))\n",
    "    index.append(i)\n",
    "    labels.append(str(i))\n",
    "    match_any.append(len(eaany))\n",
    "    better_ranking.append(len(eabetter))\n",
    "    match_lost.append(-len(ealost))\n",
    "    worse_ranking.append(-len(eaworse))\n",
    "    \n",
    "labels.append(str(f'>{ i }'))\n",
    "\n",
    "i += 1\n",
    "\n",
    "#ea0 = ea_after_simple[(ea_before_simpl._word_len >= i) & (ea_before_simpl.pred_index == -1) & (ea_after_simple.pred_index == 0)]\n",
    "n_candidates_i = get_n_candidates(i)\n",
    "eaany = get_new_candidates(i)\n",
    "eabetter = get_better_ranking(i)\n",
    "ealost = get_lost_candidates(i)\n",
    "eaworse = get_worse_ranking(i)\n",
    "\n",
    "n_candidates.append(len(n_candidates_i))\n",
    "index.append(i)\n",
    "match_any.append(len(eaany))\n",
    "better_ranking.append(len(eabetter))\n",
    "match_lost.append(-len(ealost))\n",
    "worse_ranking.append(-len(eaworse))"
   ]
  },
  {
   "cell_type": "code",
   "execution_count": null,
   "id": "a9969893-7156-4dba-831b-7a2cea9e2e79",
   "metadata": {
    "tags": []
   },
   "outputs": [],
   "source": [
    "def get_rel(m):\n",
    "    return [mi / ci for mi, ci in zip(m, n_candidates)]"
   ]
  },
  {
   "cell_type": "code",
   "execution_count": null,
   "id": "5a69fcda-6655-4551-8202-a3c230e22b4a",
   "metadata": {
    "tags": []
   },
   "outputs": [],
   "source": [
    "n_candidates"
   ]
  },
  {
   "cell_type": "code",
   "execution_count": null,
   "id": "e62c8bcf-72fd-44ed-bb64-9b71256af58e",
   "metadata": {
    "tags": []
   },
   "outputs": [],
   "source": [
    "import numpy as np\n",
    "import matplotlib\n",
    "from matplotlib import pyplot as plt\n",
    "import matplotlib.font_manager as font_manager\n",
    "\n",
    "\n",
    "fig, axs = plt.subplots(3, 1, figsize=(8,12), gridspec_kw={'height_ratios': [0.4, 1, 1]})\n",
    "font_size_lg = 14\n",
    "font_size_sm = 12\n",
    "\n",
    "matplotlib.rcParams.update({'font.size': font_size_lg, 'font.family' : 'Times New Roman'})\n",
    "\n",
    "width = 0.2\n",
    "\n",
    "ax0 = axs[0]\n",
    "ax0.bar(np.array(index), n_candidates, width=width, label='No. Mentions', color='grey', edgecolor='black', linewidth=0.5)\n",
    "ax0.grid(axis='y')\n",
    "#ax0.set_ylabel('Number of mentions')\n",
    "ax0.set_title('(a) Total number of mentions', size=font_size_lg)\n",
    "ax0.set_yticks(range(0,3000,500))\n",
    "\n",
    "ax1 = axs[1]\n",
    "\n",
    "ax1.grid(axis='y')\n",
    "\n",
    "#ax.bar(np.array(index) - width, match_0, width=width, label='')\n",
    "ax1.bar(np.array(index) - width, get_rel(match_any), width=width, label='↑ Recall', color='lightgreen', edgecolor='black', linewidth=0.5)\n",
    "ax1.bar(np.array(index), get_rel(match_lost), width=width, label='↓ Recall', color='wheat', edgecolor='black', linewidth=0.5)\n",
    "ax1.bar(np.array(index) + width, get_rel(np.array(match_any) + np.array(match_lost)), width=width, label='Difference', color='blue', edgecolor='black', linewidth=0.5)\n",
    "\n",
    "y_range = np.arange(-0.1, 0.18, 0.05)\n",
    "ax1.set_yticks(y_range)\n",
    "ax1.set_yticklabels([f'{\"+\" if i > 0 else \"\"}{round(i * 100)}pp.' for i in y_range])\n",
    "ax1.set_ylim(-0.12,0.14)\n",
    "ax1.set_title('(b) Difference in recall@64 due to entity simplification', size=font_size_lg)\n",
    "ax1.legend(loc='upper left', \n",
    "           #bbox_to_anchor=(1, 0.9), \n",
    "           ncol=3, fontsize=font_size_sm)    \n",
    "\n",
    "ax2 = axs[2]\n",
    "    \n",
    "ax2.bar(np.array(index) - width, get_rel(better_ranking), width=width, label='↑ Ranking', color='lightgreen', edgecolor='black', linewidth=0.5)\n",
    "ax2.bar(np.array(index), get_rel(worse_ranking), width=width, label='↓ Ranking', color='wheat', edgecolor='black', linewidth=0.5)\n",
    "ax2.bar(np.array(index) + width, get_rel(np.array(better_ranking) + np.array(worse_ranking)), width=width, label='Difference', color='blue', edgecolor='black', linewidth=0.5)\n",
    "    \n",
    "y_range_2 = np.arange(-0.2,0.3,0.05)\n",
    "ax2.set_yticks(y_range_2)\n",
    "ax2.set_yticklabels([f'{\"\" if i > 0 else \"\"}{abs(round(i * 100))}%' for i in y_range_2])\n",
    " \n",
    "ax2.legend(loc='upper left', ncol=3, fontsize=font_size_sm)\n",
    "ax2.set_title('(c) Proportion of mentions with increased / decreased ranking\\nof the ground-truth concept due to entity simplification', size=font_size_lg)\n",
    "    \n",
    "ax2.grid(axis='y')\n",
    "ax2.set_xlabel('Mention length (tokens)')\n",
    "\n",
    "for ax in axs:\n",
    "    ax.set_xlim(axs[0].get_xlim())\n",
    "    ax.set_xticks(index)\n",
    "    ax.set_xticklabels(labels)\n",
    "\n",
    "fig.tight_layout()\n",
    "    \n",
    "plt.savefig('gain_vs_length.png', dpi=1200, bbox_inches='tight')\n",
    "plt.show()"
   ]
  },
  {
   "cell_type": "code",
   "execution_count": null,
   "id": "05169ebc-71cc-4279-b0e7-898c3eb9ca00",
   "metadata": {
    "tags": []
   },
   "outputs": [],
   "source": [
    "ea_after_simple[ea_after_simple.pred_text.map(lambda l: 'homo' in l[0])]"
   ]
  },
  {
   "cell_type": "code",
   "execution_count": null,
   "id": "8d1396e2-8158-495a-b648-72fa3db05ffa",
   "metadata": {
    "tags": []
   },
   "outputs": [],
   "source": [
    "ea = ea_after_simple[(ea_before_simpl._word_len == 6) & (ea_before_simpl.pred_index == -1) & (ea_after_simple.pred_index == 0)]\n",
    "print(len(ea))\n",
    "ea.head(5)"
   ]
  },
  {
   "cell_type": "code",
   "execution_count": null,
   "id": "7b258ed2-b8be-4535-80ac-6eeadbcc053e",
   "metadata": {
    "tags": []
   },
   "outputs": [],
   "source": [
    "di, ei = show_example(2704, return_doc=True)"
   ]
  },
  {
   "cell_type": "code",
   "execution_count": null,
   "id": "74a0fbb9-9e87-498a-8445-b645311f144b",
   "metadata": {
    "tags": []
   },
   "outputs": [],
   "source": [
    "ei"
   ]
  },
  {
   "cell_type": "code",
   "execution_count": null,
   "id": "5ab80c11-e5d5-4d5e-9bfa-939181440e5c",
   "metadata": {
    "tags": []
   },
   "outputs": [],
   "source": [
    "ea = ea_after_simple[(ea_before_simpl._word_len == 1) & (ea_before_simpl.pred_index == -1) & (ea_after_simple.pred_index != 0)]\n",
    "print(len(ea))\n",
    "ea.head(5)"
   ]
  },
  {
   "cell_type": "code",
   "execution_count": null,
   "id": "011200d5-1c01-443b-97a9-35dcc670b831",
   "metadata": {
    "tags": []
   },
   "outputs": [],
   "source": [
    "show_example(2971)"
   ]
  },
  {
   "cell_type": "code",
   "execution_count": null,
   "id": "d71f9e56-7b20-4649-96d0-783373928598",
   "metadata": {
    "tags": []
   },
   "outputs": [],
   "source": [
    "ea_after_simple[(ea_before_simpl._word_len == 2) & (ea_before_simpl.pred_index == -1) & (ea_after_simple.pred_index == 0)].head(5)"
   ]
  },
  {
   "cell_type": "code",
   "execution_count": null,
   "id": "0d6bad5c-e80a-4eaa-82e6-839d36cd17db",
   "metadata": {
    "tags": []
   },
   "outputs": [],
   "source": [
    "ea_after_simple[(ea_before_simpl._word_len == 5) & (ea_before_simpl.pred_index == -1) & (ea_after_simple.pred_index == 0)].head(5)"
   ]
  },
  {
   "cell_type": "code",
   "execution_count": null,
   "id": "34408c44-e76b-42c7-8abd-d492cce3bbda",
   "metadata": {
    "tags": []
   },
   "outputs": [],
   "source": [
    "ea_after_simple[(ea_before_simpl._word_len > 7) & (ea_before_simpl.pred_index == -1) & (ea_after_simple.pred_index != -1)]"
   ]
  },
  {
   "cell_type": "code",
   "execution_count": null,
   "id": "ce11b62b-561d-4345-bcf6-e7bc01545c78",
   "metadata": {},
   "outputs": [],
   "source": []
  }
 ],
 "metadata": {
  "kernelspec": {
   "display_name": "Python [conda env:symptemist]",
   "language": "python",
   "name": "conda-env-symptemist-py"
  },
  "language_info": {
   "codemirror_mode": {
    "name": "ipython",
    "version": 3
   },
   "file_extension": ".py",
   "mimetype": "text/x-python",
   "name": "python",
   "nbconvert_exporter": "python",
   "pygments_lexer": "ipython3",
   "version": "3.10.13"
  }
 },
 "nbformat": 4,
 "nbformat_minor": 5
}
