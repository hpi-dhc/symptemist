{
 "cells": [
  {
   "cell_type": "code",
   "execution_count": 2,
   "id": "11600f58-7b2f-4b4f-a937-40c1364a37dd",
   "metadata": {
    "tags": []
   },
   "outputs": [],
   "source": [
    "import sys\n",
    "sys.path.append('../xmen/benchmarks')"
   ]
  },
  {
   "cell_type": "markdown",
   "id": "b33ea696-4fae-4420-912d-7e742db8c685",
   "metadata": {},
   "source": [
    "# Entity Simplification with OpenAI / GPT-4"
   ]
  },
  {
   "cell_type": "code",
   "execution_count": 3,
   "id": "a903fc26-d6b5-4fd7-b0fd-950030816598",
   "metadata": {
    "tags": []
   },
   "outputs": [],
   "source": [
    "from pathlib import Path\n",
    "import pandas as pd\n",
    "import datasets\n",
    "import numpy as np"
   ]
  },
  {
   "cell_type": "code",
   "execution_count": 4,
   "id": "a76935f5-02eb-468b-b448-0d395daa583f",
   "metadata": {
    "tags": []
   },
   "outputs": [],
   "source": [
    "base_path = Path.home() / '.cache' / 'xmen' / 'symptemist'"
   ]
  },
  {
   "cell_type": "code",
   "execution_count": 5,
   "id": "63d553a7-d1f4-4fea-86e9-bc4a8aa3fe83",
   "metadata": {
    "tags": []
   },
   "outputs": [],
   "source": [
    "import dataloaders\n",
    "dataset = dataloaders.load_symptemist()[0]"
   ]
  },
  {
   "cell_type": "code",
   "execution_count": 6,
   "id": "97e2fc46-6e09-44ea-a0fb-4bd4e0c8bc1e",
   "metadata": {
    "tags": []
   },
   "outputs": [],
   "source": [
    "from xmen import load_kb\n",
    "kb = load_kb(base_path / 'symptemist.jsonl')"
   ]
  },
  {
   "cell_type": "code",
   "execution_count": 7,
   "id": "321745a4-3f7e-44aa-9274-40bb53ae27b6",
   "metadata": {
    "tags": []
   },
   "outputs": [],
   "source": [
    "from xmen.evaluation import error_analysis, evaluate, evaluate_at_k"
   ]
  },
  {
   "cell_type": "code",
   "execution_count": 8,
   "id": "7f7fed2a-7a92-443e-84f2-1ffba8cee5a9",
   "metadata": {
    "tags": []
   },
   "outputs": [
    {
     "name": "stderr",
     "output_type": "stream",
     "text": [
      "/home/Florian.Borchert/miniconda3/envs/symptemist/lib/python3.10/site-packages/sklearn/base.py:348: InconsistentVersionWarning: Trying to unpickle estimator TfidfTransformer from version 1.3.0 when using version 1.3.1. This might lead to breaking code or invalid results. Use at your own risk. For more info please refer to:\n",
      "https://scikit-learn.org/stable/model_persistence.html#security-maintainability-limitations\n",
      "  warnings.warn(\n",
      "/home/Florian.Borchert/miniconda3/envs/symptemist/lib/python3.10/site-packages/sklearn/base.py:348: InconsistentVersionWarning: Trying to unpickle estimator TfidfVectorizer from version 1.3.0 when using version 1.3.1. This might lead to breaking code or invalid results. Use at your own risk. For more info please refer to:\n",
      "https://scikit-learn.org/stable/model_persistence.html#security-maintainability-limitations\n",
      "  warnings.warn(\n"
     ]
    },
    {
     "data": {
      "text/html": [
       "<pre style=\"white-space:pre;overflow-x:auto;line-height:normal;font-family:Menlo,'DejaVu Sans Mono',consolas,'Courier New',monospace\"><span style=\"color: #7fbfbf; text-decoration-color: #7fbfbf\">[08/20/24 10:33:19] </span><span style=\"color: #000080; text-decoration-color: #000080\">INFO    </span> Loading hierarchical faiss index                                <a href=\"file:///mnt/nfs/home/Florian.Borchert/workspace/xmen/xmen/linkers/sap_bert_linker.py\" target=\"_blank\"><span style=\"color: #7f7f7f; text-decoration-color: #7f7f7f\">sap_bert_linker.py</span></a><span style=\"color: #7f7f7f; text-decoration-color: #7f7f7f\">:</span><a href=\"file:///mnt/nfs/home/Florian.Borchert/workspace/xmen/xmen/linkers/sap_bert_linker.py#153\" target=\"_blank\"><span style=\"color: #7f7f7f; text-decoration-color: #7f7f7f\">153</span></a>\n",
       "</pre>\n"
      ],
      "text/plain": [
       "\u001b[2;36m[08/20/24 10:33:19]\u001b[0m\u001b[2;36m \u001b[0m\u001b[34mINFO    \u001b[0m Loading hierarchical faiss index                                \u001b]8;id=871778;file:///mnt/nfs/home/Florian.Borchert/workspace/xmen/xmen/linkers/sap_bert_linker.py\u001b\\\u001b[2msap_bert_linker.py\u001b[0m\u001b]8;;\u001b\\\u001b[2m:\u001b[0m\u001b]8;id=163321;file:///mnt/nfs/home/Florian.Borchert/workspace/xmen/xmen/linkers/sap_bert_linker.py#153\u001b\\\u001b[2m153\u001b[0m\u001b]8;;\u001b\\\n"
      ]
     },
     "metadata": {},
     "output_type": "display_data"
    },
    {
     "data": {
      "text/html": [
       "<pre style=\"white-space:pre;overflow-x:auto;line-height:normal;font-family:Menlo,'DejaVu Sans Mono',consolas,'Courier New',monospace\"><span style=\"color: #7fbfbf; text-decoration-color: #7fbfbf\">                    </span><span style=\"color: #000080; text-decoration-color: #000080\">INFO    </span> Loading index from                                                 <a href=\"file:///mnt/nfs/home/Florian.Borchert/workspace/xmen/xmen/linkers/faiss_indexer.py\" target=\"_blank\"><span style=\"color: #7f7f7f; text-decoration-color: #7f7f7f\">faiss_indexer.py</span></a><span style=\"color: #7f7f7f; text-decoration-color: #7f7f7f\">:</span><a href=\"file:///mnt/nfs/home/Florian.Borchert/workspace/xmen/xmen/linkers/faiss_indexer.py#64\" target=\"_blank\"><span style=\"color: #7f7f7f; text-decoration-color: #7f7f7f\">64</span></a>\n",
       "<span style=\"color: #7fbfbf; text-decoration-color: #7fbfbf\">                    </span>         <span style=\"color: #800080; text-decoration-color: #800080\">/home/Florian.Borchert/.cache/xmen/symptemist/index/sapbert/</span><span style=\"color: #ff00ff; text-decoration-color: #ff00ff\">embed_</span> <span style=\"color: #7f7f7f; text-decoration-color: #7f7f7f\">                   </span>\n",
       "<span style=\"color: #7fbfbf; text-decoration-color: #7fbfbf\">                    </span>         <span style=\"color: #ff00ff; text-decoration-color: #ff00ff\">faiss_hier.pickle</span>                                                  <span style=\"color: #7f7f7f; text-decoration-color: #7f7f7f\">                   </span>\n",
       "</pre>\n"
      ],
      "text/plain": [
       "\u001b[2;36m                   \u001b[0m\u001b[2;36m \u001b[0m\u001b[34mINFO    \u001b[0m Loading index from                                                 \u001b]8;id=241989;file:///mnt/nfs/home/Florian.Borchert/workspace/xmen/xmen/linkers/faiss_indexer.py\u001b\\\u001b[2mfaiss_indexer.py\u001b[0m\u001b]8;;\u001b\\\u001b[2m:\u001b[0m\u001b]8;id=765404;file:///mnt/nfs/home/Florian.Borchert/workspace/xmen/xmen/linkers/faiss_indexer.py#64\u001b\\\u001b[2m64\u001b[0m\u001b]8;;\u001b\\\n",
       "\u001b[2;36m                    \u001b[0m         \u001b[35m/home/Florian.Borchert/.cache/xmen/symptemist/index/sapbert/\u001b[0m\u001b[95membed_\u001b[0m \u001b[2m                   \u001b[0m\n",
       "\u001b[2;36m                    \u001b[0m         \u001b[95mfaiss_hier.pickle\u001b[0m                                                  \u001b[2m                   \u001b[0m\n"
      ]
     },
     "metadata": {},
     "output_type": "display_data"
    },
    {
     "data": {
      "text/html": [
       "<pre style=\"white-space:pre;overflow-x:auto;line-height:normal;font-family:Menlo,'DejaVu Sans Mono',consolas,'Courier New',monospace\"><span style=\"color: #7fbfbf; text-decoration-color: #7fbfbf\">[08/20/24 10:33:21] </span><span style=\"color: #000080; text-decoration-color: #000080\">INFO    </span> Loaded index of type <span style=\"font-weight: bold\">&lt;</span><span style=\"color: #ff00ff; text-decoration-color: #ff00ff; font-weight: bold\">class</span><span style=\"color: #000000; text-decoration-color: #000000\"> </span><span style=\"color: #008000; text-decoration-color: #008000\">'faiss.swigfaiss.IndexHNSWFlat'</span><span style=\"font-weight: bold\">&gt;</span> and   <a href=\"file:///mnt/nfs/home/Florian.Borchert/workspace/xmen/xmen/linkers/faiss_indexer.py\" target=\"_blank\"><span style=\"color: #7f7f7f; text-decoration-color: #7f7f7f\">faiss_indexer.py</span></a><span style=\"color: #7f7f7f; text-decoration-color: #7f7f7f\">:</span><a href=\"file:///mnt/nfs/home/Florian.Borchert/workspace/xmen/xmen/linkers/faiss_indexer.py#66\" target=\"_blank\"><span style=\"color: #7f7f7f; text-decoration-color: #7f7f7f\">66</span></a>\n",
       "<span style=\"color: #7fbfbf; text-decoration-color: #7fbfbf\">                    </span>         size <span style=\"color: #008080; text-decoration-color: #008080; font-weight: bold\">1079623</span>                                                       <span style=\"color: #7f7f7f; text-decoration-color: #7f7f7f\">                   </span>\n",
       "</pre>\n"
      ],
      "text/plain": [
       "\u001b[2;36m[08/20/24 10:33:21]\u001b[0m\u001b[2;36m \u001b[0m\u001b[34mINFO    \u001b[0m Loaded index of type \u001b[1m<\u001b[0m\u001b[1;95mclass\u001b[0m\u001b[39m \u001b[0m\u001b[32m'faiss.swigfaiss.IndexHNSWFlat'\u001b[0m\u001b[1m>\u001b[0m and   \u001b]8;id=74981;file:///mnt/nfs/home/Florian.Borchert/workspace/xmen/xmen/linkers/faiss_indexer.py\u001b\\\u001b[2mfaiss_indexer.py\u001b[0m\u001b]8;;\u001b\\\u001b[2m:\u001b[0m\u001b]8;id=682005;file:///mnt/nfs/home/Florian.Borchert/workspace/xmen/xmen/linkers/faiss_indexer.py#66\u001b\\\u001b[2m66\u001b[0m\u001b]8;;\u001b\\\n",
       "\u001b[2;36m                    \u001b[0m         size \u001b[1;36m1079623\u001b[0m                                                       \u001b[2m                   \u001b[0m\n"
      ]
     },
     "metadata": {},
     "output_type": "display_data"
    }
   ],
   "source": [
    "from xmen.linkers import default_ensemble\n",
    "linker = default_ensemble(base_path / 'index', cuda=True)"
   ]
  },
  {
   "cell_type": "code",
   "execution_count": 9,
   "id": "68f069a6-68d9-4270-8337-bed423ce251b",
   "metadata": {
    "tags": []
   },
   "outputs": [],
   "source": [
    "SYMPTEMIST_FEW_SHOT_EXAMPLES = [\n",
    "    (\"afebril\", \"temperatura corporal normal\"),\n",
    "    (\"induración de la vaginal testicular\", \"trastorno de testículo\"),\n",
    "    (\"formaciones mamelonadas en su interior a nivel de lóbulo superior\", \"lesión de pulmón\"),\n",
    "    (\"disnea\", \"disnea\"),\n",
    "]"
   ]
  },
  {
   "cell_type": "code",
   "execution_count": 10,
   "id": "a45ed375-17d8-4f53-a5a8-954eb61403e5",
   "metadata": {
    "tags": []
   },
   "outputs": [],
   "source": [
    "def count_differences(simplified, original):\n",
    "    cnt_all = 0\n",
    "    cnt_diff = 0\n",
    "    for ds, do in zip(simplified, original):\n",
    "        for es, eo in zip(ds['entities'], do['entities']):\n",
    "            cnt_all += 1\n",
    "            if es['text'] != eo['text']:\n",
    "                cnt_diff +=1\n",
    "    return cnt_diff, cnt_all"
   ]
  },
  {
   "cell_type": "code",
   "execution_count": 11,
   "id": "6d82557a-0471-4461-834c-692ea12dfd4a",
   "metadata": {
    "tags": []
   },
   "outputs": [],
   "source": [
    "MODEL = 'gpt-4-0125-preview'\n",
    "# Pre-computed for SympTEMIST to save API calls\n",
    "table_file = 'symptemist_lookup_gpt-4-0125-preview_20240214-205237_prompt1.pkl'\n",
    "prompt = SYMPTEMIST_FEW_SHOT_EXAMPLES\n",
    "\n",
    "lookup_table = {}"
   ]
  },
  {
   "cell_type": "code",
   "execution_count": 12,
   "id": "4180cb40-b73b-4fbc-b413-266588ec3266",
   "metadata": {
    "tags": []
   },
   "outputs": [],
   "source": [
    "import pickle\n",
    "lookup_table = pickle.load(open(table_file, 'rb')) "
   ]
  },
  {
   "cell_type": "code",
   "execution_count": 13,
   "id": "5202b834-70d8-4844-9034-ad020315b501",
   "metadata": {
    "tags": []
   },
   "outputs": [],
   "source": [
    "from xmen.data.simplification import GPTSimplifier, EntitySimplification, SimplifierWrapper"
   ]
  },
  {
   "cell_type": "code",
   "execution_count": 14,
   "id": "a5231a4b-df97-46a4-b438-98ccaf52be35",
   "metadata": {
    "tags": []
   },
   "outputs": [],
   "source": [
    "text_simplifier = GPTSimplifier(\n",
    "    model=MODEL, \n",
    "    open_ai_api_key=\"insert_api_key\", \n",
    "    fixed_few_shot_examples = prompt,\n",
    "    table=lookup_table\n",
    ")"
   ]
  },
  {
   "cell_type": "code",
   "execution_count": 15,
   "id": "153fdaa7-5865-4f20-991d-f125e108e5a1",
   "metadata": {
    "tags": []
   },
   "outputs": [],
   "source": [
    "simplifier = EntitySimplification(text_simplifier, set_long_form=True)"
   ]
  },
  {
   "cell_type": "code",
   "execution_count": 16,
   "id": "8c7ac146-d98f-4314-a1c2-38300a1d7d4a",
   "metadata": {
    "tags": []
   },
   "outputs": [
    {
     "name": "stdout",
     "output_type": "stream",
     "text": [
      "Your task is to simplify expressions, such that the simplified version is more suitable for looking up concepts in a medical terminology. If the input is already simple enough, just return the input. \n",
      "\n",
      "Here are some examples:\n",
      "Input: ```afebril```\n",
      "Simplified: ```temperatura corporal normal```\n",
      "\n",
      "Input: ```induración de la vaginal testicular```\n",
      "Simplified: ```trastorno de testículo```\n",
      "\n",
      "Input: ```formaciones mamelonadas en su interior a nivel de lóbulo superior```\n",
      "Simplified: ```lesión de pulmón```\n",
      "\n",
      "Input: ```disnea```\n",
      "Simplified: ```disnea```\n",
      "\n",
      "Input: ```aumento de densidad en lóbulo inferior```\n",
      "Simplified:\n"
     ]
    }
   ],
   "source": [
    "print(text_simplifier.prompt_template.format('aumento de densidad en lóbulo inferior'))"
   ]
  },
  {
   "cell_type": "code",
   "execution_count": 17,
   "id": "bad2a5fd-2a92-4e4f-92f8-76167d3dab90",
   "metadata": {
    "tags": []
   },
   "outputs": [
    {
     "data": {
      "text/plain": [
       "'lesión de pulmón'"
      ]
     },
     "execution_count": 17,
     "metadata": {},
     "output_type": "execute_result"
    }
   ],
   "source": [
    "text_simplifier.simplify('aumento de densidad en lóbulo inferior')"
   ]
  },
  {
   "cell_type": "markdown",
   "id": "66f43922-8396-47a4-9429-40ab1e0a7867",
   "metadata": {},
   "source": [
    "# Generate Candidates"
   ]
  },
  {
   "cell_type": "code",
   "execution_count": 18,
   "id": "b182b5d9-7b4c-4567-849f-28b0259e0d8d",
   "metadata": {
    "tags": []
   },
   "outputs": [
    {
     "data": {
      "application/vnd.jupyter.widget-view+json": {
       "model_id": "a470315376864c3fbc5e418a7e9a6196",
       "version_major": 2,
       "version_minor": 0
      },
      "text/plain": [
       "Map:   0%|          | 0/608 [00:00<?, ? examples/s]"
      ]
     },
     "metadata": {},
     "output_type": "display_data"
    },
    {
     "data": {
      "application/vnd.jupyter.widget-view+json": {
       "model_id": "64fae84a544e43e780966dcab5a64fb9",
       "version_major": 2,
       "version_minor": 0
      },
      "text/plain": [
       "Map:   0%|          | 0/246 [00:00<?, ? examples/s]"
      ]
     },
     "metadata": {},
     "output_type": "display_data"
    },
    {
     "data": {
      "application/vnd.jupyter.widget-view+json": {
       "model_id": "251252384826489994227fa6d2c240a9",
       "version_major": 2,
       "version_minor": 0
      },
      "text/plain": [
       "Map:   0%|          | 0/136 [00:00<?, ? examples/s]"
      ]
     },
     "metadata": {},
     "output_type": "display_data"
    }
   ],
   "source": [
    "candidates = linker.predict_batch(dataset, top_k=64, batch_size=128)"
   ]
  },
  {
   "cell_type": "code",
   "execution_count": 19,
   "id": "5be0bdb1-b419-4a79-b8d0-09eb4e9c5dc3",
   "metadata": {
    "tags": []
   },
   "outputs": [
    {
     "name": "stdout",
     "output_type": "stream",
     "text": [
      "Recall@1 0.4388426128890837\n",
      "Recall@2 0.5610112523746895\n",
      "Recall@4 0.6226801110623995\n",
      "Recall@8 0.6786497150372643\n",
      "Recall@16 0.7219055969603975\n",
      "Recall@32 0.7558088557650153\n",
      "Recall@64 0.7837205903843344\n"
     ]
    }
   ],
   "source": [
    "_ = evaluate_at_k(dataset['train'], candidates['train'])"
   ]
  },
  {
   "cell_type": "code",
   "execution_count": 20,
   "id": "b5fe7abd-ab13-4b32-92a1-3aebed027cec",
   "metadata": {
    "tags": []
   },
   "outputs": [
    {
     "name": "stdout",
     "output_type": "stream",
     "text": [
      "Recall@1 0.4647592463363573\n",
      "Recall@2 0.5757152826238661\n",
      "Recall@4 0.6427076064200977\n",
      "Recall@8 0.6929518492672715\n",
      "Recall@16 0.7264480111653873\n",
      "Recall@32 0.7571528262386602\n",
      "Recall@64 0.782274947662247\n"
     ]
    }
   ],
   "source": [
    "_ = evaluate_at_k(dataset['validation'], candidates['validation'])"
   ]
  },
  {
   "cell_type": "code",
   "execution_count": 21,
   "id": "d800c439-0384-4328-abcc-ee4763dfa050",
   "metadata": {
    "tags": []
   },
   "outputs": [
    {
     "name": "stdout",
     "output_type": "stream",
     "text": [
      "Recall@1 0.4474885844748858\n",
      "Recall@2 0.5602388479100808\n",
      "Recall@4 0.6199508254302775\n",
      "Recall@8 0.6656129258868985\n",
      "Recall@16 0.7007376185458377\n",
      "Recall@32 0.7323498419388831\n",
      "Recall@64 0.7632595714787496\n"
     ]
    }
   ],
   "source": [
    "_ = evaluate_at_k(dataset['test'], candidates['test'])"
   ]
  },
  {
   "cell_type": "code",
   "execution_count": 22,
   "id": "8de92a40-48fb-4f7c-9380-c00faa0dbdd0",
   "metadata": {
    "tags": []
   },
   "outputs": [
    {
     "data": {
      "application/vnd.jupyter.widget-view+json": {
       "model_id": "95242f144975406d9d8a297b9ef2ef2b",
       "version_major": 2,
       "version_minor": 0
      },
      "text/plain": [
       "Map:   0%|          | 0/608 [00:00<?, ? examples/s]"
      ]
     },
     "metadata": {},
     "output_type": "display_data"
    },
    {
     "data": {
      "application/vnd.jupyter.widget-view+json": {
       "model_id": "5c382e47097946ceb5add4a707b87af1",
       "version_major": 2,
       "version_minor": 0
      },
      "text/plain": [
       "Map:   0%|          | 0/246 [00:00<?, ? examples/s]"
      ]
     },
     "metadata": {},
     "output_type": "display_data"
    },
    {
     "data": {
      "application/vnd.jupyter.widget-view+json": {
       "model_id": "2331ce9a7cd74b26ad79111fc6e7adfe",
       "version_major": 2,
       "version_minor": 0
      },
      "text/plain": [
       "Map:   0%|          | 0/136 [00:00<?, ? examples/s]"
      ]
     },
     "metadata": {},
     "output_type": "display_data"
    },
    {
     "data": {
      "application/vnd.jupyter.widget-view+json": {
       "model_id": "09d83c5da83245d48a418f0888ec79ea",
       "version_major": 2,
       "version_minor": 0
      },
      "text/plain": [
       "Map:   0%|          | 0/608 [00:00<?, ? examples/s]"
      ]
     },
     "metadata": {},
     "output_type": "display_data"
    },
    {
     "data": {
      "application/vnd.jupyter.widget-view+json": {
       "model_id": "af1dd52291504410a281584eedc26813",
       "version_major": 2,
       "version_minor": 0
      },
      "text/plain": [
       "Map:   0%|          | 0/246 [00:00<?, ? examples/s]"
      ]
     },
     "metadata": {},
     "output_type": "display_data"
    },
    {
     "data": {
      "application/vnd.jupyter.widget-view+json": {
       "model_id": "bc2fad8613aa4f5ba2baf69fce220834",
       "version_major": 2,
       "version_minor": 0
      },
      "text/plain": [
       "Map:   0%|          | 0/136 [00:00<?, ? examples/s]"
      ]
     },
     "metadata": {},
     "output_type": "display_data"
    }
   ],
   "source": [
    "simplified_ds = simplifier.transform_batch(candidates)\n",
    "simplified_candidates = linker.predict_batch(simplified_ds, top_k=64, batch_size=128)"
   ]
  },
  {
   "cell_type": "markdown",
   "id": "71e27c35-54fc-4add-928b-9000c868c732",
   "metadata": {},
   "source": [
    "# Determine Optimal Cutoff"
   ]
  },
  {
   "cell_type": "code",
   "execution_count": 23,
   "id": "a4e0ff81-cc97-4122-a754-7308dc62ddf7",
   "metadata": {
    "tags": []
   },
   "outputs": [],
   "source": [
    "SPLIT = 'train'\n",
    "eval_candidates = candidates[SPLIT]\n",
    "eval_ds = dataset[SPLIT]\n",
    "eval_simplified_ds = simplified_candidates[SPLIT]\n",
    "\n",
    "def select_candidates(d, idx, filter_fn=lambda e: True):\n",
    "    result = []\n",
    "    for ei, ec in zip(d['entities'], eval_candidates[idx]['entities']):\n",
    "        if filter_fn(ec):\n",
    "            result.append(ec)\n",
    "        else:\n",
    "            result.append(ei)\n",
    "    return { 'entities' : result }"
   ]
  },
  {
   "cell_type": "code",
   "execution_count": 24,
   "id": "de89b873-d4e0-4389-9f67-cd10a674cab2",
   "metadata": {
    "tags": []
   },
   "outputs": [],
   "source": [
    "baseline = evaluate_at_k(eval_ds, eval_candidates, silent=True)"
   ]
  },
  {
   "cell_type": "code",
   "execution_count": 25,
   "id": "b1d7717f-1b91-4fbd-859b-a21d1b2c9315",
   "metadata": {
    "tags": []
   },
   "outputs": [
    {
     "name": "stdout",
     "output_type": "stream",
     "text": [
      "0.55\n"
     ]
    },
    {
     "data": {
      "application/vnd.jupyter.widget-view+json": {
       "model_id": "a631968f2f89419aa17545f2395c726a",
       "version_major": 2,
       "version_minor": 0
      },
      "text/plain": [
       "Map:   0%|          | 0/608 [00:00<?, ? examples/s]"
      ]
     },
     "metadata": {},
     "output_type": "display_data"
    },
    {
     "name": "stdout",
     "output_type": "stream",
     "text": [
      "(9, 6843)\n",
      "0.6000000000000001\n"
     ]
    },
    {
     "data": {
      "application/vnd.jupyter.widget-view+json": {
       "model_id": "74f45be0b0eb459a96c43c273d82c14d",
       "version_major": 2,
       "version_minor": 0
      },
      "text/plain": [
       "Map:   0%|          | 0/608 [00:00<?, ? examples/s]"
      ]
     },
     "metadata": {},
     "output_type": "display_data"
    },
    {
     "name": "stdout",
     "output_type": "stream",
     "text": [
      "(104, 6843)\n",
      "0.6500000000000001\n"
     ]
    },
    {
     "data": {
      "application/vnd.jupyter.widget-view+json": {
       "model_id": "fcc3b90fb27d44f5bca8e8997e70bf33",
       "version_major": 2,
       "version_minor": 0
      },
      "text/plain": [
       "Map:   0%|          | 0/608 [00:00<?, ? examples/s]"
      ]
     },
     "metadata": {},
     "output_type": "display_data"
    },
    {
     "name": "stdout",
     "output_type": "stream",
     "text": [
      "(469, 6843)\n",
      "0.7000000000000002\n"
     ]
    },
    {
     "data": {
      "application/vnd.jupyter.widget-view+json": {
       "model_id": "9d2d17182bfb4e4a8cd5162394d9d4df",
       "version_major": 2,
       "version_minor": 0
      },
      "text/plain": [
       "Map:   0%|          | 0/608 [00:00<?, ? examples/s]"
      ]
     },
     "metadata": {},
     "output_type": "display_data"
    },
    {
     "name": "stdout",
     "output_type": "stream",
     "text": [
      "(1091, 6843)\n",
      "0.7500000000000002\n"
     ]
    },
    {
     "data": {
      "application/vnd.jupyter.widget-view+json": {
       "model_id": "2f8ae75c728548d4b0f07386515bcc07",
       "version_major": 2,
       "version_minor": 0
      },
      "text/plain": [
       "Map:   0%|          | 0/608 [00:00<?, ? examples/s]"
      ]
     },
     "metadata": {},
     "output_type": "display_data"
    },
    {
     "name": "stdout",
     "output_type": "stream",
     "text": [
      "(1871, 6843)\n",
      "0.8000000000000003\n"
     ]
    },
    {
     "data": {
      "application/vnd.jupyter.widget-view+json": {
       "model_id": "b03764a5c95943da9520f027783c35b0",
       "version_major": 2,
       "version_minor": 0
      },
      "text/plain": [
       "Map:   0%|          | 0/608 [00:00<?, ? examples/s]"
      ]
     },
     "metadata": {},
     "output_type": "display_data"
    },
    {
     "name": "stdout",
     "output_type": "stream",
     "text": [
      "(2586, 6843)\n",
      "0.8500000000000003\n"
     ]
    },
    {
     "data": {
      "application/vnd.jupyter.widget-view+json": {
       "model_id": "0954f398c5694bfbaf209223cb78fb0d",
       "version_major": 2,
       "version_minor": 0
      },
      "text/plain": [
       "Map:   0%|          | 0/608 [00:00<?, ? examples/s]"
      ]
     },
     "metadata": {},
     "output_type": "display_data"
    },
    {
     "name": "stdout",
     "output_type": "stream",
     "text": [
      "(3239, 6843)\n",
      "0.9000000000000004\n"
     ]
    },
    {
     "data": {
      "application/vnd.jupyter.widget-view+json": {
       "model_id": "76b65552b71545d8a8db09ba692f2884",
       "version_major": 2,
       "version_minor": 0
      },
      "text/plain": [
       "Map:   0%|          | 0/608 [00:00<?, ? examples/s]"
      ]
     },
     "metadata": {},
     "output_type": "display_data"
    },
    {
     "name": "stdout",
     "output_type": "stream",
     "text": [
      "(3864, 6843)\n",
      "0.9500000000000004\n"
     ]
    },
    {
     "data": {
      "application/vnd.jupyter.widget-view+json": {
       "model_id": "8aeab79d37d84fa3a2dace13622d402b",
       "version_major": 2,
       "version_minor": 0
      },
      "text/plain": [
       "Map:   0%|          | 0/608 [00:00<?, ? examples/s]"
      ]
     },
     "metadata": {},
     "output_type": "display_data"
    },
    {
     "name": "stdout",
     "output_type": "stream",
     "text": [
      "(4357, 6843)\n",
      "1.0000000000000004\n"
     ]
    },
    {
     "data": {
      "application/vnd.jupyter.widget-view+json": {
       "model_id": "302484a4b7fd44b086c6e21a4746d555",
       "version_major": 2,
       "version_minor": 0
      },
      "text/plain": [
       "Map:   0%|          | 0/608 [00:00<?, ? examples/s]"
      ]
     },
     "metadata": {},
     "output_type": "display_data"
    },
    {
     "name": "stdout",
     "output_type": "stream",
     "text": [
      "(5841, 6843)\n"
     ]
    }
   ],
   "source": [
    "cutoff_eval = []\n",
    "\n",
    "for cutoff in np.arange(0.55, 1.05, 0.05):\n",
    "    print(cutoff)\n",
    "    fn = lambda e: e['normalized'][0]['score'] >= cutoff\n",
    "    best_candidates = eval_simplified_ds.map(lambda d, i: select_candidates(d, i, fn), with_indices=True)\n",
    "    diffs = count_differences(best_candidates, eval_candidates)\n",
    "    print(diffs)\n",
    "    eval_res = evaluate_at_k(eval_ds, best_candidates, silent=True)\n",
    "    cutoff_eval_i = {'cutoff' : cutoff, 'num_changed' : diffs[0], 'num_all' : diffs[1]}\n",
    "    for i, es in eval_res.items():\n",
    "        cutoff_eval_i[i] = es['strict']['recall']\n",
    "    cutoff_eval.append(cutoff_eval_i)"
   ]
  },
  {
   "cell_type": "code",
   "execution_count": 26,
   "id": "3dc40460-a72e-436f-964e-e2dd6a39fe92",
   "metadata": {
    "tags": []
   },
   "outputs": [],
   "source": [
    "cutoff_eval = pd.DataFrame(cutoff_eval).round(3)"
   ]
  },
  {
   "cell_type": "code",
   "execution_count": 27,
   "id": "36fece38-7cc2-467b-b0cb-fdfad7fc9d2d",
   "metadata": {
    "tags": []
   },
   "outputs": [
    {
     "data": {
      "text/html": [
       "<div>\n",
       "<style scoped>\n",
       "    .dataframe tbody tr th:only-of-type {\n",
       "        vertical-align: middle;\n",
       "    }\n",
       "\n",
       "    .dataframe tbody tr th {\n",
       "        vertical-align: top;\n",
       "    }\n",
       "\n",
       "    .dataframe thead th {\n",
       "        text-align: right;\n",
       "    }\n",
       "</style>\n",
       "<table border=\"1\" class=\"dataframe\">\n",
       "  <thead>\n",
       "    <tr style=\"text-align: right;\">\n",
       "      <th></th>\n",
       "      <th>cutoff</th>\n",
       "      <th>num_changed</th>\n",
       "      <th>num_all</th>\n",
       "      <th>1</th>\n",
       "      <th>2</th>\n",
       "      <th>4</th>\n",
       "      <th>8</th>\n",
       "      <th>16</th>\n",
       "      <th>32</th>\n",
       "      <th>64</th>\n",
       "    </tr>\n",
       "  </thead>\n",
       "  <tbody>\n",
       "    <tr>\n",
       "      <th>0</th>\n",
       "      <td>0.55</td>\n",
       "      <td>9</td>\n",
       "      <td>6843</td>\n",
       "      <td>0.439</td>\n",
       "      <td>0.561</td>\n",
       "      <td>0.623</td>\n",
       "      <td>0.679</td>\n",
       "      <td>0.722</td>\n",
       "      <td>0.756</td>\n",
       "      <td>0.784</td>\n",
       "    </tr>\n",
       "    <tr>\n",
       "      <th>1</th>\n",
       "      <td>0.60</td>\n",
       "      <td>104</td>\n",
       "      <td>6843</td>\n",
       "      <td>0.439</td>\n",
       "      <td>0.561</td>\n",
       "      <td>0.623</td>\n",
       "      <td>0.678</td>\n",
       "      <td>0.722</td>\n",
       "      <td>0.756</td>\n",
       "      <td>0.784</td>\n",
       "    </tr>\n",
       "    <tr>\n",
       "      <th>2</th>\n",
       "      <td>0.65</td>\n",
       "      <td>469</td>\n",
       "      <td>6843</td>\n",
       "      <td>0.442</td>\n",
       "      <td>0.565</td>\n",
       "      <td>0.626</td>\n",
       "      <td>0.681</td>\n",
       "      <td>0.726</td>\n",
       "      <td>0.760</td>\n",
       "      <td>0.789</td>\n",
       "    </tr>\n",
       "    <tr>\n",
       "      <th>3</th>\n",
       "      <td>0.70</td>\n",
       "      <td>1091</td>\n",
       "      <td>6843</td>\n",
       "      <td>0.449</td>\n",
       "      <td>0.572</td>\n",
       "      <td>0.635</td>\n",
       "      <td>0.688</td>\n",
       "      <td>0.733</td>\n",
       "      <td>0.768</td>\n",
       "      <td>0.796</td>\n",
       "    </tr>\n",
       "    <tr>\n",
       "      <th>4</th>\n",
       "      <td>0.75</td>\n",
       "      <td>1871</td>\n",
       "      <td>6843</td>\n",
       "      <td>0.451</td>\n",
       "      <td>0.577</td>\n",
       "      <td>0.640</td>\n",
       "      <td>0.694</td>\n",
       "      <td>0.738</td>\n",
       "      <td>0.773</td>\n",
       "      <td>0.802</td>\n",
       "    </tr>\n",
       "    <tr>\n",
       "      <th>5</th>\n",
       "      <td>0.80</td>\n",
       "      <td>2586</td>\n",
       "      <td>6843</td>\n",
       "      <td>0.453</td>\n",
       "      <td>0.577</td>\n",
       "      <td>0.638</td>\n",
       "      <td>0.692</td>\n",
       "      <td>0.739</td>\n",
       "      <td>0.773</td>\n",
       "      <td>0.803</td>\n",
       "    </tr>\n",
       "    <tr>\n",
       "      <th>6</th>\n",
       "      <td>0.85</td>\n",
       "      <td>3239</td>\n",
       "      <td>6843</td>\n",
       "      <td>0.453</td>\n",
       "      <td>0.575</td>\n",
       "      <td>0.638</td>\n",
       "      <td>0.694</td>\n",
       "      <td>0.747</td>\n",
       "      <td>0.781</td>\n",
       "      <td>0.811</td>\n",
       "    </tr>\n",
       "    <tr>\n",
       "      <th>7</th>\n",
       "      <td>0.90</td>\n",
       "      <td>3864</td>\n",
       "      <td>6843</td>\n",
       "      <td>0.446</td>\n",
       "      <td>0.568</td>\n",
       "      <td>0.635</td>\n",
       "      <td>0.691</td>\n",
       "      <td>0.745</td>\n",
       "      <td>0.781</td>\n",
       "      <td>0.811</td>\n",
       "    </tr>\n",
       "    <tr>\n",
       "      <th>8</th>\n",
       "      <td>0.95</td>\n",
       "      <td>4357</td>\n",
       "      <td>6843</td>\n",
       "      <td>0.433</td>\n",
       "      <td>0.556</td>\n",
       "      <td>0.627</td>\n",
       "      <td>0.686</td>\n",
       "      <td>0.743</td>\n",
       "      <td>0.781</td>\n",
       "      <td>0.810</td>\n",
       "    </tr>\n",
       "    <tr>\n",
       "      <th>9</th>\n",
       "      <td>1.00</td>\n",
       "      <td>5841</td>\n",
       "      <td>6843</td>\n",
       "      <td>0.428</td>\n",
       "      <td>0.552</td>\n",
       "      <td>0.623</td>\n",
       "      <td>0.686</td>\n",
       "      <td>0.743</td>\n",
       "      <td>0.781</td>\n",
       "      <td>0.810</td>\n",
       "    </tr>\n",
       "  </tbody>\n",
       "</table>\n",
       "</div>"
      ],
      "text/plain": [
       "   cutoff  num_changed  num_all      1      2      4      8     16     32  \\\n",
       "0    0.55            9     6843  0.439  0.561  0.623  0.679  0.722  0.756   \n",
       "1    0.60          104     6843  0.439  0.561  0.623  0.678  0.722  0.756   \n",
       "2    0.65          469     6843  0.442  0.565  0.626  0.681  0.726  0.760   \n",
       "3    0.70         1091     6843  0.449  0.572  0.635  0.688  0.733  0.768   \n",
       "4    0.75         1871     6843  0.451  0.577  0.640  0.694  0.738  0.773   \n",
       "5    0.80         2586     6843  0.453  0.577  0.638  0.692  0.739  0.773   \n",
       "6    0.85         3239     6843  0.453  0.575  0.638  0.694  0.747  0.781   \n",
       "7    0.90         3864     6843  0.446  0.568  0.635  0.691  0.745  0.781   \n",
       "8    0.95         4357     6843  0.433  0.556  0.627  0.686  0.743  0.781   \n",
       "9    1.00         5841     6843  0.428  0.552  0.623  0.686  0.743  0.781   \n",
       "\n",
       "      64  \n",
       "0  0.784  \n",
       "1  0.784  \n",
       "2  0.789  \n",
       "3  0.796  \n",
       "4  0.802  \n",
       "5  0.803  \n",
       "6  0.811  \n",
       "7  0.811  \n",
       "8  0.810  \n",
       "9  0.810  "
      ]
     },
     "execution_count": 27,
     "metadata": {},
     "output_type": "execute_result"
    }
   ],
   "source": [
    "cutoff_eval"
   ]
  },
  {
   "cell_type": "code",
   "execution_count": 30,
   "id": "f6ffc479-d063-4aa9-a2b7-7b86895d4437",
   "metadata": {
    "tags": []
   },
   "outputs": [
    {
     "data": {
      "image/png": "[encoded data removed]",
      "text/plain": [
       "<Figure size 1000x500 with 2 Axes>"
      ]
     },
     "metadata": {},
     "output_type": "display_data"
    }
   ],
   "source": [
    "from matplotlib import pyplot as plt\n",
    "import matplotlib\n",
    "\n",
    "matplotlib.rcParams.update({'font.size': 14, 'font.family' : 'serif'})\n",
    "\n",
    "fig, axs = plt.subplots(2, 1, figsize=(10,5), sharex=True, gridspec_kw={'height_ratios': [2, 1]}, squeeze=True)\n",
    "\n",
    "ax1 = axs[0]\n",
    "\n",
    "x_range = np.arange(0, len(cutoff_eval))\n",
    "width = 0.3       \n",
    "\n",
    "ax1.bar(x_range - 0.5 * width, \n",
    "        (cutoff_eval.set_index('cutoff')[1] - baseline[1]['strict']['recall']).values, \n",
    "        width, color='darkblue', linewidth=0.5, edgecolor='black', label='$\\Delta$ Recall@1 (pp.)')\n",
    "ax1.bar(x_range + 0.5 * width, \n",
    "        (cutoff_eval.set_index('cutoff')[64] - baseline[64]['strict']['recall']).values, \n",
    "        width, color='lightblue', linewidth=0.5, edgecolor='black', label='$\\Delta$ Recall@64 (pp.)')\n",
    "\n",
    "ax1.grid(axis='y')\n",
    "ax1.set_yticks(np.arange(-0.005, 0.03, 0.005))\n",
    "ax1.set_yticklabels([f'+{t * 100:.1f}' if t > 0 else f'{t * 100:.1f}' for t in ax1.get_yticks()])\n",
    "\n",
    "ax1.set_xticks(x_range)\n",
    "ax1.set_xticklabels(cutoff_eval.cutoff.values)\n",
    "\n",
    "ax0 = axs[1]\n",
    "ax0.grid(axis='y')\n",
    "ax0.plot(x_range, cutoff_eval.num_changed / cutoff_eval.num_all, color='red', label='Simplified Mentions (%)', marker='o')\n",
    "ax0.set_yticks(np.arange(0,1.02,0.2))\n",
    "ax0.set_yticklabels([f\"{int(t * 100)}%\" if t >= 0 and t <=1 else \"\" for t in ax0.get_yticks()])\n",
    "\n",
    "ax0.set_xlabel('Confidence Threshold for Entity Simplification')\n",
    "ax0.legend()\n",
    "\n",
    "ax0.set_xticks(x_range)\n",
    "ax0.set_xticklabels(cutoff_eval.cutoff.values)\n",
    "\n",
    "ax1.legend()\n",
    "\n",
    "plt.savefig('diff_cutoff.png', dpi=1200, bbox_inches='tight')\n",
    "\n",
    "plt.show()"
   ]
  },
  {
   "cell_type": "code",
   "execution_count": 31,
   "id": "864aa5af-5cd6-44cf-9dfd-e933ff9116de",
   "metadata": {
    "tags": []
   },
   "outputs": [],
   "source": [
    "best_cutoff = 0.85"
   ]
  },
  {
   "cell_type": "code",
   "execution_count": 32,
   "id": "0dda3df6-f5d5-4c54-b0c3-439f5808ddef",
   "metadata": {
    "tags": []
   },
   "outputs": [
    {
     "data": {
      "application/vnd.jupyter.widget-view+json": {
       "model_id": "1ee895c87b2844bea15ce4eca535ba61",
       "version_major": 2,
       "version_minor": 0
      },
      "text/plain": [
       "Map:   0%|          | 0/608 [00:00<?, ? examples/s]"
      ]
     },
     "metadata": {},
     "output_type": "display_data"
    },
    {
     "data": {
      "application/vnd.jupyter.widget-view+json": {
       "model_id": "218294ab6e5a46929b4f18f191729faa",
       "version_major": 2,
       "version_minor": 0
      },
      "text/plain": [
       "Map:   0%|          | 0/246 [00:00<?, ? examples/s]"
      ]
     },
     "metadata": {},
     "output_type": "display_data"
    },
    {
     "data": {
      "application/vnd.jupyter.widget-view+json": {
       "model_id": "f4a3484ca54a4c729d3ce1d3528d6e61",
       "version_major": 2,
       "version_minor": 0
      },
      "text/plain": [
       "Map:   0%|          | 0/136 [00:00<?, ? examples/s]"
      ]
     },
     "metadata": {},
     "output_type": "display_data"
    },
    {
     "data": {
      "application/vnd.jupyter.widget-view+json": {
       "model_id": "e370cecf0c2c49ab82de27e606cda5da",
       "version_major": 2,
       "version_minor": 0
      },
      "text/plain": [
       "Map:   0%|          | 0/608 [00:00<?, ? examples/s]"
      ]
     },
     "metadata": {},
     "output_type": "display_data"
    },
    {
     "data": {
      "application/vnd.jupyter.widget-view+json": {
       "model_id": "a0096a518580436d92a85160c198e256",
       "version_major": 2,
       "version_minor": 0
      },
      "text/plain": [
       "Map:   0%|          | 0/246 [00:00<?, ? examples/s]"
      ]
     },
     "metadata": {},
     "output_type": "display_data"
    },
    {
     "data": {
      "application/vnd.jupyter.widget-view+json": {
       "model_id": "de18f39562244285b2e950ed77559efd",
       "version_major": 2,
       "version_minor": 0
      },
      "text/plain": [
       "Map:   0%|          | 0/136 [00:00<?, ? examples/s]"
      ]
     },
     "metadata": {},
     "output_type": "display_data"
    },
    {
     "data": {
      "application/vnd.jupyter.widget-view+json": {
       "model_id": "62dba6cd4ec84cfca7efedfeb7e5b48f",
       "version_major": 2,
       "version_minor": 0
      },
      "text/plain": [
       "Map:   0%|          | 0/608 [00:00<?, ? examples/s]"
      ]
     },
     "metadata": {},
     "output_type": "display_data"
    },
    {
     "data": {
      "application/vnd.jupyter.widget-view+json": {
       "model_id": "55bf24d23f654ca58226aeaa0f7b8233",
       "version_major": 2,
       "version_minor": 0
      },
      "text/plain": [
       "Map:   0%|          | 0/246 [00:00<?, ? examples/s]"
      ]
     },
     "metadata": {},
     "output_type": "display_data"
    },
    {
     "data": {
      "application/vnd.jupyter.widget-view+json": {
       "model_id": "55bcf545d1c04ccea3749d7fc97939f8",
       "version_major": 2,
       "version_minor": 0
      },
      "text/plain": [
       "Map:   0%|          | 0/136 [00:00<?, ? examples/s]"
      ]
     },
     "metadata": {},
     "output_type": "display_data"
    }
   ],
   "source": [
    "# we use a SimplifierWrapper so that the original spans can be restored after candidate generatio\n",
    "simplifier_wrapper = SimplifierWrapper(\n",
    "    linker,\n",
    "    text_simplifier, \n",
    "    filter_fn=lambda c: c['normalized'][0]['score'] < best_cutoff, \n",
    "    set_long_form=True\n",
    ")\n",
    "simplified_candidates_cutoff = simplifier_wrapper.predict_batch(candidates, top_k=64, batch_size=128)"
   ]
  },
  {
   "cell_type": "code",
   "execution_count": 33,
   "id": "aa1b9ec3-5a2e-45d2-b93b-b4845b047ea4",
   "metadata": {
    "tags": []
   },
   "outputs": [
    {
     "name": "stdout",
     "output_type": "stream",
     "text": [
      "(0, 6843)\n",
      "(0, 1433)\n",
      "(0, 2848)\n"
     ]
    }
   ],
   "source": [
    "print(count_differences(simplified_candidates_cutoff['train'], dataset['train']))\n",
    "print(count_differences(simplified_candidates_cutoff['validation'], dataset['validation']))\n",
    "print(count_differences(simplified_candidates_cutoff['test'], dataset['test']))"
   ]
  },
  {
   "cell_type": "code",
   "execution_count": 34,
   "id": "908c1fb6-ef49-4d4d-9b34-2a5ad25cd0c0",
   "metadata": {
    "tags": []
   },
   "outputs": [
    {
     "name": "stdout",
     "output_type": "stream",
     "text": [
      "Recall@1 0.48499651081646894\n",
      "Recall@2 0.5903698534542917\n",
      "Recall@4 0.6566643405443127\n",
      "Recall@8 0.7083042568039079\n",
      "Recall@16 0.7522679692951849\n",
      "Recall@32 0.7773900907187719\n",
      "Recall@64 0.8066992323796232\n"
     ]
    }
   ],
   "source": [
    "_ = evaluate_at_k(dataset['validation'], simplified_candidates_cutoff['validation'])"
   ]
  },
  {
   "cell_type": "code",
   "execution_count": 35,
   "id": "c8a9a5ff-73f7-446e-aa3e-b283d777612d",
   "metadata": {
    "tags": []
   },
   "outputs": [
    {
     "name": "stdout",
     "output_type": "stream",
     "text": [
      "Recall@1 0.46224095539164034\n",
      "Recall@2 0.5760449596066034\n",
      "Recall@4 0.6434843695117668\n",
      "Recall@8 0.6880927291886196\n",
      "Recall@16 0.7288373726729891\n",
      "Recall@32 0.7629083245521602\n",
      "Recall@64 0.794169301018616\n"
     ]
    }
   ],
   "source": [
    "_ = evaluate_at_k(dataset['test'], simplified_candidates_cutoff['test'])"
   ]
  },
  {
   "cell_type": "markdown",
   "id": "8e693279-cec7-4e0b-b3c6-29a23258d7f8",
   "metadata": {},
   "source": [
    "# Save"
   ]
  },
  {
   "cell_type": "code",
   "execution_count": 36,
   "id": "2ea15cb9-8d1e-4022-8116-388bd97eacb3",
   "metadata": {
    "tags": []
   },
   "outputs": [
    {
     "data": {
      "application/vnd.jupyter.widget-view+json": {
       "model_id": "b1410be903e34305ad6bc14f320d79ac",
       "version_major": 2,
       "version_minor": 0
      },
      "text/plain": [
       "Saving the dataset (0/1 shards):   0%|          | 0/608 [00:00<?, ? examples/s]"
      ]
     },
     "metadata": {},
     "output_type": "display_data"
    },
    {
     "data": {
      "application/vnd.jupyter.widget-view+json": {
       "model_id": "730ce7968f164114bdbd969dfaa9cdfa",
       "version_major": 2,
       "version_minor": 0
      },
      "text/plain": [
       "Saving the dataset (0/1 shards):   0%|          | 0/246 [00:00<?, ? examples/s]"
      ]
     },
     "metadata": {},
     "output_type": "display_data"
    },
    {
     "data": {
      "application/vnd.jupyter.widget-view+json": {
       "model_id": "26f15d7ce7b34066ae97125b1671e32e",
       "version_major": 2,
       "version_minor": 0
      },
      "text/plain": [
       "Saving the dataset (0/1 shards):   0%|          | 0/136 [00:00<?, ? examples/s]"
      ]
     },
     "metadata": {},
     "output_type": "display_data"
    }
   ],
   "source": [
    "simplified_candidates_cutoff.save_to_disk('symptemist_candidates_simplified_cutoff')"
   ]
  },
  {
   "cell_type": "markdown",
   "id": "71ddb5c4-cf8a-4180-8883-3c99ad8872b4",
   "metadata": {},
   "source": [
    "# Analysis"
   ]
  },
  {
   "cell_type": "code",
   "execution_count": 37,
   "id": "75546489-f9fc-40c1-930a-e5cb2a9f1254",
   "metadata": {
    "tags": []
   },
   "outputs": [],
   "source": [
    "from xmen.evaluation import error_analysis, evaluate_at_k"
   ]
  },
  {
   "cell_type": "code",
   "execution_count": 38,
   "id": "b5b5f71f-87f1-405a-8ec4-c729e641ecfd",
   "metadata": {
    "tags": []
   },
   "outputs": [
    {
     "name": "stdout",
     "output_type": "stream",
     "text": [
      "Recall@1 0.4474885844748858\n",
      "Recall@2 0.5602388479100808\n",
      "Recall@4 0.6199508254302775\n",
      "Recall@8 0.6656129258868985\n",
      "Recall@16 0.7007376185458377\n",
      "Recall@32 0.7323498419388831\n",
      "Recall@64 0.7632595714787496\n"
     ]
    }
   ],
   "source": [
    "_ = evaluate_at_k(dataset['test'], candidates['test'])"
   ]
  },
  {
   "cell_type": "code",
   "execution_count": 39,
   "id": "116dcde7-e04b-4d42-999d-f9383620f2ab",
   "metadata": {
    "tags": []
   },
   "outputs": [
    {
     "name": "stdout",
     "output_type": "stream",
     "text": [
      "Recall@1 0.46224095539164034\n",
      "Recall@2 0.5760449596066034\n",
      "Recall@4 0.6434843695117668\n",
      "Recall@8 0.6880927291886196\n",
      "Recall@16 0.7288373726729891\n",
      "Recall@32 0.7629083245521602\n",
      "Recall@64 0.794169301018616\n"
     ]
    }
   ],
   "source": [
    "_ = evaluate_at_k(dataset['test'], simplified_candidates_cutoff['test'])"
   ]
  },
  {
   "cell_type": "code",
   "execution_count": 40,
   "id": "1fd74a01-9067-4e28-93b9-00f554198f85",
   "metadata": {
    "tags": []
   },
   "outputs": [
    {
     "data": {
      "application/vnd.jupyter.widget-view+json": {
       "model_id": "fd6bba55b15341aeb0d38d4b1b6f4639",
       "version_major": 2,
       "version_minor": 0
      },
      "text/plain": [
       "Map:   0%|          | 0/608 [00:00<?, ? examples/s]"
      ]
     },
     "metadata": {},
     "output_type": "display_data"
    },
    {
     "data": {
      "application/vnd.jupyter.widget-view+json": {
       "model_id": "010d4e3bb0da45119f0530aef0297bc8",
       "version_major": 2,
       "version_minor": 0
      },
      "text/plain": [
       "Map:   0%|          | 0/246 [00:00<?, ? examples/s]"
      ]
     },
     "metadata": {},
     "output_type": "display_data"
    },
    {
     "data": {
      "application/vnd.jupyter.widget-view+json": {
       "model_id": "1ba5721154d1492ca3181eac6a239550",
       "version_major": 2,
       "version_minor": 0
      },
      "text/plain": [
       "Map:   0%|          | 0/136 [00:00<?, ? examples/s]"
      ]
     },
     "metadata": {},
     "output_type": "display_data"
    }
   ],
   "source": [
    "simplified_ds = simplifier.transform_batch(dataset)"
   ]
  },
  {
   "cell_type": "code",
   "execution_count": 41,
   "id": "a83f15e9-1d9e-41f2-8002-c45e728d45bf",
   "metadata": {
    "tags": []
   },
   "outputs": [],
   "source": [
    "ea_before_simple_test = error_analysis(dataset['test'], candidates['test'])\n",
    "ea_after_simple_test = error_analysis(simplified_ds['test'], simplified_candidates_cutoff['test'])"
   ]
  },
  {
   "cell_type": "code",
   "execution_count": 42,
   "id": "9037936b-fbb4-4fa3-a298-ca49757d443a",
   "metadata": {
    "tags": []
   },
   "outputs": [],
   "source": [
    "ea_after_no_thresh_test = error_analysis(simplified_ds['test'], simplified_candidates['test'])"
   ]
  },
  {
   "cell_type": "code",
   "execution_count": 43,
   "id": "7ca8bc69-23d1-42de-9fa1-8b0fb0b13090",
   "metadata": {
    "tags": []
   },
   "outputs": [],
   "source": [
    "SPLIT = 'test'\n",
    "eval_candidates = candidates[SPLIT]\n",
    "eval_ds = dataset[SPLIT]\n",
    "eval_simplified_ds = simplified_candidates[SPLIT]\n",
    "\n",
    "def select_candidates(d, idx, filter_fn=lambda e: True):\n",
    "    result = []\n",
    "    for ei, ec in zip(d['entities'], eval_candidates[idx]['entities']):\n",
    "        if filter_fn(ec):\n",
    "            result.append(ec)\n",
    "        else:\n",
    "            result.append(ei)\n",
    "    return { 'entities' : result }"
   ]
  },
  {
   "cell_type": "code",
   "execution_count": 44,
   "id": "c3ad311c-bd58-464c-922d-4c5e47a55495",
   "metadata": {
    "tags": []
   },
   "outputs": [
    {
     "data": {
      "application/vnd.jupyter.widget-view+json": {
       "model_id": "c7c80916a7ae4925890f41c03cf1f351",
       "version_major": 2,
       "version_minor": 0
      },
      "text/plain": [
       "Map:   0%|          | 0/246 [00:00<?, ? examples/s]"
      ]
     },
     "metadata": {},
     "output_type": "display_data"
    }
   ],
   "source": [
    "fn = lambda e: e['normalized'][0]['score'] >= best_cutoff\n",
    "best_candidates = eval_simplified_ds.map(lambda d, i: select_candidates(d, i, fn), with_indices=True)"
   ]
  },
  {
   "cell_type": "code",
   "execution_count": 45,
   "id": "238db9fe-1638-4210-9ad2-f6a9a459b814",
   "metadata": {
    "tags": []
   },
   "outputs": [],
   "source": [
    "def get_len(t):\n",
    "    return len(t.split(' '))\n",
    "\n",
    "def get_stats(ea_df, name, ds):\n",
    "    res = {}\n",
    "    res['name'] = name\n",
    "    word_lens = pd.Series([get_len(e['text'][0]) for d in ds for e in d['entities']])\n",
    "    res['max_length'] = int(word_lens.max())\n",
    "    res['mean_length'] = word_lens.mean().round(2)\n",
    "    res['recall_1'] = (ea_df.pred_index == 0).sum() / len(ea_df)\n",
    "    res['recall_64'] = (ea_df.pred_index >= 0).sum() / len(ea_df)\n",
    "    res['mean_score'] = ea_df.pred_top_score.mean()\n",
    "    for i in np.linspace(0.5, 1.0, 6):\n",
    "        begin, end = i, i + 0.1\n",
    "        sub_ea = ea_df[(ea_df.pred_top_score >= begin) & (ea_df.pred_top_score < end)]\n",
    "        prefix = f\"{begin}-{end}\"\n",
    "        res[f'{prefix}_len'] = len(sub_ea)\n",
    "        res[f'{prefix}_recall_1'] = (sub_ea.pred_index == 0).sum() / len(sub_ea)\n",
    "        res[f'{prefix}_recall_64'] = (sub_ea.pred_index >= 0).sum() / len(sub_ea)\n",
    "    return res"
   ]
  },
  {
   "cell_type": "code",
   "execution_count": 46,
   "id": "a8124dd6-039f-47f3-8087-06a257700110",
   "metadata": {
    "tags": []
   },
   "outputs": [
    {
     "data": {
      "text/html": [
       "<div>\n",
       "<style scoped>\n",
       "    .dataframe tbody tr th:only-of-type {\n",
       "        vertical-align: middle;\n",
       "    }\n",
       "\n",
       "    .dataframe tbody tr th {\n",
       "        vertical-align: top;\n",
       "    }\n",
       "\n",
       "    .dataframe thead th {\n",
       "        text-align: right;\n",
       "    }\n",
       "</style>\n",
       "<table border=\"1\" class=\"dataframe\">\n",
       "  <thead>\n",
       "    <tr style=\"text-align: right;\">\n",
       "      <th>name</th>\n",
       "      <th>no_simpl</th>\n",
       "      <th>simpl_thresh</th>\n",
       "      <th>delta</th>\n",
       "      <th>simpl_no_thresh</th>\n",
       "    </tr>\n",
       "  </thead>\n",
       "  <tbody>\n",
       "    <tr>\n",
       "      <th>max_length</th>\n",
       "      <td>23.000</td>\n",
       "      <td>13.000</td>\n",
       "      <td>-10.000</td>\n",
       "      <td>13.000</td>\n",
       "    </tr>\n",
       "    <tr>\n",
       "      <th>mean_length</th>\n",
       "      <td>3.630</td>\n",
       "      <td>2.610</td>\n",
       "      <td>-1.020</td>\n",
       "      <td>2.830</td>\n",
       "    </tr>\n",
       "    <tr>\n",
       "      <th>recall_1</th>\n",
       "      <td>0.447</td>\n",
       "      <td>0.462</td>\n",
       "      <td>0.015</td>\n",
       "      <td>0.432</td>\n",
       "    </tr>\n",
       "    <tr>\n",
       "      <th>recall_64</th>\n",
       "      <td>0.763</td>\n",
       "      <td>0.794</td>\n",
       "      <td>0.031</td>\n",
       "      <td>0.794</td>\n",
       "    </tr>\n",
       "    <tr>\n",
       "      <th>mean_score</th>\n",
       "      <td>0.848</td>\n",
       "      <td>0.833</td>\n",
       "      <td>-0.015</td>\n",
       "      <td>0.815</td>\n",
       "    </tr>\n",
       "    <tr>\n",
       "      <th>0.5-0.6_len</th>\n",
       "      <td>37.000</td>\n",
       "      <td>83.000</td>\n",
       "      <td>46.000</td>\n",
       "      <td>83.000</td>\n",
       "    </tr>\n",
       "    <tr>\n",
       "      <th>0.5-0.6_recall_1</th>\n",
       "      <td>0.027</td>\n",
       "      <td>0.048</td>\n",
       "      <td>0.021</td>\n",
       "      <td>0.048</td>\n",
       "    </tr>\n",
       "    <tr>\n",
       "      <th>0.5-0.6_recall_64</th>\n",
       "      <td>0.243</td>\n",
       "      <td>0.241</td>\n",
       "      <td>-0.002</td>\n",
       "      <td>0.241</td>\n",
       "    </tr>\n",
       "    <tr>\n",
       "      <th>0.6-0.7_len</th>\n",
       "      <td>443.000</td>\n",
       "      <td>615.000</td>\n",
       "      <td>172.000</td>\n",
       "      <td>638.000</td>\n",
       "    </tr>\n",
       "    <tr>\n",
       "      <th>0.6-0.7_recall_1</th>\n",
       "      <td>0.063</td>\n",
       "      <td>0.098</td>\n",
       "      <td>0.034</td>\n",
       "      <td>0.097</td>\n",
       "    </tr>\n",
       "    <tr>\n",
       "      <th>0.6-0.7_recall_64</th>\n",
       "      <td>0.336</td>\n",
       "      <td>0.488</td>\n",
       "      <td>0.151</td>\n",
       "      <td>0.506</td>\n",
       "    </tr>\n",
       "    <tr>\n",
       "      <th>0.7-0.7999999999999999_len</th>\n",
       "      <td>654.000</td>\n",
       "      <td>578.000</td>\n",
       "      <td>-76.000</td>\n",
       "      <td>743.000</td>\n",
       "    </tr>\n",
       "    <tr>\n",
       "      <th>0.7-0.7999999999999999_recall_1</th>\n",
       "      <td>0.220</td>\n",
       "      <td>0.330</td>\n",
       "      <td>0.110</td>\n",
       "      <td>0.342</td>\n",
       "    </tr>\n",
       "    <tr>\n",
       "      <th>0.7-0.7999999999999999_recall_64</th>\n",
       "      <td>0.625</td>\n",
       "      <td>0.744</td>\n",
       "      <td>0.119</td>\n",
       "      <td>0.782</td>\n",
       "    </tr>\n",
       "    <tr>\n",
       "      <th>0.8-0.9_len</th>\n",
       "      <td>555.000</td>\n",
       "      <td>411.000</td>\n",
       "      <td>-144.000</td>\n",
       "      <td>507.000</td>\n",
       "    </tr>\n",
       "    <tr>\n",
       "      <th>0.8-0.9_recall_1</th>\n",
       "      <td>0.438</td>\n",
       "      <td>0.494</td>\n",
       "      <td>0.056</td>\n",
       "      <td>0.523</td>\n",
       "    </tr>\n",
       "    <tr>\n",
       "      <th>0.8-0.9_recall_64</th>\n",
       "      <td>0.845</td>\n",
       "      <td>0.910</td>\n",
       "      <td>0.065</td>\n",
       "      <td>0.933</td>\n",
       "    </tr>\n",
       "    <tr>\n",
       "      <th>0.9-1.0_len</th>\n",
       "      <td>447.000</td>\n",
       "      <td>447.000</td>\n",
       "      <td>0.000</td>\n",
       "      <td>217.000</td>\n",
       "    </tr>\n",
       "    <tr>\n",
       "      <th>0.9-1.0_recall_1</th>\n",
       "      <td>0.682</td>\n",
       "      <td>0.682</td>\n",
       "      <td>0.000</td>\n",
       "      <td>0.659</td>\n",
       "    </tr>\n",
       "    <tr>\n",
       "      <th>0.9-1.0_recall_64</th>\n",
       "      <td>0.978</td>\n",
       "      <td>0.978</td>\n",
       "      <td>0.000</td>\n",
       "      <td>0.982</td>\n",
       "    </tr>\n",
       "    <tr>\n",
       "      <th>1.0-1.1_len</th>\n",
       "      <td>710.000</td>\n",
       "      <td>710.000</td>\n",
       "      <td>0.000</td>\n",
       "      <td>656.000</td>\n",
       "    </tr>\n",
       "    <tr>\n",
       "      <th>1.0-1.1_recall_1</th>\n",
       "      <td>0.779</td>\n",
       "      <td>0.779</td>\n",
       "      <td>0.000</td>\n",
       "      <td>0.764</td>\n",
       "    </tr>\n",
       "    <tr>\n",
       "      <th>1.0-1.1_recall_64</th>\n",
       "      <td>0.986</td>\n",
       "      <td>0.986</td>\n",
       "      <td>0.000</td>\n",
       "      <td>0.992</td>\n",
       "    </tr>\n",
       "  </tbody>\n",
       "</table>\n",
       "</div>"
      ],
      "text/plain": [
       "name                              no_simpl  simpl_thresh    delta  \\\n",
       "max_length                          23.000        13.000  -10.000   \n",
       "mean_length                          3.630         2.610   -1.020   \n",
       "recall_1                             0.447         0.462    0.015   \n",
       "recall_64                            0.763         0.794    0.031   \n",
       "mean_score                           0.848         0.833   -0.015   \n",
       "0.5-0.6_len                         37.000        83.000   46.000   \n",
       "0.5-0.6_recall_1                     0.027         0.048    0.021   \n",
       "0.5-0.6_recall_64                    0.243         0.241   -0.002   \n",
       "0.6-0.7_len                        443.000       615.000  172.000   \n",
       "0.6-0.7_recall_1                     0.063         0.098    0.034   \n",
       "0.6-0.7_recall_64                    0.336         0.488    0.151   \n",
       "0.7-0.7999999999999999_len         654.000       578.000  -76.000   \n",
       "0.7-0.7999999999999999_recall_1      0.220         0.330    0.110   \n",
       "0.7-0.7999999999999999_recall_64     0.625         0.744    0.119   \n",
       "0.8-0.9_len                        555.000       411.000 -144.000   \n",
       "0.8-0.9_recall_1                     0.438         0.494    0.056   \n",
       "0.8-0.9_recall_64                    0.845         0.910    0.065   \n",
       "0.9-1.0_len                        447.000       447.000    0.000   \n",
       "0.9-1.0_recall_1                     0.682         0.682    0.000   \n",
       "0.9-1.0_recall_64                    0.978         0.978    0.000   \n",
       "1.0-1.1_len                        710.000       710.000    0.000   \n",
       "1.0-1.1_recall_1                     0.779         0.779    0.000   \n",
       "1.0-1.1_recall_64                    0.986         0.986    0.000   \n",
       "\n",
       "name                              simpl_no_thresh  \n",
       "max_length                                 13.000  \n",
       "mean_length                                 2.830  \n",
       "recall_1                                    0.432  \n",
       "recall_64                                   0.794  \n",
       "mean_score                                  0.815  \n",
       "0.5-0.6_len                                83.000  \n",
       "0.5-0.6_recall_1                            0.048  \n",
       "0.5-0.6_recall_64                           0.241  \n",
       "0.6-0.7_len                               638.000  \n",
       "0.6-0.7_recall_1                            0.097  \n",
       "0.6-0.7_recall_64                           0.506  \n",
       "0.7-0.7999999999999999_len                743.000  \n",
       "0.7-0.7999999999999999_recall_1             0.342  \n",
       "0.7-0.7999999999999999_recall_64            0.782  \n",
       "0.8-0.9_len                               507.000  \n",
       "0.8-0.9_recall_1                            0.523  \n",
       "0.8-0.9_recall_64                           0.933  \n",
       "0.9-1.0_len                               217.000  \n",
       "0.9-1.0_recall_1                            0.659  \n",
       "0.9-1.0_recall_64                           0.982  \n",
       "1.0-1.1_len                               656.000  \n",
       "1.0-1.1_recall_1                            0.764  \n",
       "1.0-1.1_recall_64                           0.992  "
      ]
     },
     "execution_count": 46,
     "metadata": {},
     "output_type": "execute_result"
    }
   ],
   "source": [
    "df = pd.DataFrame([\n",
    "    get_stats(ea_before_simple_test, 'no_simpl', candidates['test']),\n",
    "    get_stats(ea_after_simple_test, 'simpl_thresh', best_candidates),\n",
    "    get_stats(ea_after_no_thresh_test, 'simpl_no_thresh', simplified_ds['test']),\n",
    "]).set_index('name').T\n",
    "df['delta'] = df.simpl_thresh - df.no_simpl\n",
    "df.round(3)[['no_simpl', 'simpl_thresh', 'delta', 'simpl_no_thresh']]"
   ]
  },
  {
   "cell_type": "code",
   "execution_count": 47,
   "id": "7ad38acd-77c2-4fdf-9413-6680eb27c10d",
   "metadata": {
    "tags": []
   },
   "outputs": [],
   "source": [
    "ea_before_simpl = error_analysis(dataset['train'], candidates['train'])\n",
    "ea_after_simple = error_analysis(simplified_ds['train'], simplified_candidates_cutoff['train'])"
   ]
  },
  {
   "cell_type": "code",
   "execution_count": 48,
   "id": "902d75a1-967a-41ab-aff5-0fb95b25dbf8",
   "metadata": {
    "tags": []
   },
   "outputs": [
    {
     "name": "stdout",
     "output_type": "stream",
     "text": [
      "2.294201861130995 2.5755189692197566\n"
     ]
    }
   ],
   "source": [
    "both_correct = (ea_before_simpl.pred_index == 0) & (ea_after_simple.pred_index == 0)\n",
    "print(ea_before_simpl[both_correct]._word_len.mean(), ea_after_simple[both_correct]._word_len.mean())"
   ]
  },
  {
   "cell_type": "code",
   "execution_count": 49,
   "id": "d699c479-b51b-4ca2-a1da-97e565c22bf0",
   "metadata": {
    "tags": []
   },
   "outputs": [
    {
     "name": "stdout",
     "output_type": "stream",
     "text": [
      "5.005181347150259 3.354922279792746\n"
     ]
    }
   ],
   "source": [
    "better_recall = (ea_before_simpl.pred_index == -1) & (ea_after_simple.pred_index >= 0)\n",
    "print(ea_before_simpl[better_recall]._word_len.mean(), ea_after_simple[better_recall]._word_len.mean())"
   ]
  },
  {
   "cell_type": "code",
   "execution_count": 50,
   "id": "625d5ebd-84dc-4e59-92f6-29b22945de15",
   "metadata": {
    "tags": []
   },
   "outputs": [
    {
     "name": "stdout",
     "output_type": "stream",
     "text": [
      "3.5849056603773586 3.339622641509434\n"
     ]
    }
   ],
   "source": [
    "better_recall_1 = (ea_before_simpl.pred_index == -1) & (ea_after_simple.pred_index == 0)\n",
    "print(ea_before_simpl[better_recall_1]._word_len.mean(), ea_after_simple[better_recall_1]._word_len.mean())"
   ]
  },
  {
   "cell_type": "code",
   "execution_count": 51,
   "id": "97e880fd-6fb8-4d80-8b98-02fedf980978",
   "metadata": {
    "tags": []
   },
   "outputs": [
    {
     "data": {
      "text/plain": [
       "3.339622641509434"
      ]
     },
     "execution_count": 51,
     "metadata": {},
     "output_type": "execute_result"
    }
   ],
   "source": [
    "ea_after_simple[(ea_before_simpl.pred_index == -1) & (ea_after_simple.pred_index == 0)]._word_len.mean()"
   ]
  },
  {
   "cell_type": "code",
   "execution_count": 52,
   "id": "0e23118a-95c6-4098-8697-c622dd715822",
   "metadata": {
    "tags": []
   },
   "outputs": [
    {
     "data": {
      "text/plain": [
       "3.339622641509434"
      ]
     },
     "execution_count": 52,
     "metadata": {},
     "output_type": "execute_result"
    }
   ],
   "source": [
    "ea_after_simple[(ea_before_simpl.pred_index == -1) & (ea_after_simple.pred_index == 0)]._word_len.mean()"
   ]
  },
  {
   "cell_type": "markdown",
   "id": "7e064855-7dc0-4c40-a8a6-489838b690e4",
   "metadata": {},
   "source": [
    "## Error Analysis by Mention Length"
   ]
  },
  {
   "cell_type": "code",
   "execution_count": 53,
   "id": "3d06c300-6278-46b7-99e8-d8627a1cb590",
   "metadata": {
    "tags": []
   },
   "outputs": [],
   "source": [
    "index = []\n",
    "labels = []\n",
    "match_any = []\n",
    "match_lost = []\n",
    "better_ranking = []\n",
    "worse_ranking = []\n",
    "n_candidates = []\n",
    "\n",
    "end = 10\n",
    "\n",
    "def get_new_candidates(i):\n",
    "    return ea_after_simple[(ea_before_simpl._word_len == i) & (ea_before_simpl.pred_index == -1) & (ea_after_simple.pred_index != -1)]\n",
    "\n",
    "def get_better_ranking(i):\n",
    "    return ea_after_simple[(ea_before_simpl._word_len == i) & (ea_after_simple.pred_index != -1) & (ea_after_simple.pred_index < ea_before_simpl.pred_index)]\n",
    "\n",
    "def get_worse_ranking(i):\n",
    "    return ea_after_simple[(ea_before_simpl._word_len == i) & (ea_before_simpl.pred_index != -1) & (ea_after_simple.pred_index > ea_before_simpl.pred_index)]\n",
    "\n",
    "def get_lost_candidates(i):\n",
    "    return ea_after_simple[(ea_before_simpl._word_len == i) & (ea_before_simpl.pred_index != -1) & (ea_after_simple.pred_index == -1)]\n",
    "\n",
    "def get_n_candidates(i):\n",
    "    return ea_after_simple[(ea_before_simpl._word_len == i)]\n",
    "\n",
    "for i in range(1, end + 1):\n",
    "    n_candidates_i = get_n_candidates(i)\n",
    "    eaany = get_new_candidates(i)\n",
    "    eabetter = get_better_ranking(i)\n",
    "    ealost = get_lost_candidates(i)\n",
    "    eaworse = get_worse_ranking(i)\n",
    "    \n",
    "    n_candidates.append(len(n_candidates_i))\n",
    "    index.append(i)\n",
    "    labels.append(str(i))\n",
    "    match_any.append(len(eaany))\n",
    "    better_ranking.append(len(eabetter))\n",
    "    match_lost.append(-len(ealost))\n",
    "    worse_ranking.append(-len(eaworse))\n",
    "    \n",
    "labels.append(str(f'>{ i }'))\n",
    "\n",
    "i += 1\n",
    "\n",
    "n_candidates_i = get_n_candidates(i)\n",
    "eaany = get_new_candidates(i)\n",
    "eabetter = get_better_ranking(i)\n",
    "ealost = get_lost_candidates(i)\n",
    "eaworse = get_worse_ranking(i)\n",
    "\n",
    "n_candidates.append(len(n_candidates_i))\n",
    "index.append(i)\n",
    "match_any.append(len(eaany))\n",
    "better_ranking.append(len(eabetter))\n",
    "match_lost.append(-len(ealost))\n",
    "worse_ranking.append(-len(eaworse))"
   ]
  },
  {
   "cell_type": "code",
   "execution_count": 54,
   "id": "a9969893-7156-4dba-831b-7a2cea9e2e79",
   "metadata": {
    "tags": []
   },
   "outputs": [],
   "source": [
    "def get_rel(m):\n",
    "    return [mi / ci for mi, ci in zip(m, n_candidates)]"
   ]
  },
  {
   "cell_type": "code",
   "execution_count": 55,
   "id": "e62c8bcf-72fd-44ed-bb64-9b71256af58e",
   "metadata": {
    "tags": []
   },
   "outputs": [
    {
     "data": {
      "image/png": "[encoded data removed]",
      "text/plain": [
       "<Figure size 800x1200 with 3 Axes>"
      ]
     },
     "metadata": {},
     "output_type": "display_data"
    }
   ],
   "source": [
    "import numpy as np\n",
    "import matplotlib\n",
    "from matplotlib import pyplot as plt\n",
    "import matplotlib.font_manager as font_manager\n",
    "\n",
    "\n",
    "fig, axs = plt.subplots(3, 1, figsize=(8,12), gridspec_kw={'height_ratios': [0.4, 1, 1]})\n",
    "font_size_lg = 14\n",
    "font_size_sm = 12\n",
    "\n",
    "matplotlib.rcParams.update({'font.size': font_size_lg, 'font.family' : 'serif'})\n",
    "\n",
    "width = 0.2\n",
    "\n",
    "ax0 = axs[0]\n",
    "ax0.bar(np.array(index), n_candidates, width=width, label='No. Mentions', color='grey', edgecolor='black', linewidth=0.5)\n",
    "ax0.grid(axis='y')\n",
    "ax0.set_title('(a) Total number of mentions', size=font_size_lg)\n",
    "ax0.set_yticks(range(0,3000,500))\n",
    "\n",
    "ax1 = axs[1]\n",
    "\n",
    "ax1.grid(axis='y')\n",
    "\n",
    "#ax.bar(np.array(index) - width, match_0, width=width, label='')\n",
    "ax1.bar(np.array(index) - width, get_rel(match_any), width=width, label='↑ Recall', color='lightgreen', edgecolor='black', linewidth=0.5)\n",
    "ax1.bar(np.array(index), get_rel(match_lost), width=width, label='↓ Recall', color='wheat', edgecolor='black', linewidth=0.5)\n",
    "ax1.bar(np.array(index) + width, get_rel(np.array(match_any) + np.array(match_lost)), width=width, label='Difference', color='blue', edgecolor='black', linewidth=0.5)\n",
    "\n",
    "y_range = np.arange(-0.1, 0.18, 0.05)\n",
    "ax1.set_yticks(y_range)\n",
    "ax1.set_yticklabels([f'{\"+\" if i > 0 else \"\"}{round(i * 100)}pp.' for i in y_range])\n",
    "ax1.set_ylim(-0.12,0.14)\n",
    "ax1.set_title('(b) Difference in recall@64 due to entity simplification', size=font_size_lg)\n",
    "ax1.legend(loc='upper left', \n",
    "           ncol=3, fontsize=font_size_sm)    \n",
    "\n",
    "ax2 = axs[2]\n",
    "    \n",
    "ax2.bar(np.array(index) - width, get_rel(better_ranking), width=width, label='↑ Ranking', color='lightgreen', edgecolor='black', linewidth=0.5)\n",
    "ax2.bar(np.array(index), get_rel(worse_ranking), width=width, label='↓ Ranking', color='wheat', edgecolor='black', linewidth=0.5)\n",
    "ax2.bar(np.array(index) + width, get_rel(np.array(better_ranking) + np.array(worse_ranking)), width=width, label='Difference', color='blue', edgecolor='black', linewidth=0.5)\n",
    "    \n",
    "y_range_2 = np.arange(-0.2,0.3,0.05)\n",
    "ax2.set_yticks(y_range_2)\n",
    "ax2.set_yticklabels([f'{\"\" if i > 0 else \"\"}{abs(round(i * 100))}%' for i in y_range_2])\n",
    " \n",
    "ax2.legend(loc='upper left', ncol=3, fontsize=font_size_sm)\n",
    "ax2.set_title('(c) Proportion of mentions with increased / decreased ranking\\nof the ground-truth concept due to entity simplification', size=font_size_lg)\n",
    "    \n",
    "ax2.grid(axis='y')\n",
    "ax2.set_xlabel('Mention length (tokens)')\n",
    "\n",
    "for ax in axs:\n",
    "    ax.set_xlim(axs[0].get_xlim())\n",
    "    ax.set_xticks(index)\n",
    "    ax.set_xticklabels(labels)\n",
    "\n",
    "fig.tight_layout()\n",
    "    \n",
    "plt.savefig('gain_vs_length.jpg', dpi=1200, bbox_inches='tight')\n",
    "plt.show()"
   ]
  },
  {
   "cell_type": "code",
   "execution_count": null,
   "id": "ce11b62b-561d-4345-bcf6-e7bc01545c78",
   "metadata": {},
   "outputs": [],
   "source": []
  }
 ],
 "metadata": {
  "kernelspec": {
   "display_name": "Python [conda env:symptemist]",
   "language": "python",
   "name": "conda-env-symptemist-py"
  },
  "language_info": {
   "codemirror_mode": {
    "name": "ipython",
    "version": 3
   },
   "file_extension": ".py",
   "mimetype": "text/x-python",
   "name": "python",
   "nbconvert_exporter": "python",
   "pygments_lexer": "ipython3",
   "version": "3.10.13"
  }
 },
 "nbformat": 4,
 "nbformat_minor": 5
}
