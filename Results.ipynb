{
 "cells": [
  {
   "cell_type": "code",
   "execution_count": 2,
   "id": "04fc9d97-4aba-4bfe-b881-2ab4a04bd6f2",
   "metadata": {
    "tags": []
   },
   "outputs": [],
   "source": [
    "from pathlib import Path\n",
    "import datasets"
   ]
  },
  {
   "cell_type": "code",
   "execution_count": 4,
   "id": "633dea1a-9a95-4d0a-83f6-180eaf99ab90",
   "metadata": {
    "tags": []
   },
   "outputs": [],
   "source": [
    "base_path = Path.home() / '.cache' / 'xmen' / 'symptemist'"
   ]
  },
  {
   "cell_type": "code",
   "execution_count": 3,
   "id": "e00aee7d-378b-4c9c-ad79-e80b713620a0",
   "metadata": {
    "tags": []
   },
   "outputs": [],
   "source": [
    "baseline_run = Path('/mnt/nfs/home/Florian.Borchert/runs/xmen/symptemist_benchmark/outputs/2024-02-09_17-27-30/')"
   ]
  },
  {
   "cell_type": "code",
   "execution_count": 5,
   "id": "cb0462fd-1f99-4ac5-9516-b66feb556145",
   "metadata": {
    "tags": []
   },
   "outputs": [],
   "source": [
    "dataset = datasets.load_from_disk(baseline_run / '0-symptemist_benchmark_dataset')\n",
    "baseline_candidates = dataset.load_from_disk(baseline_run / '0-symptemist_benchmark_candidates')"
   ]
  },
  {
   "cell_type": "markdown",
   "id": "40ba5694-3599-42d1-a019-1acdaf4a2b52",
   "metadata": {},
   "source": [
    "## Multilingual\n",
    "FacebookAI/xlm-roberta-base\n",
    "\n",
    "## General Spanish\n",
    "BNE / PlanTL-GOB-ES/roberta-base-bne\n",
    "BETO / dccuchile/bert-base-spanish-wwm-uncased\n",
    "\n",
    "## Spanish / Biomedical\n",
    "PlanTL-GOB-ES/bsc-bio-ehr-es\n",
    "PlanTL-GOB-ES/roberta-base-biomedical-clinical-es\n",
    "\n",
    "## English / Biomedical\n",
    "microsoft/BiomedNLP-PubMedBERT-base-uncased-abstract-fulltext\n",
    "\n",
    "## xMEN Model\n",
    "phlobo/xmen-es-ce-medmentions\n",
    "\n",
    "CUDA_VISIBLE_DEVICES=1 python run_benchmark.py benchmark=symptemist output=~/scratch/xmen/ linker.reranking.training.model_name=xlm-roberta-base +candidates_path=/mnt/nfs/home/Florian.Borchert/runs/xmen/symptemist_benchmark/outputs/2024-02-09_17-27-30/0-symptemist_benchmark_candidates"
   ]
  },
  {
   "cell_type": "code",
   "execution_count": 6,
   "id": "52be5402-fb5d-4025-8ca7-ed36db99893d",
   "metadata": {
    "tags": []
   },
   "outputs": [],
   "source": [
    "from xmen.evaluation import evaluate"
   ]
  },
  {
   "cell_type": "code",
   "execution_count": 7,
   "id": "f900012c-54d7-4e77-84a8-43cf3946f8df",
   "metadata": {
    "tags": []
   },
   "outputs": [],
   "source": [
    "eval_baseline = evaluate(dataset['test'], baseline_candidates['test'])"
   ]
  },
  {
   "cell_type": "code",
   "execution_count": 8,
   "id": "77d2b3d4-91db-4143-85d7-5d345693a857",
   "metadata": {
    "tags": []
   },
   "outputs": [
    {
     "data": {
      "text/plain": [
       "{'strict': {'precision': 0.4450298559887601,\n",
       "  'recall': 0.4450298559887601,\n",
       "  'fscore': 0.4450298559887601,\n",
       "  'ptp': 1267,\n",
       "  'fp': 1580,\n",
       "  'rtp': 1267,\n",
       "  'fn': 1580,\n",
       "  'n_docs_system': 246,\n",
       "  'n_annos_system': 2848,\n",
       "  'n_docs_gold': 246,\n",
       "  'n_annos_gold': 2848}}"
      ]
     },
     "execution_count": 8,
     "metadata": {},
     "output_type": "execute_result"
    }
   ],
   "source": [
    "eval_baseline"
   ]
  },
  {
   "cell_type": "code",
   "execution_count": null,
   "id": "2f925949-ec3b-4e08-b99a-345eb561a10d",
   "metadata": {},
   "outputs": [],
   "source": []
  }
 ],
 "metadata": {
  "kernelspec": {
   "display_name": "Python [conda env:symptemist]",
   "language": "python",
   "name": "conda-env-symptemist-py"
  },
  "language_info": {
   "codemirror_mode": {
    "name": "ipython",
    "version": 3
   },
   "file_extension": ".py",
   "mimetype": "text/x-python",
   "name": "python",
   "nbconvert_exporter": "python",
   "pygments_lexer": "ipython3",
   "version": "3.10.13"
  }
 },
 "nbformat": 4,
 "nbformat_minor": 5
}
