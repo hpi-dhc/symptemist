{
 "cells": [
  {
   "cell_type": "code",
   "execution_count": 1,
   "id": "9d79577e-f484-4066-969f-9e38a52f3a76",
   "metadata": {
    "tags": []
   },
   "outputs": [],
   "source": [
    "from pathlib import Path\n",
    "import datasets"
   ]
  },
  {
   "cell_type": "code",
   "execution_count": 2,
   "id": "de461c08-ff3b-4e46-9ddd-7160661c2b3b",
   "metadata": {
    "tags": []
   },
   "outputs": [],
   "source": [
    "import datetime\n",
    "output_dir = Path('output') / 'cross_encoder' / datetime.datetime.now().strftime(\"%Y%m%d-%H%M%S\")"
   ]
  },
  {
   "cell_type": "code",
   "execution_count": 3,
   "id": "0729c50c",
   "metadata": {
    "tags": []
   },
   "outputs": [],
   "source": [
    "from xmen.reranking.cross_encoder import CrossEncoderTrainingArgs, CrossEncoderReranker"
   ]
  },
  {
   "cell_type": "code",
   "execution_count": 4,
   "id": "d4406cd9-b988-450b-9683-a8bfccc5a4e7",
   "metadata": {
    "tags": []
   },
   "outputs": [],
   "source": [
    "TASK_NAME = 'adapter_symptemist'"
   ]
  },
  {
   "cell_type": "code",
   "execution_count": 5,
   "id": "3f07c0af-f142-4699-9296-ef26272795ed",
   "metadata": {
    "tags": []
   },
   "outputs": [],
   "source": [
    "import adapters"
   ]
  },
  {
   "cell_type": "code",
   "execution_count": 6,
   "id": "99541e91",
   "metadata": {
    "tags": []
   },
   "outputs": [
    {
     "name": "stderr",
     "output_type": "stream",
     "text": [
      "Special tokens have been added in the vocabulary, make sure the associated word embeddings are fine-tuned or trained.\n"
     ]
    }
   ],
   "source": [
    "rr = CrossEncoderReranker.load('phlobo/xmen-es-ce-medmentions', device=1)"
   ]
  },
  {
   "cell_type": "code",
   "execution_count": 7,
   "id": "09fb0e92",
   "metadata": {
    "tags": []
   },
   "outputs": [
    {
     "data": {
      "text/plain": [
       "XLMRobertaForSequenceClassification(\n",
       "  (roberta): XLMRobertaModel(\n",
       "    (embeddings): XLMRobertaEmbeddings(\n",
       "      (word_embeddings): Embedding(250007, 768, padding_idx=1)\n",
       "      (position_embeddings): Embedding(514, 768, padding_idx=1)\n",
       "      (token_type_embeddings): Embedding(1, 768)\n",
       "      (LayerNorm): LayerNorm((768,), eps=1e-05, elementwise_affine=True)\n",
       "      (dropout): Dropout(p=0.1, inplace=False)\n",
       "    )\n",
       "    (encoder): XLMRobertaEncoder(\n",
       "      (layer): ModuleList(\n",
       "        (0-11): 12 x XLMRobertaLayer(\n",
       "          (attention): XLMRobertaAttention(\n",
       "            (self): XLMRobertaSelfAttention(\n",
       "              (query): Linear(in_features=768, out_features=768, bias=True)\n",
       "              (key): Linear(in_features=768, out_features=768, bias=True)\n",
       "              (value): Linear(in_features=768, out_features=768, bias=True)\n",
       "              (dropout): Dropout(p=0.1, inplace=False)\n",
       "            )\n",
       "            (output): XLMRobertaSelfOutput(\n",
       "              (dense): Linear(in_features=768, out_features=768, bias=True)\n",
       "              (LayerNorm): LayerNorm((768,), eps=1e-05, elementwise_affine=True)\n",
       "              (dropout): Dropout(p=0.1, inplace=False)\n",
       "            )\n",
       "          )\n",
       "          (intermediate): XLMRobertaIntermediate(\n",
       "            (dense): Linear(in_features=768, out_features=3072, bias=True)\n",
       "            (intermediate_act_fn): GELUActivation()\n",
       "          )\n",
       "          (output): XLMRobertaOutput(\n",
       "            (dense): Linear(in_features=3072, out_features=768, bias=True)\n",
       "            (LayerNorm): LayerNorm((768,), eps=1e-05, elementwise_affine=True)\n",
       "            (dropout): Dropout(p=0.1, inplace=False)\n",
       "          )\n",
       "        )\n",
       "      )\n",
       "    )\n",
       "  )\n",
       "  (classifier): XLMRobertaClassificationHead(\n",
       "    (dense): Linear(in_features=768, out_features=768, bias=True)\n",
       "    (dropout): Dropout(p=0.1, inplace=False)\n",
       "    (out_proj): Linear(in_features=768, out_features=1, bias=True)\n",
       "  )\n",
       ")"
      ]
     },
     "execution_count": 7,
     "metadata": {},
     "output_type": "execute_result"
    }
   ],
   "source": [
    "model = rr.model.model\n",
    "model"
   ]
  },
  {
   "cell_type": "code",
   "execution_count": 8,
   "id": "0f2a6a4e-ef25-4611-bf9c-51abaa0598b1",
   "metadata": {
    "tags": []
   },
   "outputs": [],
   "source": [
    "adapters.init(model)"
   ]
  },
  {
   "cell_type": "code",
   "execution_count": 9,
   "id": "0c62189a-d36c-4ce7-b40d-be94d01526e6",
   "metadata": {
    "tags": []
   },
   "outputs": [],
   "source": [
    "adapter_args = adapters.training.AdapterArguments(train_adapter=True)"
   ]
  },
  {
   "cell_type": "code",
   "execution_count": 10,
   "id": "0ae3e43c-30a3-4dc9-b4d6-4247266a68cb",
   "metadata": {
    "tags": []
   },
   "outputs": [
    {
     "data": {
      "text/plain": [
       "('adapter_symptemist', None)"
      ]
     },
     "execution_count": 10,
     "metadata": {},
     "output_type": "execute_result"
    }
   ],
   "source": [
    "adapters.setup_adapter_training(model, adapter_args, TASK_NAME)"
   ]
  },
  {
   "cell_type": "code",
   "execution_count": 12,
   "id": "2663cf1d-ca7e-40a2-ae32-1be33a0753de",
   "metadata": {
    "tags": []
   },
   "outputs": [
    {
     "data": {
      "application/vnd.jupyter.widget-view+json": {
       "model_id": "0247027daca64d70ae942e9f370b291e",
       "version_major": 2,
       "version_minor": 0
      },
      "text/plain": [
       "0it [00:00, ?it/s]"
      ]
     },
     "metadata": {},
     "output_type": "display_data"
    },
    {
     "name": "stdout",
     "output_type": "stream",
     "text": [
      "roberta.encoder.layer.0.output.adapters.adapter_symptemist.adapter_down.0.weight 36864\n",
      "roberta.encoder.layer.0.output.adapters.adapter_symptemist.adapter_down.0.bias 48\n",
      "roberta.encoder.layer.0.output.adapters.adapter_symptemist.adapter_up.weight 36864\n",
      "roberta.encoder.layer.0.output.adapters.adapter_symptemist.adapter_up.bias 768\n",
      "roberta.encoder.layer.1.output.adapters.adapter_symptemist.adapter_down.0.weight 36864\n",
      "roberta.encoder.layer.1.output.adapters.adapter_symptemist.adapter_down.0.bias 48\n",
      "roberta.encoder.layer.1.output.adapters.adapter_symptemist.adapter_up.weight 36864\n",
      "roberta.encoder.layer.1.output.adapters.adapter_symptemist.adapter_up.bias 768\n",
      "roberta.encoder.layer.2.output.adapters.adapter_symptemist.adapter_down.0.weight 36864\n",
      "roberta.encoder.layer.2.output.adapters.adapter_symptemist.adapter_down.0.bias 48\n",
      "roberta.encoder.layer.2.output.adapters.adapter_symptemist.adapter_up.weight 36864\n",
      "roberta.encoder.layer.2.output.adapters.adapter_symptemist.adapter_up.bias 768\n",
      "roberta.encoder.layer.3.output.adapters.adapter_symptemist.adapter_down.0.weight 36864\n",
      "roberta.encoder.layer.3.output.adapters.adapter_symptemist.adapter_down.0.bias 48\n",
      "roberta.encoder.layer.3.output.adapters.adapter_symptemist.adapter_up.weight 36864\n",
      "roberta.encoder.layer.3.output.adapters.adapter_symptemist.adapter_up.bias 768\n",
      "roberta.encoder.layer.4.output.adapters.adapter_symptemist.adapter_down.0.weight 36864\n",
      "roberta.encoder.layer.4.output.adapters.adapter_symptemist.adapter_down.0.bias 48\n",
      "roberta.encoder.layer.4.output.adapters.adapter_symptemist.adapter_up.weight 36864\n",
      "roberta.encoder.layer.4.output.adapters.adapter_symptemist.adapter_up.bias 768\n",
      "roberta.encoder.layer.5.output.adapters.adapter_symptemist.adapter_down.0.weight 36864\n",
      "roberta.encoder.layer.5.output.adapters.adapter_symptemist.adapter_down.0.bias 48\n",
      "roberta.encoder.layer.5.output.adapters.adapter_symptemist.adapter_up.weight 36864\n",
      "roberta.encoder.layer.5.output.adapters.adapter_symptemist.adapter_up.bias 768\n",
      "roberta.encoder.layer.6.output.adapters.adapter_symptemist.adapter_down.0.weight 36864\n",
      "roberta.encoder.layer.6.output.adapters.adapter_symptemist.adapter_down.0.bias 48\n",
      "roberta.encoder.layer.6.output.adapters.adapter_symptemist.adapter_up.weight 36864\n",
      "roberta.encoder.layer.6.output.adapters.adapter_symptemist.adapter_up.bias 768\n",
      "roberta.encoder.layer.7.output.adapters.adapter_symptemist.adapter_down.0.weight 36864\n",
      "roberta.encoder.layer.7.output.adapters.adapter_symptemist.adapter_down.0.bias 48\n",
      "roberta.encoder.layer.7.output.adapters.adapter_symptemist.adapter_up.weight 36864\n",
      "roberta.encoder.layer.7.output.adapters.adapter_symptemist.adapter_up.bias 768\n",
      "roberta.encoder.layer.8.output.adapters.adapter_symptemist.adapter_down.0.weight 36864\n",
      "roberta.encoder.layer.8.output.adapters.adapter_symptemist.adapter_down.0.bias 48\n",
      "roberta.encoder.layer.8.output.adapters.adapter_symptemist.adapter_up.weight 36864\n",
      "roberta.encoder.layer.8.output.adapters.adapter_symptemist.adapter_up.bias 768\n",
      "roberta.encoder.layer.9.output.adapters.adapter_symptemist.adapter_down.0.weight 36864\n",
      "roberta.encoder.layer.9.output.adapters.adapter_symptemist.adapter_down.0.bias 48\n",
      "roberta.encoder.layer.9.output.adapters.adapter_symptemist.adapter_up.weight 36864\n",
      "roberta.encoder.layer.9.output.adapters.adapter_symptemist.adapter_up.bias 768\n",
      "roberta.encoder.layer.10.output.adapters.adapter_symptemist.adapter_down.0.weight 36864\n",
      "roberta.encoder.layer.10.output.adapters.adapter_symptemist.adapter_down.0.bias 48\n",
      "roberta.encoder.layer.10.output.adapters.adapter_symptemist.adapter_up.weight 36864\n",
      "roberta.encoder.layer.10.output.adapters.adapter_symptemist.adapter_up.bias 768\n",
      "roberta.encoder.layer.11.output.adapters.adapter_symptemist.adapter_down.0.weight 36864\n",
      "roberta.encoder.layer.11.output.adapters.adapter_symptemist.adapter_down.0.bias 48\n",
      "roberta.encoder.layer.11.output.adapters.adapter_symptemist.adapter_up.weight 36864\n",
      "roberta.encoder.layer.11.output.adapters.adapter_symptemist.adapter_up.bias 768\n",
      "classifier.dense.weight 589824\n",
      "classifier.dense.bias 768\n",
      "classifier.out_proj.weight 768\n",
      "classifier.out_proj.bias 1\n"
     ]
    }
   ],
   "source": [
    "from tqdm.auto import tqdm\n",
    "\n",
    "params = 0\n",
    "for p in tqdm(model.named_parameters()):    \n",
    "    if p[1].requires_grad:\n",
    "        print(p[0], p[1].numel())\n",
    "        params += p[1].numel()"
   ]
  },
  {
   "cell_type": "code",
   "execution_count": 13,
   "id": "420802c7-71be-4d1d-a931-627492138209",
   "metadata": {
    "tags": []
   },
   "outputs": [
    {
     "data": {
      "text/plain": [
       "1485889"
      ]
     },
     "execution_count": 13,
     "metadata": {},
     "output_type": "execute_result"
    }
   ],
   "source": [
    "params"
   ]
  },
  {
   "cell_type": "code",
   "execution_count": 14,
   "id": "74401a90-bd75-424d-bf6b-1d5128989164",
   "metadata": {
    "tags": []
   },
   "outputs": [],
   "source": [
    "run = Path('/mnt/nfs/home/Florian.Borchert/runs/xmen/symptemist_benchmark/outputs/2024-02-07_16-15-59')\n",
    "base_path = Path.home() / '.cache' / 'xmen' / 'symptemist'"
   ]
  },
  {
   "cell_type": "code",
   "execution_count": 15,
   "id": "4c7bed9f-0955-4bc9-b341-24df275a3b1b",
   "metadata": {
    "tags": []
   },
   "outputs": [],
   "source": [
    "from xmen import load_kb\n",
    "kb = load_kb(base_path / 'symptemist.jsonl')"
   ]
  },
  {
   "cell_type": "code",
   "execution_count": 16,
   "id": "dba4b97c-7254-445d-a597-2bb891272cbe",
   "metadata": {
    "tags": []
   },
   "outputs": [],
   "source": [
    "dataset = datasets.load_from_disk(run / '0-symptemist_benchmark_dataset')\n",
    "candidates = datasets.load_from_disk(run / '0-symptemist_benchmark_candidates')"
   ]
  },
  {
   "cell_type": "code",
   "execution_count": 17,
   "id": "45534740-916b-4a77-b18d-3d0f5c21b4c9",
   "metadata": {
    "tags": []
   },
   "outputs": [
    {
     "name": "stdout",
     "output_type": "stream",
     "text": [
      "Context length: 128\n",
      "Use NIL values: True\n"
     ]
    },
    {
     "data": {
      "application/vnd.jupyter.widget-view+json": {
       "model_id": "4e92f9de61e4430fa51932096f55717b",
       "version_major": 2,
       "version_minor": 0
      },
      "text/plain": [
       "  0%|          | 0/2711 [00:00<?, ?it/s]"
      ]
     },
     "metadata": {},
     "output_type": "display_data"
    },
    {
     "data": {
      "application/vnd.jupyter.widget-view+json": {
       "model_id": "5c29b12b498c4511bae8e58b30945dc6",
       "version_major": 2,
       "version_minor": 0
      },
      "text/plain": [
       "  0%|          | 0/2711 [00:00<?, ?it/s]"
      ]
     },
     "metadata": {},
     "output_type": "display_data"
    },
    {
     "data": {
      "application/vnd.jupyter.widget-view+json": {
       "model_id": "e27a557f48804afba9d0d6db24d948c1",
       "version_major": 2,
       "version_minor": 0
      },
      "text/plain": [
       "  0%|          | 0/2711 [00:00<?, ?it/s]"
      ]
     },
     "metadata": {},
     "output_type": "display_data"
    },
    {
     "data": {
      "application/vnd.jupyter.widget-view+json": {
       "model_id": "e19790220a03411a83a5a52859d98754",
       "version_major": 2,
       "version_minor": 0
      },
      "text/plain": [
       "  0%|          | 0/773 [00:00<?, ?it/s]"
      ]
     },
     "metadata": {},
     "output_type": "display_data"
    },
    {
     "data": {
      "application/vnd.jupyter.widget-view+json": {
       "model_id": "ee7e75f7f07b4bc29d9482e72e57c968",
       "version_major": 2,
       "version_minor": 0
      },
      "text/plain": [
       "  0%|          | 0/773 [00:00<?, ?it/s]"
      ]
     },
     "metadata": {},
     "output_type": "display_data"
    },
    {
     "data": {
      "application/vnd.jupyter.widget-view+json": {
       "model_id": "e4e9cbb1267c40b3ac2a3128af94d461",
       "version_major": 2,
       "version_minor": 0
      },
      "text/plain": [
       "  0%|          | 0/773 [00:00<?, ?it/s]"
      ]
     },
     "metadata": {},
     "output_type": "display_data"
    },
    {
     "data": {
      "application/vnd.jupyter.widget-view+json": {
       "model_id": "b4238121e39c4ca5833a4a2281b00ee4",
       "version_major": 2,
       "version_minor": 0
      },
      "text/plain": [
       "  0%|          | 0/773 [00:00<?, ?it/s]"
      ]
     },
     "metadata": {},
     "output_type": "display_data"
    },
    {
     "data": {
      "application/vnd.jupyter.widget-view+json": {
       "model_id": "1ff528b2e87b47a899bf32e4d94fcacf",
       "version_major": 2,
       "version_minor": 0
      },
      "text/plain": [
       "  0%|          | 0/773 [00:00<?, ?it/s]"
      ]
     },
     "metadata": {},
     "output_type": "display_data"
    },
    {
     "data": {
      "application/vnd.jupyter.widget-view+json": {
       "model_id": "4150787d4cde41b9b48d3cbb37b067a0",
       "version_major": 2,
       "version_minor": 0
      },
      "text/plain": [
       "  0%|          | 0/773 [00:00<?, ?it/s]"
      ]
     },
     "metadata": {},
     "output_type": "display_data"
    }
   ],
   "source": [
    "ce_dataset = CrossEncoderReranker.prepare_data(candidates, dataset, kb)"
   ]
  },
  {
   "cell_type": "code",
   "execution_count": 18,
   "id": "57347615-c6ad-479b-9f76-4012bfa929ad",
   "metadata": {
    "tags": []
   },
   "outputs": [],
   "source": [
    "args = CrossEncoderTrainingArgs(num_train_epochs=20)"
   ]
  },
  {
   "cell_type": "code",
   "execution_count": null,
   "id": "6c05b276-200f-4721-b663-8251cf5caf55",
   "metadata": {
    "tags": []
   },
   "outputs": [
    {
     "name": "stderr",
     "output_type": "stream",
     "text": [
      "Failed to detect the name of this notebook, you can set it manually with the WANDB_NOTEBOOK_NAME environment variable to enable code saving.\n",
      "\u001b[34m\u001b[1mwandb\u001b[0m: Currently logged in as: \u001b[33mphlobo\u001b[0m. Use \u001b[1m`wandb login --relogin`\u001b[0m to force relogin\n"
     ]
    },
    {
     "data": {
      "text/html": [
       "wandb version 0.16.3 is available!  To upgrade, please run:\n",
       " $ pip install wandb --upgrade"
      ],
      "text/plain": [
       "<IPython.core.display.HTML object>"
      ]
     },
     "metadata": {},
     "output_type": "display_data"
    },
    {
     "data": {
      "text/html": [
       "Tracking run with wandb version 0.15.12"
      ],
      "text/plain": [
       "<IPython.core.display.HTML object>"
      ]
     },
     "metadata": {},
     "output_type": "display_data"
    },
    {
     "data": {
      "text/html": [
       "Run data is saved locally in <code>/mnt/nfs/home/Florian.Borchert/workspace/symptemist/wandb/run-20240208_134328-dvbnxxkn</code>"
      ],
      "text/plain": [
       "<IPython.core.display.HTML object>"
      ]
     },
     "metadata": {},
     "output_type": "display_data"
    },
    {
     "data": {
      "text/html": [
       "Syncing run <strong><a href='https://wandb.ai/phlobo/xmen/runs/dvbnxxkn' target=\"_blank\">splendid-elevator-340</a></strong> to <a href='https://wandb.ai/phlobo/xmen' target=\"_blank\">Weights & Biases</a> (<a href='https://wandb.me/run' target=\"_blank\">docs</a>)<br/>"
      ],
      "text/plain": [
       "<IPython.core.display.HTML object>"
      ]
     },
     "metadata": {},
     "output_type": "display_data"
    },
    {
     "data": {
      "text/html": [
       " View project at <a href='https://wandb.ai/phlobo/xmen' target=\"_blank\">https://wandb.ai/phlobo/xmen</a>"
      ],
      "text/plain": [
       "<IPython.core.display.HTML object>"
      ]
     },
     "metadata": {},
     "output_type": "display_data"
    },
    {
     "data": {
      "text/html": [
       " View run at <a href='https://wandb.ai/phlobo/xmen/runs/dvbnxxkn' target=\"_blank\">https://wandb.ai/phlobo/xmen/runs/dvbnxxkn</a>"
      ],
      "text/plain": [
       "<IPython.core.display.HTML object>"
      ]
     },
     "metadata": {},
     "output_type": "display_data"
    },
    {
     "name": "stdout",
     "output_type": "stream",
     "text": [
      "model_name := bert-base-multilingual-cased\n",
      "num_train_epochs := 20\n",
      "fp16 := True\n",
      "label_smoothing := False\n",
      "rank_regularization := 1.0\n",
      "train_layers := None\n",
      "softmax_loss := True\n",
      "random_seed := 42\n",
      "learning_rate := 2e-05\n",
      "Continue training\n"
     ]
    },
    {
     "data": {
      "application/vnd.jupyter.widget-view+json": {
       "model_id": "30dfa44b7e564833ad1c172470ec95be",
       "version_major": 2,
       "version_minor": 0
      },
      "text/plain": [
       "Epoch:   0%|          | 0/20 [00:00<?, ?it/s]"
      ]
     },
     "metadata": {},
     "output_type": "display_data"
    },
    {
     "data": {
      "application/vnd.jupyter.widget-view+json": {
       "model_id": "a4ffe41f53f84329b0e1c68e7e3d439b",
       "version_major": 2,
       "version_minor": 0
      },
      "text/plain": [
       "Iteration:   0%|          | 0/2711 [00:00<?, ?it/s]"
      ]
     },
     "metadata": {},
     "output_type": "display_data"
    },
    {
     "name": "stdout",
     "output_type": "stream",
     "text": [
      "2024-02-08 14:16:15 - EntityLinkingEvaluator: Evaluating the model on eval dataset after epoch 0:\n",
      "2024-02-08 14:23:26 - Accuracy: 0.46571798188874514\n",
      "2024-02-08 14:23:26 - Accuracy @ 5: 0.6869340232858991\n",
      "2024-02-08 14:23:26 - Accuracy @ 64: 1.0\n",
      "2024-02-08 14:23:26 - Baseline Accuracy: 0.4178525226390686\n",
      "2024-02-08 14:23:26 - Save model to output/cross_encoder/20240208-134234\n"
     ]
    },
    {
     "data": {
      "application/vnd.jupyter.widget-view+json": {
       "model_id": "56c940548ffc4353a961f89b5af0a5ef",
       "version_major": 2,
       "version_minor": 0
      },
      "text/plain": [
       "Iteration:   0%|          | 0/2711 [00:00<?, ?it/s]"
      ]
     },
     "metadata": {},
     "output_type": "display_data"
    },
    {
     "name": "stdout",
     "output_type": "stream",
     "text": [
      "2024-02-08 14:56:16 - EntityLinkingEvaluator: Evaluating the model on eval dataset after epoch 1:\n",
      "2024-02-08 15:03:27 - Accuracy: 0.463130659767141\n",
      "2024-02-08 15:03:27 - Accuracy @ 5: 0.685640362225097\n",
      "2024-02-08 15:03:27 - Accuracy @ 64: 1.0\n",
      "2024-02-08 15:03:27 - Baseline Accuracy: 0.4178525226390686\n"
     ]
    },
    {
     "data": {
      "application/vnd.jupyter.widget-view+json": {
       "model_id": "5d6e6155307048c485029dd9790b3f9c",
       "version_major": 2,
       "version_minor": 0
      },
      "text/plain": [
       "Iteration:   0%|          | 0/2711 [00:00<?, ?it/s]"
      ]
     },
     "metadata": {},
     "output_type": "display_data"
    },
    {
     "name": "stdout",
     "output_type": "stream",
     "text": [
      "2024-02-08 15:36:13 - EntityLinkingEvaluator: Evaluating the model on eval dataset after epoch 2:\n",
      "2024-02-08 15:43:25 - Accuracy: 0.49547218628719275\n",
      "2024-02-08 15:43:25 - Accuracy @ 5: 0.702457956015524\n",
      "2024-02-08 15:43:25 - Accuracy @ 64: 1.0\n",
      "2024-02-08 15:43:25 - Baseline Accuracy: 0.4178525226390686\n",
      "2024-02-08 15:43:25 - Save model to output/cross_encoder/20240208-134234\n"
     ]
    },
    {
     "data": {
      "application/vnd.jupyter.widget-view+json": {
       "model_id": "b1b4041ae8e64276b898915d14d75238",
       "version_major": 2,
       "version_minor": 0
      },
      "text/plain": [
       "Iteration:   0%|          | 0/2711 [00:00<?, ?it/s]"
      ]
     },
     "metadata": {},
     "output_type": "display_data"
    },
    {
     "name": "stdout",
     "output_type": "stream",
     "text": [
      "2024-02-08 16:16:16 - EntityLinkingEvaluator: Evaluating the model on eval dataset after epoch 3:\n",
      "2024-02-08 16:23:27 - Accuracy: 0.5148771021992238\n",
      "2024-02-08 16:23:27 - Accuracy @ 5: 0.703751617076326\n",
      "2024-02-08 16:23:27 - Accuracy @ 64: 1.0\n",
      "2024-02-08 16:23:27 - Baseline Accuracy: 0.4178525226390686\n",
      "2024-02-08 16:23:27 - Save model to output/cross_encoder/20240208-134234\n"
     ]
    },
    {
     "data": {
      "application/vnd.jupyter.widget-view+json": {
       "model_id": "a1e1967487524811a175a8944e566e0a",
       "version_major": 2,
       "version_minor": 0
      },
      "text/plain": [
       "Iteration:   0%|          | 0/2711 [00:00<?, ?it/s]"
      ]
     },
     "metadata": {},
     "output_type": "display_data"
    },
    {
     "name": "stdout",
     "output_type": "stream",
     "text": [
      "2024-02-08 16:56:20 - EntityLinkingEvaluator: Evaluating the model on eval dataset after epoch 4:\n",
      "2024-02-08 17:03:31 - Accuracy: 0.5109961190168176\n",
      "2024-02-08 17:03:31 - Accuracy @ 5: 0.7011642949547219\n",
      "2024-02-08 17:03:31 - Accuracy @ 64: 1.0\n",
      "2024-02-08 17:03:31 - Baseline Accuracy: 0.4178525226390686\n"
     ]
    },
    {
     "data": {
      "application/vnd.jupyter.widget-view+json": {
       "model_id": "c08c3d852da44b5dac903c866b18ee64",
       "version_major": 2,
       "version_minor": 0
      },
      "text/plain": [
       "Iteration:   0%|          | 0/2711 [00:00<?, ?it/s]"
      ]
     },
     "metadata": {},
     "output_type": "display_data"
    },
    {
     "name": "stdout",
     "output_type": "stream",
     "text": [
      "2024-02-08 17:36:17 - EntityLinkingEvaluator: Evaluating the model on eval dataset after epoch 5:\n",
      "2024-02-08 17:43:28 - Accuracy: 0.500646830530401\n",
      "2024-02-08 17:43:28 - Accuracy @ 5: 0.6998706338939198\n",
      "2024-02-08 17:43:28 - Accuracy @ 64: 1.0\n",
      "2024-02-08 17:43:28 - Baseline Accuracy: 0.4178525226390686\n"
     ]
    },
    {
     "data": {
      "application/vnd.jupyter.widget-view+json": {
       "model_id": "00720a2b963d4d978b024f8993d9c877",
       "version_major": 2,
       "version_minor": 0
      },
      "text/plain": [
       "Iteration:   0%|          | 0/2711 [00:00<?, ?it/s]"
      ]
     },
     "metadata": {},
     "output_type": "display_data"
    },
    {
     "name": "stdout",
     "output_type": "stream",
     "text": [
      "2024-02-08 18:16:14 - EntityLinkingEvaluator: Evaluating the model on eval dataset after epoch 6:\n",
      "2024-02-08 18:23:25 - Accuracy: 0.5200517464424321\n",
      "2024-02-08 18:23:25 - Accuracy @ 5: 0.7179818887451488\n",
      "2024-02-08 18:23:25 - Accuracy @ 64: 1.0\n",
      "2024-02-08 18:23:25 - Baseline Accuracy: 0.4178525226390686\n",
      "2024-02-08 18:23:25 - Save model to output/cross_encoder/20240208-134234\n"
     ]
    },
    {
     "data": {
      "application/vnd.jupyter.widget-view+json": {
       "model_id": "2af68ee030a54084a3d44f7e5596e6dd",
       "version_major": 2,
       "version_minor": 0
      },
      "text/plain": [
       "Iteration:   0%|          | 0/2711 [00:00<?, ?it/s]"
      ]
     },
     "metadata": {},
     "output_type": "display_data"
    }
   ],
   "source": [
    "import wandb\n",
    "\n",
    "wandb.init(project=\"xmen\")\n",
    "\n",
    "try:\n",
    "    rr.fit(args, ce_dataset['train'].dataset, ce_dataset['validation'].dataset, show_progress_bar=True, eval_callback=wandb.log, output_dir=output_dir, train_continue=True)\n",
    "finally:\n",
    "    if run := wandb.run:\n",
    "        run.finish()"
   ]
  },
  {
   "cell_type": "code",
   "execution_count": null,
   "id": "033d6cf1-d098-4eb7-a4da-538322ea2f7e",
   "metadata": {},
   "outputs": [],
   "source": []
  }
 ],
 "metadata": {
  "kernelspec": {
   "display_name": "Python [conda env:symptemist]",
   "language": "python",
   "name": "conda-env-symptemist-py"
  },
  "language_info": {
   "codemirror_mode": {
    "name": "ipython",
    "version": 3
   },
   "file_extension": ".py",
   "mimetype": "text/x-python",
   "name": "python",
   "nbconvert_exporter": "python",
   "pygments_lexer": "ipython3",
   "version": "3.10.13"
  }
 },
 "nbformat": 4,
 "nbformat_minor": 5
}
