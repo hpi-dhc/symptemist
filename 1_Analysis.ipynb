{
 "cells": [
  {
   "cell_type": "code",
   "execution_count": 1,
   "id": "d65ee78a-0f0b-4b75-9706-b216af4e2e1a",
   "metadata": {
    "tags": []
   },
   "outputs": [],
   "source": [
    "from pathlib import Path\n",
    "import pandas as pd"
   ]
  },
  {
   "cell_type": "code",
   "execution_count": 2,
   "id": "4038af93-fae4-41c3-a6d7-356eabc9eb6d",
   "metadata": {
    "tags": []
   },
   "outputs": [],
   "source": [
    "run = Path('/mnt/nfs/home/Florian.Borchert/runs/xmen/symptemist_benchmark/outputs/2024-02-07_16-15-59')"
   ]
  },
  {
   "cell_type": "code",
   "execution_count": 3,
   "id": "6d3ed6ea-018a-4abb-82e6-db29dbb06086",
   "metadata": {
    "tags": []
   },
   "outputs": [],
   "source": [
    "base_path = Path.home() / '.cache' / 'xmen' / 'symptemist'"
   ]
  },
  {
   "cell_type": "code",
   "execution_count": 4,
   "id": "c64f062f-ce38-48b9-8a1c-1b7c61215a42",
   "metadata": {
    "tags": []
   },
   "outputs": [],
   "source": [
    "from xmen import load_kb\n",
    "kb = load_kb(base_path / 'symptemist.jsonl')"
   ]
  },
  {
   "cell_type": "code",
   "execution_count": 5,
   "id": "1871e77d-8d87-4942-b9b2-be3f2f5d74c3",
   "metadata": {
    "tags": []
   },
   "outputs": [
    {
     "data": {
      "text/plain": [
       "992924"
      ]
     },
     "execution_count": 5,
     "metadata": {},
     "output_type": "execute_result"
    }
   ],
   "source": [
    "len(kb.alias_to_cuis)"
   ]
  },
  {
   "cell_type": "code",
   "execution_count": null,
   "id": "1c5f8252-e7d8-4be6-9a9c-8460b494744e",
   "metadata": {
    "tags": []
   },
   "outputs": [],
   "source": [
    "sum([len(v) for a, v in kb.alias_to_cuis.items()])"
   ]
  },
  {
   "cell_type": "code",
   "execution_count": null,
   "id": "9e096050-7750-41db-9157-5f75c99116dc",
   "metadata": {
    "tags": []
   },
   "outputs": [],
   "source": [
    "list(run.glob('*'))"
   ]
  },
  {
   "cell_type": "code",
   "execution_count": null,
   "id": "6ea85b6b-789f-4291-a795-f3c620947e44",
   "metadata": {
    "tags": []
   },
   "outputs": [],
   "source": [
    "import datasets"
   ]
  },
  {
   "cell_type": "code",
   "execution_count": null,
   "id": "74c88107-f35c-49a3-8218-e763afad3474",
   "metadata": {
    "tags": []
   },
   "outputs": [],
   "source": [
    "dataset = datasets.load_from_disk(run / '0-symptemist_benchmark_dataset')\n",
    "candidates = datasets.load_from_disk(run / '0-symptemist_benchmark_candidates')\n",
    "pred_val =  datasets.load_from_disk(run / '0-symptemist_benchmark_cross_enc_pred_val')\n",
    "pred_val_no_nil =  datasets.load_from_disk(run / '0-symptemist_benchmark_cross_enc_pred_val_no_nil')\n",
    "pred_test = datasets.load_from_disk(run / '0-symptemist_benchmark_cross_enc_pred_test')\n",
    "pred_test_no_nil = datasets.load_from_disk(run / '0-symptemist_benchmark_cross_enc_pred_test_no_nil')"
   ]
  },
  {
   "cell_type": "code",
   "execution_count": null,
   "id": "7b90355e-64c1-4ae0-8410-e28b02c56fad",
   "metadata": {
    "tags": []
   },
   "outputs": [],
   "source": [
    "from xmen.evaluation import evaluate, error_analysis, evaluate_at_k"
   ]
  },
  {
   "cell_type": "code",
   "execution_count": null,
   "id": "64a54a8d-2948-4df6-93ce-0376191d4f2e",
   "metadata": {
    "tags": []
   },
   "outputs": [],
   "source": [
    "_ = evaluate_at_k(dataset['validation'], candidates['validation'])"
   ]
  },
  {
   "cell_type": "code",
   "execution_count": null,
   "id": "6f8ae5f1-7388-4daa-911f-8a242a46e84d",
   "metadata": {
    "tags": []
   },
   "outputs": [],
   "source": [
    "evaluate(dataset['test'], pred_test_no_nil)"
   ]
  },
  {
   "cell_type": "code",
   "execution_count": null,
   "id": "2ad1842e-7154-4fc2-b763-0930a1d858b6",
   "metadata": {
    "tags": []
   },
   "outputs": [],
   "source": [
    "ea = error_analysis(dataset['validation'], candidates['validation'])"
   ]
  },
  {
   "cell_type": "code",
   "execution_count": null,
   "id": "2d290ba5-b919-4f73-9bc7-b880a7074141",
   "metadata": {
    "tags": []
   },
   "outputs": [],
   "source": [
    "errors = ea[ea.pred_index == -1]"
   ]
  },
  {
   "cell_type": "code",
   "execution_count": null,
   "id": "32b132cd-ff19-44c1-8a3b-20783e41dcdb",
   "metadata": {
    "tags": []
   },
   "outputs": [],
   "source": [
    "ea1 = ea[ea.pred_index == 0]#._word_len.value_counts().sort_index()\n",
    "ea2 = ea[ea.pred_index == -1]#._word_len.value_counts().sort_index()"
   ]
  },
  {
   "cell_type": "code",
   "execution_count": null,
   "id": "05db0a73-1e16-43d2-91db-a27b2e2f46d9",
   "metadata": {
    "tags": []
   },
   "outputs": [],
   "source": [
    "ea[ea.pred_index == -1]"
   ]
  },
  {
   "cell_type": "code",
   "execution_count": null,
   "id": "3abfe417-cbed-41f7-9043-191d46305890",
   "metadata": {
    "tags": []
   },
   "outputs": [],
   "source": [
    "(ea1._word_len.value_counts() / len(ea1)).sort_index().plot()\n",
    "(ea2._word_len.value_counts() / len(ea2)).sort_index().plot()"
   ]
  },
  {
   "cell_type": "markdown",
   "id": "ebaa840f-78c2-4c73-8e10-b97c561a63eb",
   "metadata": {},
   "source": [
    "# Lookup"
   ]
  },
  {
   "cell_type": "code",
   "execution_count": null,
   "id": "2c9beaca-e319-43e6-9d98-f4cf5d9fddd8",
   "metadata": {
    "tags": []
   },
   "outputs": [],
   "source": [
    "str2cui = []\n",
    "for d in dataset['train']['entities']:\n",
    "    for e in d:\n",
    "        str2cui.append({'text' : ' '.join(e['text']), 'norm' : e['normalized'][0]['db_id']})\n",
    "str2cui = pd.DataFrame(str2cui)\n",
    "str2norm = str2cui.groupby('text').agg(set).norm\n",
    "\n",
    "str2cui_list = str2cui.groupby('text').agg(list).norm\n",
    "\n",
    "lookup = str2cui_list[str2cui_list.map(len) > 1].map(lambda l: l[0])\n",
    "lookup = str2norm.map(lambda s: list(s)[0])\n",
    "\n",
    "# Mapping is unique\n",
    "str2norm[str2norm.map(len) != 1]\n",
    "\n",
    "def transform_lookup(sample):\n",
    "    entities = sample['entities'].copy()\n",
    "    for e in entities:\n",
    "        t = ' '.join(e['text'])\n",
    "        if t in lookup.index:\n",
    "            train_cui = lookup.loc[t]\n",
    "            norm = e['normalized']\n",
    "            entry = {'db_name': 'SNOMED_CT', 'db_id': train_cui, 'score' : 1.0, 'predicted_by' : ['lookup']}\n",
    "            norm.insert(0, entry)\n",
    "    return { 'entities' : entities }"
   ]
  },
  {
   "cell_type": "code",
   "execution_count": null,
   "id": "eff1cffc-b02e-4e0c-9b40-fc65937bf101",
   "metadata": {
    "tags": []
   },
   "outputs": [],
   "source": [
    "evaluate(dataset['validation'], pred_val)"
   ]
  },
  {
   "cell_type": "code",
   "execution_count": null,
   "id": "bf96c098-25a8-4d00-bb6d-ca269d293393",
   "metadata": {
    "tags": []
   },
   "outputs": [],
   "source": [
    "evaluate(dataset['validation'], pred_val.map(transform_lookup))"
   ]
  },
  {
   "cell_type": "code",
   "execution_count": null,
   "id": "dbf5ce44-1dcb-4e16-8fb0-bcba230f643d",
   "metadata": {},
   "outputs": [],
   "source": []
  }
 ],
 "metadata": {
  "kernelspec": {
   "display_name": "Python [conda env:symptemist]",
   "language": "python",
   "name": "conda-env-symptemist-py"
  },
  "language_info": {
   "codemirror_mode": {
    "name": "ipython",
    "version": 3
   },
   "file_extension": ".py",
   "mimetype": "text/x-python",
   "name": "python",
   "nbconvert_exporter": "python",
   "pygments_lexer": "ipython3",
   "version": "3.10.13"
  }
 },
 "nbformat": 4,
 "nbformat_minor": 5
}
