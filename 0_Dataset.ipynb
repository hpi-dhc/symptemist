{
 "cells": [
  {
   "cell_type": "markdown",
   "metadata": {},
   "source": [
    "# Statistics for SympTEMIST Shared Task and Comparable Datasets"
   ]
  },
  {
   "cell_type": "code",
   "execution_count": 1,
   "metadata": {
    "tags": []
   },
   "outputs": [],
   "source": [
    "import sys\n",
    "sys.path.append('../xmen/benchmarks')"
   ]
  },
  {
   "cell_type": "code",
   "execution_count": 2,
   "metadata": {
    "tags": []
   },
   "outputs": [],
   "source": [
    "import dataloaders"
   ]
  },
  {
   "cell_type": "code",
   "execution_count": 3,
   "metadata": {
    "tags": []
   },
   "outputs": [
    {
     "data": {
      "application/vnd.jupyter.widget-view+json": {
       "model_id": "55ca3ae247984db7bc3c198cf477dfc4",
       "version_major": 2,
       "version_minor": 0
      },
      "text/plain": [
       "Filter:   0%|          | 0/583 [00:00<?, ? examples/s]"
      ]
     },
     "metadata": {},
     "output_type": "display_data"
    },
    {
     "data": {
      "application/vnd.jupyter.widget-view+json": {
       "model_id": "df69a5071cff461997b6039fa9937a34",
       "version_major": 2,
       "version_minor": 0
      },
      "text/plain": [
       "Filter:   0%|          | 0/583 [00:00<?, ? examples/s]"
      ]
     },
     "metadata": {},
     "output_type": "display_data"
    },
    {
     "data": {
      "application/vnd.jupyter.widget-view+json": {
       "model_id": "00d980dce69140a9b4353ec113697d4f",
       "version_major": 2,
       "version_minor": 0
      },
      "text/plain": [
       "Map:   0%|          | 0/466 [00:00<?, ? examples/s]"
      ]
     },
     "metadata": {},
     "output_type": "display_data"
    },
    {
     "data": {
      "application/vnd.jupyter.widget-view+json": {
       "model_id": "db153d74d37543f68aa8bd41c3c62f2d",
       "version_major": 2,
       "version_minor": 0
      },
      "text/plain": [
       "Map:   0%|          | 0/250 [00:00<?, ? examples/s]"
      ]
     },
     "metadata": {},
     "output_type": "display_data"
    },
    {
     "data": {
      "application/vnd.jupyter.widget-view+json": {
       "model_id": "85578266de114111b66eacaa0263fd82",
       "version_major": 2,
       "version_minor": 0
      },
      "text/plain": [
       "Map:   0%|          | 0/117 [00:00<?, ? examples/s]"
      ]
     },
     "metadata": {},
     "output_type": "display_data"
    },
    {
     "data": {
      "application/vnd.jupyter.widget-view+json": {
       "model_id": "29dae10db4ff49f78881bcd9d772f422",
       "version_major": 2,
       "version_minor": 0
      },
      "text/plain": [
       "Map:   0%|          | 0/2635 [00:00<?, ? examples/s]"
      ]
     },
     "metadata": {},
     "output_type": "display_data"
    },
    {
     "data": {
      "application/vnd.jupyter.widget-view+json": {
       "model_id": "753c6289958944be87179341b494c1bd",
       "version_major": 2,
       "version_minor": 0
      },
      "text/plain": [
       "Map:   0%|          | 0/878 [00:00<?, ? examples/s]"
      ]
     },
     "metadata": {},
     "output_type": "display_data"
    },
    {
     "data": {
      "application/vnd.jupyter.widget-view+json": {
       "model_id": "36f7c2a3519645b8a53eac136bac591e",
       "version_major": 2,
       "version_minor": 0
      },
      "text/plain": [
       "Map:   0%|          | 0/879 [00:00<?, ? examples/s]"
      ]
     },
     "metadata": {},
     "output_type": "display_data"
    }
   ],
   "source": [
    "symptemist = dataloaders.load_symptemist()[0]\n",
    "quaero = dataloaders.load_quaero()[0]\n",
    "distemist = dataloaders.load_distemist()[0]\n",
    "mm = dataloaders.load_medmentions_st21pv()[0]"
   ]
  },
  {
   "cell_type": "code",
   "execution_count": 4,
   "metadata": {
    "tags": []
   },
   "outputs": [],
   "source": [
    "import pandas as pd\n",
    "\n",
    "def get_all_entities(ds):\n",
    "    return [e for d in ds.values() for di in d for e in di['entities']]\n",
    "\n",
    "def get_len(e):\n",
    "    return len(' '.join(e['text']).split(' '))\n",
    "\n",
    "def get_longest_entity(ent_list):\n",
    "    max_e = ent_list[0]\n",
    "    for e in ent_list:\n",
    "        if get_len(e) > get_len(max_e):\n",
    "            max_e = e\n",
    "    return max_e\n",
    "\n",
    "def get_stats(ent_list):\n",
    "    n = len(ent_list)\n",
    "    mentions = pd.Series([get_len(e) for e in ent_list])\n",
    "    print('Total', len(mentions), 'Mean', mentions.mean(), 'Median', mentions.median(), 'Max', mentions.max())"
   ]
  },
  {
   "cell_type": "markdown",
   "metadata": {},
   "source": [
    "### SympTEMIST"
   ]
  },
  {
   "cell_type": "code",
   "execution_count": 5,
   "metadata": {
    "tags": []
   },
   "outputs": [
    {
     "name": "stdout",
     "output_type": "stream",
     "text": [
      "Total 11124 Mean 3.563556274721323 Median 2.0 Max 36\n"
     ]
    }
   ],
   "source": [
    "symptemist_ents = get_all_entities(symptemist)\n",
    "get_stats(symptemist_ents)"
   ]
  },
  {
   "cell_type": "code",
   "execution_count": 6,
   "metadata": {
    "tags": []
   },
   "outputs": [
    {
     "data": {
      "text/plain": [
       "{'id': '87_es-S0004-06142008000400010-1_1816_entity_id',\n",
       " 'type': 'SINTOMA',\n",
       " 'text': ['hipercaptación que afectan a región cigomática derecha y orbital interna derecha, ambas parrillas costales, columna dorsolumbar, pala ilíaca, región acetabular e isquiopubiana derechas, espina iliaca y región acetabular izquierdas y tercio medio de diáfisis femoral izquierda'],\n",
       " 'offsets': [[2243, 2518]],\n",
       " 'normalized': [{'db_name': 'SNOMED_CT', 'db_id': '76069003'}]}"
      ]
     },
     "execution_count": 6,
     "metadata": {},
     "output_type": "execute_result"
    }
   ],
   "source": [
    "get_longest_entity(symptemist_ents)"
   ]
  },
  {
   "cell_type": "markdown",
   "metadata": {},
   "source": [
    "#### DisTEMIST"
   ]
  },
  {
   "cell_type": "code",
   "execution_count": 7,
   "metadata": {
    "tags": []
   },
   "outputs": [
    {
     "name": "stdout",
     "output_type": "stream",
     "text": [
      "Total 8087 Mean 3.275256584642018 Median 2.0 Max 28\n"
     ]
    }
   ],
   "source": [
    "distemist_ents = get_all_entities(distemist)\n",
    "get_stats(distemist_ents)"
   ]
  },
  {
   "cell_type": "code",
   "execution_count": 8,
   "metadata": {
    "tags": []
   },
   "outputs": [
    {
     "data": {
      "text/plain": [
       "{'id': '580_es-S0210-48062007000100011-1_3608_entity_id_T1',\n",
       " 'type': 'ENFERMEDAD',\n",
       " 'text': ['enfermedad difusa de la arteria descendente anterior con lesión en el tercio distal del 50% y lesión del 40% en el tercio proximal de la primera rama diagonal'],\n",
       " 'offsets': [[2052, 2210]],\n",
       " 'normalized': [{'db_name': 'SNOMED_CT', 'db_id': '840608004'}]}"
      ]
     },
     "execution_count": 8,
     "metadata": {},
     "output_type": "execute_result"
    }
   ],
   "source": [
    "get_longest_entity(distemist_ents)"
   ]
  },
  {
   "cell_type": "markdown",
   "metadata": {},
   "source": [
    "#### Quaero"
   ]
  },
  {
   "cell_type": "code",
   "execution_count": 9,
   "metadata": {
    "tags": []
   },
   "outputs": [
    {
     "name": "stdout",
     "output_type": "stream",
     "text": [
      "Total 16233 Mean 1.4038070596932175 Median 1.0 Max 15\n"
     ]
    }
   ],
   "source": [
    "quaero_ents = get_all_entities(quaero)\n",
    "get_stats(quaero_ents)"
   ]
  },
  {
   "cell_type": "code",
   "execution_count": 10,
   "metadata": {
    "tags": []
   },
   "outputs": [
    {
     "data": {
      "text/plain": [
       "{'id': '4757335_T3',\n",
       " 'type': 'CHEM',\n",
       " 'text': ['poly ( gamma-L-glutamate de benzyle )- poly ( oxyéthylńe )- poly ( gamma-L-glutamate de benzyle'],\n",
       " 'offsets': [[51, 146]],\n",
       " 'normalized': [{'db_name': 'UMLS', 'db_id': 'C0644233'}]}"
      ]
     },
     "execution_count": 10,
     "metadata": {},
     "output_type": "execute_result"
    }
   ],
   "source": [
    "get_longest_entity(quaero_ents)"
   ]
  },
  {
   "cell_type": "markdown",
   "metadata": {},
   "source": [
    "#### MedMentions"
   ]
  },
  {
   "cell_type": "code",
   "execution_count": 11,
   "metadata": {
    "tags": []
   },
   "outputs": [
    {
     "name": "stdout",
     "output_type": "stream",
     "text": [
      "Total 203282 Mean 1.4709172479609607 Median 1.0 Max 19\n"
     ]
    }
   ],
   "source": [
    "mm_ents = get_all_entities(mm)\n",
    "get_stats(mm_ents)"
   ]
  },
  {
   "cell_type": "code",
   "execution_count": 12,
   "metadata": {
    "tags": []
   },
   "outputs": [
    {
     "data": {
      "text/plain": [
       "{'id': '28027',\n",
       " 'type': 'T170',\n",
       " 'text': ['Swedish Web System for Enhancement and Development of Evidence-Based Care in Heart Disease Evaluated According to Recommended Therapies (SWEDEHEART)'],\n",
       " 'offsets': [[87, 235]],\n",
       " 'normalized': [{'db_name': 'UMLS', 'db_id': 'C0282574'}]}"
      ]
     },
     "execution_count": 12,
     "metadata": {},
     "output_type": "execute_result"
    }
   ],
   "source": [
    "get_longest_entity(mm_ents)"
   ]
  },
  {
   "cell_type": "code",
   "execution_count": null,
   "metadata": {},
   "outputs": [],
   "source": []
  }
 ],
 "metadata": {
  "kernelspec": {
   "display_name": "Python [conda env:symptemist]",
   "language": "python",
   "name": "conda-env-symptemist-py"
  },
  "language_info": {
   "codemirror_mode": {
    "name": "ipython",
    "version": 3
   },
   "file_extension": ".py",
   "mimetype": "text/x-python",
   "name": "python",
   "nbconvert_exporter": "python",
   "pygments_lexer": "ipython3",
   "version": "3.10.13"
  }
 },
 "nbformat": 4,
 "nbformat_minor": 4
}
